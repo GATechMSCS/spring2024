{
 "cells": [
  {
   "cell_type": "code",
   "execution_count": null,
   "metadata": {},
   "outputs": [],
   "source": [
    "import pandas as pd\n",
    "import numpy as np\n",
    "import seaborn as sns\n",
    "import matplotlib.pyplot as plt\n",
    "from bettermdptools.utils.plots import Plots\n",
    "from fl_plots import (fl_heatmap, fl_statevalues_iters, fl_policy_map)"
   ]
  },
  {
   "cell_type": "markdown",
   "metadata": {},
   "source": [
    "$$\n",
    "\\textbf{Frozen Lake 16x16}\\\\~\\\\\n",
    "\\textbf{Q Learning}\\\\\n",
    "\\textbf{Gamma}\n",
    "$$"
   ]
  },
  {
   "cell_type": "code",
   "execution_count": null,
   "metadata": {},
   "outputs": [],
   "source": [
    "ql_fl_L_gamma9 = pd.read_csv(\"csv/fl_L/qlearning/ql_fl_L_gamma9.csv\")\n",
    "ql_fl_L_gamma99 = pd.read_csv(\"csv/fl_L/qlearning/ql_fl_L_gamma99.csv\")\n",
    "ql_fl_L_gamma999 = pd.read_csv(\"csv/fl_L/qlearning/ql_fl_L_gamma999.csv\")"
   ]
  },
  {
   "cell_type": "markdown",
   "metadata": {},
   "source": [
    "$$\n",
    "\\textbf{Q Learning}\\\\\n",
    "\\textbf{Epsilon Decay Ratio}\n",
    "$$"
   ]
  },
  {
   "cell_type": "code",
   "execution_count": null,
   "metadata": {},
   "outputs": [],
   "source": [
    "ql_fl_L_edr8 = pd.read_csv(\"csv/fl_L/qlearning/ql_fl_L_edr8.csv\")\n",
    "ql_fl_L_edr99 = pd.read_csv(\"csv/fl_L/qlearning/ql_fl_L_edr99.csv\")\n",
    "ql_fl_L_edr999 = pd.read_csv(\"csv/fl_L/qlearning/ql_fl_L_edr999.csv\")"
   ]
  },
  {
   "cell_type": "markdown",
   "metadata": {},
   "source": [
    "$$\n",
    "\\textbf{Q Learning}\\\\\n",
    "\\textbf{Init Alpha}\n",
    "$$"
   ]
  },
  {
   "cell_type": "code",
   "execution_count": null,
   "metadata": {},
   "outputs": [],
   "source": [
    "ql_fl_L_alpha3 = pd.read_csv(\"csv/fl_L/qlearning/ql_fl_L_alpha3.csv\")\n",
    "ql_fl_L_alpha5 = pd.read_csv(\"csv/fl_L/qlearning/ql_fl_L_alpha5.csv\")\n",
    "ql_fl_L_alpha7 = pd.read_csv(\"csv/fl_L/qlearning/ql_fl_L_alpha7.csv\")"
   ]
  },
  {
   "cell_type": "markdown",
   "metadata": {},
   "source": [
    "$$\n",
    "\\textbf{Policy Iteration}\\\\\n",
    "\\textbf{Gamma}\n",
    "$$"
   ]
  },
  {
   "cell_type": "code",
   "execution_count": null,
   "metadata": {},
   "outputs": [],
   "source": [
    "fl_L_pi_gam9 = pd.read_csv(\"csv/fl_L/pi/fl_L_pi_gam9.csv\")\n",
    "fl_L_pi_gam99 = pd.read_csv(\"csv/fl_L/pi/fl_L_pi_gam99.csv\")\n",
    "fl_L_pi_gam999 = pd.read_csv(\"csv/fl_L/pi/fl_L_pi_gam999.csv\")"
   ]
  },
  {
   "cell_type": "markdown",
   "metadata": {},
   "source": [
    "$$\n",
    "\\textbf{Policy Iteration}\\\\\n",
    "\\textbf{Theta}\n",
    "$$"
   ]
  },
  {
   "cell_type": "code",
   "execution_count": null,
   "metadata": {},
   "outputs": [],
   "source": [
    "fl_L_pi_theta5 = pd.read_csv(\"csv/fl_L/pi/fl_L_pi_theta5.csv\")\n",
    "fl_L_pi_theta7 = pd.read_csv(\"csv/fl_L/pi/fl_L_pi_theta7.csv\")\n",
    "fl_L_pi_theta9 = pd.read_csv(\"csv/fl_L/pi/fl_L_pi_theta9.csv\")"
   ]
  },
  {
   "cell_type": "markdown",
   "metadata": {},
   "source": [
    "$$\n",
    "\\textbf{Value Iteration}\\\\\n",
    "\\textbf{Gamma}\n",
    "$$"
   ]
  },
  {
   "cell_type": "code",
   "execution_count": null,
   "metadata": {},
   "outputs": [],
   "source": [
    "fl_L_vi_gam9 = pd.read_csv(\"csv/fl_L/vi/fl_L_vi_gam9.csv\")\n",
    "fl_L_vi_gam99= pd.read_csv(\"csv/fl_L/vi/fl_L_vi_gam99.csv\")\n",
    "fl_L_vi_gam999 = pd.read_csv(\"csv/fl_L/vi/fl_L_vi_gam999.csv\")"
   ]
  },
  {
   "cell_type": "markdown",
   "metadata": {},
   "source": [
    "$$\n",
    "\\textbf{Value Iteration}\\\\\n",
    "\\textbf{Theta}\n",
    "$$"
   ]
  },
  {
   "cell_type": "code",
   "execution_count": null,
   "metadata": {},
   "outputs": [],
   "source": [
    "fl_L_vi_theta5 = pd.read_csv(\"csv/fl_L/vi/fl_L_vi_theta5.csv\")\n",
    "fl_L_vi_theta7 = pd.read_csv(\"csv/fl_L/vi/fl_L_vi_theta7.csv\")\n",
    "fl_L_vi_theta9 = pd.read_csv(\"csv/fl_L/vi/fl_L_vi_theta9.csv\")"
   ]
  },
  {
   "cell_type": "markdown",
   "metadata": {},
   "source": [
    "$$\n",
    "\\textbf{Q Learning}\\\\\n",
    "\\textbf{Final}\n",
    "$$"
   ]
  },
  {
   "cell_type": "code",
   "execution_count": null,
   "metadata": {},
   "outputs": [],
   "source": [
    "fl_L_ql_final = pd.read_csv(\"csv/fl_L/qlearning/results_ql_final.csv\")\n",
    "fl_L_ql_final_V = fl_L_ql_final['V'][:256]\n",
    "fl_L_ql_final_pi = fl_L_ql_final['pi'][:256]\n",
    "fl_L_ql_final_cs = fl_L_ql_final['cumulative_sum']\n",
    "fl_L_ql_final_er = fl_L_ql_final['episode_rewards']\n",
    "fl_L_ql_final_aer = fl_L_ql_final['average_episode_rewards'][0]\n",
    "fl_L_ql_meanv = pd.read_csv(\"csv/fl_L/qlearning/MeanV.csv\")\n",
    "fl_L_ql_mean_delta_v = pd.read_csv(\"csv/fl_L/qlearning/results_mean_delta_v.csv\")\n",
    "fl_L_ql_v_track = pd.read_csv(\"csv/fl_L/qlearning/results_v_track.csv\")\n",
    "\n",
    "pi_ql = np.array(fl_L_ql_final_pi)\n",
    "MeanV_ql = np.array(fl_L_ql_meanv['0'])\n",
    "mean_delta_v_ql = np.array(fl_L_ql_mean_delta_v['0'])\n",
    "V_track_ql = np.array(fl_L_ql_v_track.iloc[:, 1:])"
   ]
  },
  {
   "cell_type": "code",
   "execution_count": null,
   "metadata": {},
   "outputs": [],
   "source": [
    "size = (16, 16)\n",
    "\n",
    "Plots.values_heat_map(title=\"Frozen Lake\\nValue Iteration State Values\", size=size, data=np.array(fl_L_ql_final_V))\n",
    "\n",
    "fl_actions = {0: \"←\", 1: \"↓\", 2: \"→\", 3: \"↑\"}\n",
    "title=\"FL Mapped Policy\\nArrows represent best action\"\n",
    "val_max, policy_map = Plots.get_policy_map(pi=pi_ql, val_max=np.array(fl_L_ql_final_V), actions=fl_actions, map_size=size)\n",
    "Plots.plot_policy(val_max=val_max, directions=policy_map, map_size=size, title=title)\n",
    "\n",
    "max_value_per_iter = np.trim_zeros(np.mean(V_track_ql, axis=1), 'b')\n",
    "Plots.v_iters_plot(max_value_per_iter, \"Frozen Lake\\nMean Value v Iterations\")\n",
    "\n",
    "plt.plot(mean_delta_v_ql)\n",
    "plt.xlabel('Episode')\n",
    "plt.ylabel('Mean Delta V')\n",
    "plt.title('Convergence of V-values (V_track)')\n",
    "plt.show()"
   ]
  },
  {
   "cell_type": "markdown",
   "metadata": {},
   "source": [
    "$$\n",
    "\\textbf{Policy Iteration}\\\\\n",
    "\\textbf{Final}\n",
    "$$"
   ]
  },
  {
   "cell_type": "code",
   "execution_count": null,
   "metadata": {},
   "outputs": [],
   "source": [
    "fl_L_pi_final = pd.read_csv(\"csv/fl_L/pi/results_pi_final.csv\")\n",
    "fl_L_pi_final_V = fl_L_pi_final['V'][:256]\n",
    "fl_L_pi_final_pi = fl_L_pi_final['pi'][:256]\n",
    "fl_L_pi_final_cs = fl_L_pi_final['cumulative_sum']\n",
    "fl_L_pi_final_er = fl_L_pi_final['episode_rewards']\n",
    "fl_L_pi_final_aer = fl_L_pi_final['average_episode_rewards'][0]\n",
    "\n",
    "fl_L_pi_meanv = pd.read_csv(\"csv/fl_L/pi/MeanV.csv\")\n",
    "fl_L_pi_mean_delta_v = pd.read_csv(\"csv/fl_L/pi/results_mean_delta_v.csv\")\n",
    "fl_L_pi_v_track = pd.read_csv(\"csv/fl_L/pi/results_v_track.csv\")\n",
    "\n",
    "pi_pi = np.array(fl_L_pi_final_pi)\n",
    "MeanV_pi = np.array(fl_L_pi_meanv['0'])\n",
    "mean_delta_v_pi = np.array(fl_L_pi_mean_delta_v['0'])\n",
    "V_track_pi = np.array(fl_L_pi_v_track.iloc[:, 1:])"
   ]
  },
  {
   "cell_type": "code",
   "execution_count": null,
   "metadata": {},
   "outputs": [],
   "source": [
    "size = (16, 16)\n",
    "\n",
    "Plots.values_heat_map(title=\"Frozen Lake\\nValue Iteration State Values\", size=size, data=np.array(fl_L_pi_final_V))\n",
    "\n",
    "fl_actions = {0: \"←\", 1: \"↓\", 2: \"→\", 3: \"↑\"}\n",
    "title=\"FL Mapped Policy\\nArrows represent best action\"\n",
    "val_max, policy_map = Plots.get_policy_map(pi=pi_pi, val_max=np.array(fl_L_pi_final_V), actions=fl_actions, map_size=size)\n",
    "Plots.plot_policy(val_max=val_max, directions=policy_map, map_size=size, title=title)\n",
    "\n",
    "max_value_per_iter = np.trim_zeros(np.mean(V_track_pi, axis=1), 'b')\n",
    "Plots.v_iters_plot(max_value_per_iter, \"Frozen Lake\\nMean Value v Iterations\")\n",
    "\n",
    "plt.plot(mean_delta_v_pi)\n",
    "plt.xlabel('Episode')\n",
    "plt.ylabel('Mean Delta V')\n",
    "plt.title('Convergence of V-values (V_track)')\n",
    "plt.show()"
   ]
  },
  {
   "cell_type": "markdown",
   "metadata": {},
   "source": [
    "$$\n",
    "\\textbf{Value Iteration}\\\\\n",
    "\\textbf{Final}\n",
    "$$"
   ]
  },
  {
   "cell_type": "code",
   "execution_count": null,
   "metadata": {},
   "outputs": [],
   "source": [
    "fl_L_vi_final = pd.read_csv(\"csv/fl_L/vi/results_vi_final.csv\")\n",
    "fl_L_vi_final_V = fl_L_vi_final['V'][:256]\n",
    "fl_L_vi_final_pi = fl_L_vi_final['pi'][:256]\n",
    "fl_L_vi_final_cs = fl_L_vi_final['cumulative_sum']\n",
    "fl_L_vi_final_er = fl_L_vi_final['episode_rewards']\n",
    "fl_L_vi_final_aer = fl_L_vi_final['average_episode_rewards'][0]\n",
    "\n",
    "fl_L_vi_meanv = pd.read_csv(\"csv/fl_L/vi/MeanV.csv\")\n",
    "fl_L_vi_mean_delta_v = pd.read_csv(\"csv/fl_L/vi/results_mean_delta_v.csv\")\n",
    "fl_L_vi_v_track = pd.read_csv(\"csv/fl_L/vi/results_v_track.csv\")\n",
    "\n",
    "pi_vi = np.array(fl_L_vi_final_pi)\n",
    "MeanV_vi = np.array(fl_L_vi_meanv['0'])\n",
    "mean_delta_v_vi = np.array(fl_L_vi_mean_delta_v['0'])\n",
    "V_track_vi = np.array(fl_L_vi_v_track.iloc[:, 1:])"
   ]
  },
  {
   "cell_type": "code",
   "execution_count": null,
   "metadata": {},
   "outputs": [],
   "source": [
    "size = (16, 16)\n",
    "\n",
    "Plots.values_heat_map(title=\"Frozen Lake\\nValue Iteration State Values\", size=size, data=np.array(fl_L_vi_final_V))\n",
    "\n",
    "fl_actions = {0: \"←\", 1: \"↓\", 2: \"→\", 3: \"↑\"}\n",
    "title=\"FL Mapped Policy\\nArrows represent best action\"\n",
    "val_max, policy_map = Plots.get_policy_map(pi=pi_vi, val_max=np.array(fl_L_vi_final_V), actions=fl_actions, map_size=size)\n",
    "Plots.plot_policy(val_max=val_max, directions=policy_map, map_size=size, title=title)\n",
    "\n",
    "max_value_per_iter = np.trim_zeros(np.mean(V_track_vi, axis=1), 'b')\n",
    "Plots.v_iters_plot(max_value_per_iter, \"Frozen Lake\\nMean Value v Iterations\")\n",
    "\n",
    "plt.plot(mean_delta_v_vi)\n",
    "plt.xlabel('Episode')\n",
    "plt.ylabel('Mean Delta V')\n",
    "plt.title('Convergence of V-values (V_track)')\n",
    "plt.show()"
   ]
  },
  {
   "cell_type": "code",
   "execution_count": null,
   "metadata": {},
   "outputs": [],
   "source": []
  }
 ],
 "metadata": {
  "kernelspec": {
   "display_name": "mlmdp",
   "language": "python",
   "name": "python3"
  },
  "language_info": {
   "codemirror_mode": {
    "name": "ipython",
    "version": 3
   },
   "file_extension": ".py",
   "mimetype": "text/x-python",
   "name": "python",
   "nbconvert_exporter": "python",
   "pygments_lexer": "ipython3",
   "version": "3.12.2"
  }
 },
 "nbformat": 4,
 "nbformat_minor": 2
}
