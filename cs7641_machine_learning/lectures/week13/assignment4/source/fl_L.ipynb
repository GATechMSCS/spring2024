{
 "cells": [
  {
   "cell_type": "code",
   "execution_count": 1,
   "metadata": {},
   "outputs": [],
   "source": [
    "import pandas as pd\n",
    "import numpy as np\n",
    "import seaborn as sns\n",
    "import matplotlib.pyplot as plt\n",
    "from bettermdptools.utils.plots import Plots"
   ]
  },
  {
   "cell_type": "markdown",
   "metadata": {},
   "source": [
    "$$\n",
    "\\textbf{Frozen Lake 16x16}\\\\~\\\\\n",
    "\\textbf{Q Learning}\\\\\n",
    "\\textbf{Gamma}\n",
    "$$"
   ]
  },
  {
   "cell_type": "code",
   "execution_count": 18,
   "metadata": {},
   "outputs": [],
   "source": [
    "ql_fl_L_gamma9 = pd.read_csv(\"csv/fl_L/qlearning/ql_fl_L_gamma9.csv\")\n",
    "ql_fl_L_gamma99 = pd.read_csv(\"csv/fl_L/qlearning/ql_fl_L_gamma99.csv\")\n",
    "ql_fl_L_gamma999 = pd.read_csv(\"csv/fl_L/qlearning/ql_fl_L_gamma999.csv\")\n",
    "ql_fl_L_gamma_best = ql_fl_L_gamma9['average_episode_rewards'][0]"
   ]
  },
  {
   "cell_type": "markdown",
   "metadata": {},
   "source": [
    "$$\n",
    "\\textbf{Q Learning}\\\\\n",
    "\\textbf{Epsilon Decay Ratio}\n",
    "$$"
   ]
  },
  {
   "cell_type": "code",
   "execution_count": 19,
   "metadata": {},
   "outputs": [],
   "source": [
    "ql_fl_L_edr8 = pd.read_csv(\"csv/fl_L/qlearning/ql_fl_L_edr8.csv\")\n",
    "ql_fl_L_edr99 = pd.read_csv(\"csv/fl_L/qlearning/ql_fl_L_edr99.csv\")\n",
    "ql_fl_L_edr999 = pd.read_csv(\"csv/fl_L/qlearning/ql_fl_L_edr999.csv\")\n",
    "\n",
    "ql_fl_L_edr_best = ql_fl_L_edr8['average_episode_rewards'][0]"
   ]
  },
  {
   "cell_type": "markdown",
   "metadata": {},
   "source": [
    "$$\n",
    "\\textbf{Q Learning}\\\\\n",
    "\\textbf{Init Alpha}\n",
    "$$"
   ]
  },
  {
   "cell_type": "code",
   "execution_count": 20,
   "metadata": {},
   "outputs": [],
   "source": [
    "ql_fl_L_alpha3 = pd.read_csv(\"csv/fl_L/qlearning/ql_fl_L_alpha3.csv\")\n",
    "ql_fl_L_alpha5 = pd.read_csv(\"csv/fl_L/qlearning/ql_fl_L_alpha5.csv\")\n",
    "ql_fl_L_alpha7 = pd.read_csv(\"csv/fl_L/qlearning/ql_fl_L_alpha7.csv\")\n",
    "\n",
    "ql_fl_L_alpha_best = ql_fl_L_alpha7['average_episode_rewards'][0]"
   ]
  },
  {
   "cell_type": "markdown",
   "metadata": {},
   "source": [
    "$$\n",
    "\\textbf{Policy Iteration}\\\\\n",
    "\\textbf{Gamma}\n",
    "$$"
   ]
  },
  {
   "cell_type": "code",
   "execution_count": 25,
   "metadata": {},
   "outputs": [],
   "source": [
    "fl_L_pi_gam9 = pd.read_csv(\"csv/fl_L/pi/fl_L_pi_gam9.csv\")\n",
    "fl_L_pi_gam99 = pd.read_csv(\"csv/fl_L/pi/fl_L_pi_gam99.csv\")\n",
    "fl_L_pi_gam999 = pd.read_csv(\"csv/fl_L/pi/fl_L_pi_gam999.csv\")\n",
    "\n",
    "fl_L_pi_gam_best = fl_L_pi_gam999['average_episode_rewards'][0]"
   ]
  },
  {
   "cell_type": "markdown",
   "metadata": {},
   "source": [
    "$$\n",
    "\\textbf{Policy Iteration}\\\\\n",
    "\\textbf{Theta}\n",
    "$$"
   ]
  },
  {
   "cell_type": "code",
   "execution_count": 26,
   "metadata": {},
   "outputs": [],
   "source": [
    "fl_L_pi_theta5 = pd.read_csv(\"csv/fl_L/pi/fl_L_pi_theta5.csv\")\n",
    "fl_L_pi_theta7 = pd.read_csv(\"csv/fl_L/pi/fl_L_pi_theta7.csv\")\n",
    "fl_L_pi_theta9 = pd.read_csv(\"csv/fl_L/pi/fl_L_pi_theta9.csv\")\n",
    "\n",
    "fl_L_pi_theta_best = fl_L_pi_theta5['average_episode_rewards'][0]"
   ]
  },
  {
   "cell_type": "markdown",
   "metadata": {},
   "source": [
    "$$\n",
    "\\textbf{Value Iteration}\\\\\n",
    "\\textbf{Gamma}\n",
    "$$"
   ]
  },
  {
   "cell_type": "code",
   "execution_count": 27,
   "metadata": {},
   "outputs": [],
   "source": [
    "fl_L_vi_gam9 = pd.read_csv(\"csv/fl_L/vi/fl_L_vi_gam9.csv\")\n",
    "fl_L_vi_gam99= pd.read_csv(\"csv/fl_L/vi/fl_L_vi_gam99.csv\")\n",
    "fl_L_vi_gam999 = pd.read_csv(\"csv/fl_L/vi/fl_L_vi_gam999.csv\")\n",
    "\n",
    "fl_L_vi_gam_best = fl_L_vi_gam999['average_episode_rewards'][0]"
   ]
  },
  {
   "cell_type": "markdown",
   "metadata": {},
   "source": [
    "$$\n",
    "\\textbf{Value Iteration}\\\\\n",
    "\\textbf{Theta}\n",
    "$$"
   ]
  },
  {
   "cell_type": "code",
   "execution_count": 28,
   "metadata": {},
   "outputs": [],
   "source": [
    "fl_L_vi_theta5 = pd.read_csv(\"csv/fl_L/vi/fl_L_vi_theta5.csv\")\n",
    "fl_L_vi_theta7 = pd.read_csv(\"csv/fl_L/vi/fl_L_vi_theta7.csv\")\n",
    "fl_L_vi_theta9 = pd.read_csv(\"csv/fl_L/vi/fl_L_vi_theta9.csv\")\n",
    "\n",
    "fl_L_vi_theta_best = fl_L_vi_theta5['average_episode_rewards'][0]"
   ]
  },
  {
   "cell_type": "code",
   "execution_count": null,
   "metadata": {},
   "outputs": [],
   "source": []
  }
 ],
 "metadata": {
  "kernelspec": {
   "display_name": "mlmdp",
   "language": "python",
   "name": "python3"
  },
  "language_info": {
   "codemirror_mode": {
    "name": "ipython",
    "version": 3
   },
   "file_extension": ".py",
   "mimetype": "text/x-python",
   "name": "python",
   "nbconvert_exporter": "python",
   "pygments_lexer": "ipython3",
   "version": "3.12.2"
  }
 },
 "nbformat": 4,
 "nbformat_minor": 2
}
