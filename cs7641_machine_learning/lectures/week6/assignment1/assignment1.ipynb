{
 "cells": [
  {
   "cell_type": "markdown",
   "metadata": {},
   "source": [
    "### IMPORTS"
   ]
  },
  {
   "cell_type": "code",
   "execution_count": 8,
   "metadata": {},
   "outputs": [],
   "source": [
    "# manipulate data\n",
    "import numpy as np\n",
    "import pandas as pd\n",
    "\n",
    "# statistical tests\n",
    "import scipy as sp\n",
    "\n",
    "# visualize data\n",
    "import matplotlib.pyplot as plt\n",
    "import seaborn as sn\n",
    "\n",
    "# model preparation\n",
    "from sklearn.model_selection import (train_test_split, cross_val_score,\n",
    "                                     GridSearchCV, RandomizedSearchCV)\n",
    "\n",
    "# machine learning models\n",
    "from sklearn.neighbors import KNeighborsClassifier, KNeighborsRegressor\n",
    "from sklearn.svm import (SVC, NuSVC, LinearSVC,\n",
    "                         SVR, NuSVR, LinearSVR, OneClassSVM)\n",
    "from sklearn.tree import DecisionTreeClassifier, DecisionTreeRegressor\n",
    "from sklearn.neural_network import MLPClassifier, MLPRegressor\n",
    "\n",
    "# model evaluation\n",
    "from sklearn.metrics import (classification_report, ConfusionMatrixDisplay,\n",
    "                            RocCurveDisplay, accuracy_score, f1_score,\n",
    "                            precision_score, recall_score,\n",
    "                            mean_squared_error, r2_score, mean_absolute_error,\n",
    "                            explained_variance_score)"
   ]
  },
  {
   "cell_type": "code",
   "execution_count": null,
   "metadata": {},
   "outputs": [],
   "source": [
    "# TENSORFLOW/PYTORCH IMPORTS\n",
    "# from tensorflow.keras.layers import (Dense, Dropout, Activation, Flatten,\n",
    "#                                      Conv2D, MaxPooling2D)\n",
    "# from tensorflow.keras.preprocessing.image import ImageDataGenerator\n",
    "# from tensorflow.keras.callbacks import TensorBoard, EarlyStopping\n",
    "# from tensorflow.keras.models import Sequential\n",
    "# import tensorflow as tf\n",
    "# import pytorch as py"
   ]
  }
 ],
 "metadata": {
  "kernelspec": {
   "display_name": "ml",
   "language": "python",
   "name": "python3"
  },
  "language_info": {
   "codemirror_mode": {
    "name": "ipython",
    "version": 3
   },
   "file_extension": ".py",
   "mimetype": "text/x-python",
   "name": "python",
   "nbconvert_exporter": "python",
   "pygments_lexer": "ipython3",
   "version": "3.11.7"
  }
 },
 "nbformat": 4,
 "nbformat_minor": 2
}
