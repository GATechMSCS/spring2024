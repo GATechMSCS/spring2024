{
 "cells": [
  {
   "cell_type": "code",
   "execution_count": null,
   "metadata": {},
   "outputs": [],
   "source": [
    "from create_env_gs import (make_env, run_ql_search, run_pi_search, run_vi_search)\n",
    "import pandas as pd\n",
    "import numpy as np\n",
    "import seaborn as sns\n",
    "import matplotlib.pyplot as plt\n",
    "from gymnasium.spaces import Tuple, Discrete\n",
    "\n",
    "seed = 123\n",
    "np.random.seed(seed)\n",
    "\n",
    "# make environments\n",
    "mdp_fl_L = 'FrozenLake8x8-v1'\n",
    "size_fl_L = 16\n",
    "is_slippery_fl_L = True\n",
    "render_mode_fl_L = 'ansi'\n",
    "prob_frozen_fl_L = 0.9\n",
    "ep_steps_fl_L = 400\n",
    "frozenlakeL = make_env(mdp=mdp_fl_L, \n",
    "                      size=size_fl_L, \n",
    "                      slip=is_slippery_fl_L,\n",
    "                      render=render_mode_fl_L,\n",
    "                      prob_frozen=prob_frozen_fl_L,\n",
    "                      seed=seed,\n",
    "                      ep_steps=ep_steps_fl_L)\n",
    "\n",
    "mdp_fl_S = 'FrozenLake-v1'\n",
    "size_fl_S = 4\n",
    "is_slippery_fl_S = True\n",
    "render_mode_fl_S = 'ansi'\n",
    "prob_frozen_fl_S = 0.9\n",
    "ep_steps_fl_S = 100\n",
    "frozenlakeS = make_env(mdp=mdp_fl_S, \n",
    "                      size=size_fl_S, \n",
    "                      slip=is_slippery_fl_S,\n",
    "                      render=render_mode_fl_S,\n",
    "                      prob_frozen=prob_frozen_fl_S,\n",
    "                      seed=seed,\n",
    "                      ep_steps=ep_steps_fl_S)\n",
    "\n",
    "\n",
    "mdp_bj = 'Blackjack-v1'\n",
    "render_mode_bj = None #'rgb_array'\n",
    "size_bj = Tuple([Discrete(32), Discrete(11), Discrete(2)])\n",
    "ep_steps_bj = 100\n",
    "blackjack = make_env(mdp=mdp_bj,\n",
    "                     size=size_bj,\n",
    "                     slip=None,\n",
    "                     render=render_mode_bj,\n",
    "                     seed=seed,\n",
    "                     prob_frozen=None,\n",
    "                     ep_steps=ep_steps_bj)\n",
    "\n",
    "# FL 16x16\n",
    "# QL\n",
    "iters_ql_fl_L = 2000\n",
    "gamma_ql_fl_L = [0.90, 0.99, 0.999]\n",
    "epsilon_decay_ql_fl_L = [0.80, 0.90, 0.99]\n",
    "init_alpha_ql_fl_L = [0.30, 0.50, 0.70]\n",
    "\n",
    "# PI\n",
    "iters_pi_fl_L = 1000\n",
    "gamma_pi_fl_L = [0.90, 0.99, 0.999]\n",
    "theta_pi_fl_L = [1e-5, 1e-7, 1e-9]\n",
    "\n",
    "# VI\n",
    "iters_vi_fl_L = 1000\n",
    "gamma_vi_fl_L = [0.90, 0.99, 0.999]\n",
    "theta_vi_fl_L = [1e-5, 1e-7, 1e-9]\n",
    "\n",
    "# FL 4x4\n",
    "# QL\n",
    "iters_ql_fl_S = 2000\n",
    "gamma_ql_fl_S = [0.90, 0.99, 0.999]\n",
    "epsilon_decay_ql_fl_S = [0.80, 0.90, 0.99]\n",
    "init_alpha_ql_fl_S = [0.30, 0.50, 0.70]\n",
    "\n",
    "# PI\n",
    "iters_pi_fl_S = 1000\n",
    "gamma_pi_fl_S = [0.90, 0.99, 0.999]\n",
    "theta_pi_fl_S = [1e-5, 1e-7, 1e-9]\n",
    "\n",
    "# VI\n",
    "iters_vi_fl_S = 1000\n",
    "gamma_vi_fl_S = [0.90, 0.99, 0.999]\n",
    "theta_vi_fl_S = [1e-5, 1e-7, 1e-9]\n",
    "\n",
    "# BJ\n",
    "# QL\n",
    "iters_ql_bj = 2000\n",
    "gamma_ql_bj = [0.90, 0.99, 0.999]\n",
    "epsilon_decay_ql_bj_edr = [0.90, 0.99, 0.999]\n",
    "init_alpha_ql_bj = [0.30, 0.50, 0.70]\n",
    "\n",
    "# PI\n",
    "iters_pi_bj = 1000\n",
    "gamma_pi_bj = [0.90, 0.99, 0.999]\n",
    "theta_pi_bj = [1e-5, 1e-7, 1e-9]\n",
    "\n",
    "# VI\n",
    "iters_vi_bj = 1000\n",
    "gamma_vi_bj = [0.90, 0.99, 0.999]\n",
    "theta_vi_bj = [1e-5, 1e-7, 1e-9]"
   ]
  },
  {
   "cell_type": "markdown",
   "metadata": {},
   "source": [
    "$$\n",
    "\\textbf{Frozen Lake 16x16}\\\\~\\\\\n",
    "\\textbf{Q Learning}\\\\\n",
    "\\textbf{Gamma}\n",
    "$$"
   ]
  },
  {
   "cell_type": "code",
   "execution_count": null,
   "metadata": {},
   "outputs": [],
   "source": [
    "ql_fl_L_gamma = run_ql_search(process=frozenlakeL,\n",
    "                        gamma=gamma_ql_fl_L,\n",
    "                        n_episodes=iters_ql_fl_L)\n",
    "ql_fl_L_gamma.keys()"
   ]
  },
  {
   "cell_type": "markdown",
   "metadata": {},
   "source": [
    "$$\n",
    "\\textbf{Q Learning}\\\\\n",
    "\\textbf{Epsilon Decay Ratio}\n",
    "$$"
   ]
  },
  {
   "cell_type": "code",
   "execution_count": null,
   "metadata": {},
   "outputs": [],
   "source": [
    "ql_fl_L_edr = run_ql_search(process=frozenlakeL,\n",
    "                        epsilon_decay_ratio=epsilon_decay_ql_fl_L,\n",
    "                        n_episodes=iters_ql_fl_L)\n",
    "ql_fl_L_edr.keys()"
   ]
  },
  {
   "cell_type": "markdown",
   "metadata": {},
   "source": [
    "$$\n",
    "\\textbf{Q Learning}\\\\\n",
    "\\textbf{Init Alpha}\n",
    "$$"
   ]
  },
  {
   "cell_type": "code",
   "execution_count": null,
   "metadata": {},
   "outputs": [],
   "source": [
    "ql_fl_L_alpha = run_ql_search(process=frozenlakeL,\n",
    "                        init_alpha=init_alpha_ql_fl_L,\n",
    "                        n_episodes=iters_ql_fl_L)\n",
    "ql_fl_L_alpha.keys()"
   ]
  },
  {
   "cell_type": "markdown",
   "metadata": {},
   "source": [
    "$$\n",
    "\\textbf{Policy Iteration}\\\\\n",
    "\\textbf{Gamma}\n",
    "$$"
   ]
  },
  {
   "cell_type": "code",
   "execution_count": null,
   "metadata": {},
   "outputs": [],
   "source": [
    "fl_L_pi_gam = run_pi_search(process=frozenlakeL,\n",
    "                  gamma=gamma_pi_fl_L,\n",
    "                  n_iters=iters_pi_fl_L)\n",
    "fl_L_pi_gam.keys()"
   ]
  },
  {
   "cell_type": "markdown",
   "metadata": {},
   "source": [
    "$$\n",
    "\\textbf{Policy Iteration}\\\\\n",
    "\\textbf{Theta}\n",
    "$$"
   ]
  },
  {
   "cell_type": "code",
   "execution_count": null,
   "metadata": {},
   "outputs": [],
   "source": [
    "fl_L_pi_theta = run_pi_search(process=frozenlakeL,\n",
    "                  theta=theta_pi_fl_L,\n",
    "                  n_iters=iters_pi_fl_L)\n",
    "fl_L_pi_theta.keys()"
   ]
  },
  {
   "cell_type": "markdown",
   "metadata": {},
   "source": [
    "$$\n",
    "\\textbf{Value Iteration}\\\\\n",
    "\\textbf{Gamma}\n",
    "$$"
   ]
  },
  {
   "cell_type": "code",
   "execution_count": null,
   "metadata": {},
   "outputs": [],
   "source": [
    "fl_L_vi_gam = run_vi_search(process=frozenlakeL,\n",
    "                  gamma=gamma_vi_fl_L,\n",
    "                  n_iters=iters_vi_fl_L)\n",
    "fl_L_vi_gam.keys()"
   ]
  },
  {
   "cell_type": "markdown",
   "metadata": {},
   "source": [
    "$$\n",
    "\\textbf{Value Iteration}\\\\\n",
    "\\textbf{Theta}\n",
    "$$"
   ]
  },
  {
   "cell_type": "code",
   "execution_count": null,
   "metadata": {},
   "outputs": [],
   "source": [
    "fl_L_vi_theta = run_vi_search(process=frozenlakeL,\n",
    "                  theta=theta_vi_fl_L,\n",
    "                  n_iters=iters_vi_fl_L)\n",
    "fl_L_vi_theta.keys()"
   ]
  },
  {
   "cell_type": "markdown",
   "metadata": {},
   "source": [
    "$$\n",
    "\\textbf{Frozen Lake 4x4}\\\\~\\\\\n",
    "\\textbf{Q Learning}\\\\\n",
    "\\textbf{Gamma}\n",
    "$$"
   ]
  },
  {
   "cell_type": "code",
   "execution_count": null,
   "metadata": {},
   "outputs": [],
   "source": [
    "ql_fl_S_gamma = run_ql_search(process=frozenlakeS,\n",
    "                        gamma=gamma_ql_fl_S,\n",
    "                        n_episodes=iters_ql_fl_S)\n",
    "ql_fl_S_gamma.keys()"
   ]
  },
  {
   "cell_type": "markdown",
   "metadata": {},
   "source": [
    "$$\n",
    "\\textbf{Q Learning}\\\\\n",
    "\\textbf{Epsilon Decay Ratio}\n",
    "$$"
   ]
  },
  {
   "cell_type": "code",
   "execution_count": null,
   "metadata": {},
   "outputs": [],
   "source": [
    "ql_fl_S_edr = run_ql_search(process=frozenlakeS,\n",
    "                        epsilon_decay_ratio=epsilon_decay_ql_fl_S,\n",
    "                        n_episodes=iters_ql_fl_S)\n",
    "ql_fl_S_edr.keys()"
   ]
  },
  {
   "cell_type": "markdown",
   "metadata": {},
   "source": [
    "$$\n",
    "\\textbf{Q Learning}\\\\\n",
    "\\textbf{Init Alpha}\n",
    "$$"
   ]
  },
  {
   "cell_type": "code",
   "execution_count": null,
   "metadata": {},
   "outputs": [],
   "source": [
    "ql_fl_S_alpha = run_ql_search(process=frozenlakeS,\n",
    "                        init_alpha=init_alpha_ql_fl_S,\n",
    "                        n_episodes=iters_ql_fl_S)\n",
    "ql_fl_S_alpha.keys()"
   ]
  },
  {
   "cell_type": "markdown",
   "metadata": {},
   "source": [
    "$$\n",
    "\\textbf{Policy Iteration}\\\\\n",
    "\\textbf{Gamma}\n",
    "$$"
   ]
  },
  {
   "cell_type": "code",
   "execution_count": null,
   "metadata": {},
   "outputs": [],
   "source": [
    "fl_S_pi_gam = run_pi_search(process=frozenlakeS,\n",
    "                  gamma=gamma_pi_fl_S,\n",
    "                  n_iters=iters_pi_fl_S)\n",
    "fl_S_pi_gam.keys()"
   ]
  },
  {
   "cell_type": "markdown",
   "metadata": {},
   "source": [
    "$$\n",
    "\\textbf{Policy Iteration}\\\\\n",
    "\\textbf{Theta}\n",
    "$$"
   ]
  },
  {
   "cell_type": "code",
   "execution_count": null,
   "metadata": {},
   "outputs": [],
   "source": [
    "fl_S_pi_theta = run_pi_search(process=frozenlakeS,\n",
    "                  theta=theta_pi_fl_S,\n",
    "                  n_iters=iters_pi_fl_S)\n",
    "fl_S_pi_theta.keys()"
   ]
  },
  {
   "cell_type": "markdown",
   "metadata": {},
   "source": [
    "$$\n",
    "\\textbf{Value Iteration}\\\\\n",
    "\\textbf{Gamma}\n",
    "$$"
   ]
  },
  {
   "cell_type": "code",
   "execution_count": null,
   "metadata": {},
   "outputs": [],
   "source": [
    "fl_S_vi_gam = run_vi_search(process=frozenlakeS,\n",
    "                  gamma=gamma_vi_fl_S,\n",
    "                  n_iters=iters_vi_fl_S)\n",
    "fl_S_vi_gam.keys()"
   ]
  },
  {
   "cell_type": "markdown",
   "metadata": {},
   "source": [
    "$$\n",
    "\\textbf{Value Iteration}\\\\\n",
    "\\textbf{Theta}\n",
    "$$"
   ]
  },
  {
   "cell_type": "code",
   "execution_count": null,
   "metadata": {},
   "outputs": [],
   "source": [
    "fl_S_vi_theta = run_vi_search(process=frozenlakeS,\n",
    "                  theta=theta_vi_fl_S,\n",
    "                  n_iters=iters_vi_fl_S)\n",
    "fl_S_vi_theta.keys()"
   ]
  },
  {
   "cell_type": "markdown",
   "metadata": {},
   "source": [
    "$$\n",
    "\\textbf{Blackjack}\\\\~\\\\\n",
    "\\textbf{Q Learning}\\\\\n",
    "\\textbf{Gamma}\n",
    "$$"
   ]
  },
  {
   "cell_type": "code",
   "execution_count": null,
   "metadata": {},
   "outputs": [],
   "source": [
    "q_bj_gamma = run_ql_search(process=blackjack,\n",
    "                        gamma=gamma_ql_bj,\n",
    "                        n_episodes=iters_ql_bj)\n",
    "q_bj_gamma.keys()"
   ]
  },
  {
   "cell_type": "markdown",
   "metadata": {},
   "source": [
    "$$\n",
    "\\textbf{Q Learning}\\\\\n",
    "\\textbf{Epsilon Decay Ratio}\n",
    "$$"
   ]
  },
  {
   "cell_type": "code",
   "execution_count": null,
   "metadata": {},
   "outputs": [],
   "source": [
    "ql_bj_edr = run_ql_search(process=blackjack,\n",
    "                        epsilon_decay_ratio=epsilon_decay_ql_bj_edr,\n",
    "                        n_episodes=iters_ql_bj)\n",
    "ql_bj_edr.keys()"
   ]
  },
  {
   "cell_type": "markdown",
   "metadata": {},
   "source": [
    "$$\n",
    "\\textbf{Q Learning}\\\\\n",
    "\\textbf{Init Alpha}\n",
    "$$"
   ]
  },
  {
   "cell_type": "code",
   "execution_count": null,
   "metadata": {},
   "outputs": [],
   "source": [
    "ql_bj_alpha = run_ql_search(process=blackjack,\n",
    "                        init_alpha=init_alpha_ql_bj,\n",
    "                        n_episodes=iters_ql_bj)\n",
    "ql_bj_alpha.keys()"
   ]
  },
  {
   "cell_type": "markdown",
   "metadata": {},
   "source": [
    "$$\n",
    "\\textbf{Policy Iteration}\\\\\n",
    "\\textbf{Gamma}\n",
    "$$"
   ]
  },
  {
   "cell_type": "code",
   "execution_count": null,
   "metadata": {},
   "outputs": [],
   "source": [
    "bj_pi_gamma = run_pi_search(process=blackjack,\n",
    "                  gamma=gamma_pi_bj,\n",
    "                  n_iters=iters_pi_bj)\n",
    "bj_pi_gamma.keys()"
   ]
  },
  {
   "cell_type": "markdown",
   "metadata": {},
   "source": [
    "$$\n",
    "\\textbf{Policy Iteration}\\\\\n",
    "\\textbf{Theta}\n",
    "$$"
   ]
  },
  {
   "cell_type": "code",
   "execution_count": null,
   "metadata": {},
   "outputs": [],
   "source": [
    "bj_pi_theta = run_pi_search(process=blackjack,\n",
    "                  theta=theta_pi_bj,\n",
    "                  n_iters=iters_pi_bj)\n",
    "bj_pi_theta.keys()"
   ]
  },
  {
   "cell_type": "markdown",
   "metadata": {},
   "source": [
    "$$\n",
    "\\textbf{Value Iteration}\\\\\n",
    "\\textbf{Gamma}\n",
    "$$"
   ]
  },
  {
   "cell_type": "code",
   "execution_count": null,
   "metadata": {},
   "outputs": [],
   "source": [
    "bj_vi_gamma = run_vi_search(process=blackjack,\n",
    "                  gamma=gamma_vi_bj,\n",
    "                  n_iters=iters_vi_bj)\n",
    "bj_vi_gamma.keys()"
   ]
  },
  {
   "cell_type": "markdown",
   "metadata": {},
   "source": [
    "$$\n",
    "\\textbf{Value Iteration}\\\\\n",
    "\\textbf{Theta}\n",
    "$$"
   ]
  },
  {
   "cell_type": "code",
   "execution_count": null,
   "metadata": {},
   "outputs": [],
   "source": [
    "bj_vi_theta = run_vi_search(process=blackjack,\n",
    "                  theta=theta_vi_bj,\n",
    "                  n_iters=iters_vi_bj)\n",
    "bj_vi_theta.keys()"
   ]
  }
 ],
 "metadata": {
  "kernelspec": {
   "display_name": "mlmdp",
   "language": "python",
   "name": "python3"
  },
  "language_info": {
   "codemirror_mode": {
    "name": "ipython",
    "version": 3
   },
   "file_extension": ".py",
   "mimetype": "text/x-python",
   "name": "python",
   "nbconvert_exporter": "python",
   "pygments_lexer": "ipython3",
   "version": "3.12.2"
  }
 },
 "nbformat": 4,
 "nbformat_minor": 2
}
