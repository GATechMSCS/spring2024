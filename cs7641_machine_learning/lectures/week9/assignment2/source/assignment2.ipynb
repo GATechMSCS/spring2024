{
 "cells": [
  {
   "cell_type": "markdown",
   "metadata": {},
   "source": [
    "### IMPORTS"
   ]
  },
  {
   "cell_type": "code",
   "execution_count": 1,
   "metadata": {},
   "outputs": [],
   "source": [
    "# load and preprocess\n",
    "from wrangle import final_dataset\n",
    "\n",
    "# manipulate data\n",
    "import numpy as np\n",
    "\n",
    "# visualize data\n",
    "import matplotlib.pyplot as plt\n",
    "import seaborn as sn\n",
    "\n",
    "# model preparation\n",
    "from sklearn.model_selection import (learning_curve,\n",
    "                                     LearningCurveDisplay, \n",
    "                                     validation_curve,\n",
    "                                     ValidationCurveDisplay)\n",
    "\n",
    "# machine learning models\n",
    "import mlrose_hiive as rh\n",
    "\n",
    "# model evaluation\n",
    "from sklearn.metrics import (balanced_accuracy_score,\n",
    "                             make_scorer,\n",
    "                             recall_score,\n",
    "                             log_loss)\n",
    "\n",
    "np.random.seed(123)"
   ]
  },
  {
   "cell_type": "markdown",
   "metadata": {},
   "source": [
    "### Load, Clean, Preprocess, Scale, Baseline: Cardiovascular Disease"
   ]
  },
  {
   "cell_type": "code",
   "execution_count": 2,
   "metadata": {},
   "outputs": [
    {
     "name": "stdout",
     "output_type": "stream",
     "text": [
      "Cleaning CVD...\n",
      "CVD Clean...\n",
      "\n",
      "Splitting CVD...\n",
      "CVD Split...\n",
      "\n",
      "Scaling CVD...\n",
      "CVD Scaled...\n",
      "\n",
      "Baseline Accuracy Score: 0.51%\n",
      "\n"
     ]
    }
   ],
   "source": [
    "X_train_scaled_cd, X_test_scaled_cd, y_train_cd, y_test_cd = final_dataset(dataset='cvd')"
   ]
  },
  {
   "cell_type": "code",
   "execution_count": null,
   "metadata": {},
   "outputs": [],
   "source": []
  },
  {
   "cell_type": "markdown",
   "metadata": {},
   "source": [
    "### Load, Clean, Preprocess, Scale, Baseline: Nutrition Facts"
   ]
  },
  {
   "cell_type": "code",
   "execution_count": 3,
   "metadata": {},
   "outputs": [
    {
     "name": "stdout",
     "output_type": "stream",
     "text": [
      "Cleaning NF...\n",
      "NF Clean...\n",
      "\n",
      "Splitting NF...\n",
      "NF Split...\n",
      "\n",
      "Scaling NF...\n",
      "NF Scaled...\n",
      "\n",
      "Baseline Accuracy Score: 0.44%\n",
      "\n"
     ]
    }
   ],
   "source": [
    "X_train_scaled_nf, X_test_scaled_nf, y_train_nf, y_test_nf = final_dataset(dataset='nf')"
   ]
  },
  {
   "cell_type": "code",
   "execution_count": null,
   "metadata": {},
   "outputs": [],
   "source": []
  }
 ],
 "metadata": {
  "kernelspec": {
   "display_name": "ml",
   "language": "python",
   "name": "python3"
  },
  "language_info": {
   "codemirror_mode": {
    "name": "ipython",
    "version": 3
   },
   "file_extension": ".py",
   "mimetype": "text/x-python",
   "name": "python",
   "nbconvert_exporter": "python",
   "pygments_lexer": "ipython3",
   "version": "3.11.7"
  }
 },
 "nbformat": 4,
 "nbformat_minor": 2
}
