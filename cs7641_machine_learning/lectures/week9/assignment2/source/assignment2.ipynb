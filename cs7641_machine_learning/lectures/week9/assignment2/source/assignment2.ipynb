{
 "cells": [
  {
   "cell_type": "markdown",
   "metadata": {},
   "source": [
    "### IMPORTS"
   ]
  },
  {
   "cell_type": "code",
   "execution_count": 1,
   "metadata": {},
   "outputs": [],
   "source": [
    "# manipulate data\n",
    "import numpy as np\n",
    "import pandas as pd\n",
    "\n",
    "# visualize data\n",
    "import matplotlib.pyplot as plt\n",
    "import seaborn as sn\n",
    "\n",
    "# model preparation\n",
    "from sklearn.model_selection import (train_test_split, learning_curve,\n",
    "                                     LearningCurveDisplay, validation_curve,\n",
    "                                     ValidationCurveDisplay)\n",
    "from sklearn.preprocessing import StandardScaler\n",
    "\n",
    "# machine learning models\n",
    "import mlrose_hiive as rh\n",
    "\n",
    "# model evaluation\n",
    "from sklearn.metrics import (balanced_accuracy_score, \n",
    "                             accuracy_score, make_scorer,\n",
    "                             recall_score, log_loss)\n",
    "\n",
    "np.random.seed(123)"
   ]
  },
  {
   "cell_type": "markdown",
   "metadata": {},
   "source": [
    "### Load and Preprocess: Cardiovascular Disease"
   ]
  },
  {
   "cell_type": "code",
   "execution_count": 2,
   "metadata": {},
   "outputs": [],
   "source": [
    "file1 = \"cardio_data_processed.csv\"\n",
    "cardio_vasc = pd.read_csv(file1)"
   ]
  },
  {
   "cell_type": "code",
   "execution_count": 3,
   "metadata": {},
   "outputs": [],
   "source": [
    "# id: just an index\n",
    "# useing age_years over age\n",
    "# using weight and height instead of bmi\n",
    "# using ap_hi/lo instead of bp_category and bp_category_encoded\n",
    "cardio_cols_drop = ['id', 'age', 'bmi', 'bp_category',\n",
    "                    'bp_category_encoded', \"alco\", \"smoke\",\n",
    "                    'gender', 'gluc', 'active', 'cholesterol']\n",
    "cardio_vasc = cardio_vasc.drop(columns=cardio_cols_drop, axis=1)"
   ]
  },
  {
   "cell_type": "code",
   "execution_count": 4,
   "metadata": {},
   "outputs": [],
   "source": [
    "cardio_vasc = cardio_vasc.sample(frac=0.15)"
   ]
  },
  {
   "cell_type": "code",
   "execution_count": 5,
   "metadata": {},
   "outputs": [
    {
     "name": "stdout",
     "output_type": "stream",
     "text": [
      "<class 'pandas.core.frame.DataFrame'>\n",
      "Index: 10231 entries, 12148 to 67751\n",
      "Data columns (total 6 columns):\n",
      " #   Column     Non-Null Count  Dtype  \n",
      "---  ------     --------------  -----  \n",
      " 0   height     10231 non-null  int64  \n",
      " 1   weight     10231 non-null  float64\n",
      " 2   ap_hi      10231 non-null  int64  \n",
      " 3   ap_lo      10231 non-null  int64  \n",
      " 4   cardio     10231 non-null  int64  \n",
      " 5   age_years  10231 non-null  int64  \n",
      "dtypes: float64(1), int64(5)\n",
      "memory usage: 559.5 KB\n"
     ]
    }
   ],
   "source": [
    "cardio_vasc.info()"
   ]
  },
  {
   "cell_type": "code",
   "execution_count": 6,
   "metadata": {},
   "outputs": [
    {
     "data": {
      "text/html": [
       "<div>\n",
       "<style scoped>\n",
       "    .dataframe tbody tr th:only-of-type {\n",
       "        vertical-align: middle;\n",
       "    }\n",
       "\n",
       "    .dataframe tbody tr th {\n",
       "        vertical-align: top;\n",
       "    }\n",
       "\n",
       "    .dataframe thead th {\n",
       "        text-align: right;\n",
       "    }\n",
       "</style>\n",
       "<table border=\"1\" class=\"dataframe\">\n",
       "  <thead>\n",
       "    <tr style=\"text-align: right;\">\n",
       "      <th></th>\n",
       "      <th>height</th>\n",
       "      <th>weight</th>\n",
       "      <th>ap_hi</th>\n",
       "      <th>ap_lo</th>\n",
       "      <th>cardio</th>\n",
       "      <th>age_years</th>\n",
       "    </tr>\n",
       "  </thead>\n",
       "  <tbody>\n",
       "    <tr>\n",
       "      <th>12148</th>\n",
       "      <td>173</td>\n",
       "      <td>70.0</td>\n",
       "      <td>110</td>\n",
       "      <td>70</td>\n",
       "      <td>0</td>\n",
       "      <td>43</td>\n",
       "    </tr>\n",
       "    <tr>\n",
       "      <th>5541</th>\n",
       "      <td>168</td>\n",
       "      <td>75.0</td>\n",
       "      <td>120</td>\n",
       "      <td>80</td>\n",
       "      <td>1</td>\n",
       "      <td>51</td>\n",
       "    </tr>\n",
       "    <tr>\n",
       "      <th>40053</th>\n",
       "      <td>158</td>\n",
       "      <td>85.0</td>\n",
       "      <td>140</td>\n",
       "      <td>80</td>\n",
       "      <td>1</td>\n",
       "      <td>64</td>\n",
       "    </tr>\n",
       "  </tbody>\n",
       "</table>\n",
       "</div>"
      ],
      "text/plain": [
       "       height  weight  ap_hi  ap_lo  cardio  age_years\n",
       "12148     173    70.0    110     70       0         43\n",
       "5541      168    75.0    120     80       1         51\n",
       "40053     158    85.0    140     80       1         64"
      ]
     },
     "execution_count": 6,
     "metadata": {},
     "output_type": "execute_result"
    }
   ],
   "source": [
    "cardio_vasc.head(3)"
   ]
  },
  {
   "cell_type": "code",
   "execution_count": 7,
   "metadata": {},
   "outputs": [
    {
     "data": {
      "text/plain": [
       "cardio\n",
       "0    0.510898\n",
       "1    0.489102\n",
       "Name: count, dtype: float64"
      ]
     },
     "execution_count": 7,
     "metadata": {},
     "output_type": "execute_result"
    }
   ],
   "source": [
    "cardio_vasc['cardio'].value_counts() / len(cardio_vasc['cardio'])"
   ]
  },
  {
   "cell_type": "code",
   "execution_count": 8,
   "metadata": {},
   "outputs": [],
   "source": [
    "# split data\n",
    "cd_train, cd_test = train_test_split(cardio_vasc, test_size=.15,\n",
    "                                     random_state=123, stratify=cardio_vasc['cardio'])\n",
    "\n",
    "# get X, y\n",
    "target_col = \"cardio\"\n",
    "cols_drop = [\"cardio\"]\n",
    "X_train_cd = cd_train.drop(cols_drop, axis=1)\n",
    "X_test_cd = cd_test.drop(cols_drop, axis=1)\n",
    "y_train_cd = cd_train[target_col]\n",
    "y_test_cd = cd_test[target_col]\n",
    "\n",
    "scale = StandardScaler()\n",
    "scale.fit(X_train_cd)\n",
    "X_train_scaled_cd = pd.DataFrame(data=scale.transform(X_train_cd),\n",
    "                                 columns=X_train_cd.columns,\n",
    "                                 index=X_train_cd.index)\n",
    "X_test_scaled_cd = pd.DataFrame(data=scale.transform(X_test_cd),\n",
    "                                columns=X_test_cd.columns,\n",
    "                                index=X_test_cd.index)"
   ]
  },
  {
   "cell_type": "markdown",
   "metadata": {},
   "source": [
    "### Baseline: Cardiovascular Disease"
   ]
  },
  {
   "cell_type": "code",
   "execution_count": 9,
   "metadata": {},
   "outputs": [
    {
     "name": "stdout",
     "output_type": "stream",
     "text": [
      "Baseline Accuracy Score: 0.51%\n"
     ]
    }
   ],
   "source": [
    "# calculat a baseline\n",
    "act_pred_error_cd = pd.DataFrame({\"actual\": y_train_cd})\n",
    "act_pred_error_cd[\"baseline_prediction\"] = y_train_cd.value_counts().index[0]\n",
    "\n",
    "baseline_acc_cd = accuracy_score(act_pred_error_cd[\"actual\"], act_pred_error_cd[\"baseline_prediction\"])\n",
    "\n",
    "# print baseline accuracy\n",
    "print(f\"Baseline Accuracy Score: {round(baseline_acc_cd, 2)}%\")"
   ]
  },
  {
   "cell_type": "markdown",
   "metadata": {},
   "source": [
    "### Load and Preprocess: Nutrition Facts"
   ]
  },
  {
   "cell_type": "code",
   "execution_count": 10,
   "metadata": {},
   "outputs": [],
   "source": [
    "file2 = \"MyFoodData_Nutrition_Facts_SpreadSheet_Release_1.4.xlsx\"\n",
    "nutrition_facts = pd.read_excel(file2)"
   ]
  },
  {
   "cell_type": "code",
   "execution_count": 11,
   "metadata": {},
   "outputs": [],
   "source": [
    "nutrition_facts = nutrition_facts.dropna(axis=0, subset=[\"Food Group\"])\n",
    "\n",
    "# dropping columns that have every value missing\n",
    "cols_drop = [\"Added Sugar g\", \"Soluble Fiber g\", \"Insoluble Fiber g\",\n",
    "             \"Total sugar alcohols g\", \"Molybdenum mcg\", \"Chlorine mg\",\n",
    "             \"Biotin B7 mcg\", \"NetCarbs g\"]\n",
    "nutrition_facts = nutrition_facts.drop(columns=cols_drop, axis=1)\n",
    "\n",
    "# dropping cols that don't seem to mean much\n",
    "more_drop = [\"PRAL score\", \"ID\", \"Name\", '183 n3 ccc ALA mg',\n",
    "             '205 n3 EPA mg', '225 n3 DPA mg', '226 n3 DHA mg',\n",
    "             \"Serving Weight 1 g\", \"Serving Weight 2 g\", \"Serving Weight 3 g\",\n",
    "             \"Serving Weight 4 g\", \"Serving Weight 5 g\", \"Serving Weight 6 g\",\n",
    "             \"Serving Weight 7 g\", \"Serving Weight 8 g\", \"Serving Weight 9 g\",\n",
    "             \"200 Calorie Weight g\", \"Saturated Fats g\",\n",
    "             \"Fat g\", \"Fiber g\", \"Calcium mg\", \"Iron Fe mg\", \"Potassium K mg\", \"Magnesium mg\",\n",
    "             \"Vitamin A RAE mcg\", \"Vitamin C mg\", \"Vitamin B12 mcg\", \"Vitamin D mcg\",\n",
    "             \"Vitamin E AlphaTocopherol mg\", \"Omega 3s mg\", \"Omega 6s mg\", \"Phosphorus P mg\",\n",
    "             \"Copper Cu mg\", \"Thiamin B1 mg\", \"Riboflavin B2 mg\", \"Vitamin B6 mg\", \"Folate B9 mcg\",\n",
    "             \"Folic acid mcg\", \"Food Folate mcg\", \"Folate DFE mcg\", \"Choline mg\", \"Retinol mcg\",\n",
    "             \"Carotene beta mcg\", \"Carotene alpha mcg\", \"Lycopene mcg\", \"Lutein + Zeaxanthin mcg\",\n",
    "             \"Vitamin K mcg\", \"Fatty acids total monounsaturated mg\", \"Fatty acids total polyunsaturated mg\",\n",
    "             \"Alcohol g\", \"Caffeine mg\", \"Theobromine mg\", \"Sugars g\", \"Niacin B3 mg\",\n",
    "             \"Selenium Se mcg\", \"Zinc Zn mg\", \"Calories\"]\n",
    "nutrition_facts = nutrition_facts.drop(columns=more_drop, axis=1)\n",
    "\n",
    "# drop column if 70% of its rows are empty\n",
    "threshold = int(.70*len(nutrition_facts))\n",
    "nutrition_facts.dropna(axis=1, thresh=threshold, inplace=True)\n",
    "\n",
    "nutrition_facts.fillna(0, inplace=True)\n",
    "\n",
    "nutrition_facts.columns = nutrition_facts.columns.str.lower()\n",
    "\n",
    "cols_rename = {\"food group\": \"food_group\", \"protein g\": \"protein\", \"carbohydrate g\": \"carbohydrate\",\n",
    "                \"cholesterol mg\": \"cholesterol\", \"water g\": \"water\", \"sodium mg\": \"sodium\"}\n",
    "\n",
    "nutrition_facts = nutrition_facts.rename(mapper=cols_rename, axis=1)"
   ]
  },
  {
   "cell_type": "code",
   "execution_count": 12,
   "metadata": {},
   "outputs": [
    {
     "data": {
      "text/plain": [
       "food_group\n",
       "Meats                      0.227415\n",
       "Vegetables                 0.162582\n",
       "Baked Foods                0.066899\n",
       "Fish                       0.055144\n",
       "Prepared Meals             0.054360\n",
       "Fast Foods                 0.049444\n",
       "Beverages                  0.043246\n",
       "Baby Foods                 0.038757\n",
       "Soups and Sauces           0.037903\n",
       "Sweets                     0.035836\n",
       "Fruits                     0.032488\n",
       "Beans and Lentils          0.032132\n",
       "Breakfast Cereals          0.026788\n",
       "Dairy and Egg Products     0.026218\n",
       "Snacks                     0.020732\n",
       "Dairy and Egg Products     0.019521\n",
       "Fats and Oils              0.017241\n",
       "Grains and Pasta           0.016885\n",
       "Nuts and Seeds             0.012183\n",
       "American Indian            0.011755\n",
       "Restaurant Foods           0.007979\n",
       "Spices and Herbs           0.004488\n",
       "Name: count, dtype: float64"
      ]
     },
     "execution_count": 12,
     "metadata": {},
     "output_type": "execute_result"
    }
   ],
   "source": [
    "nutrition_facts['food_group'].value_counts() / len(nutrition_facts)"
   ]
  },
  {
   "cell_type": "code",
   "execution_count": 13,
   "metadata": {},
   "outputs": [],
   "source": [
    "bool_mask1 = (nutrition_facts['food_group'] == 'Meats') | (nutrition_facts['food_group'] == 'Vegetables') \n",
    "bool_mask2 = bool_mask1 | (nutrition_facts['food_group'] == 'Baked Foods')\n",
    "bool_mask3 = bool_mask2 | (nutrition_facts['food_group'] == 'Fish')\n",
    "nutrition_facts = nutrition_facts[bool_mask3]"
   ]
  },
  {
   "cell_type": "code",
   "execution_count": 14,
   "metadata": {},
   "outputs": [
    {
     "data": {
      "text/plain": [
       "food_group\n",
       "Meats          0.444135\n",
       "Vegetables     0.317518\n",
       "Baked Foods    0.130653\n",
       "Fish           0.107694\n",
       "Name: count, dtype: float64"
      ]
     },
     "execution_count": 14,
     "metadata": {},
     "output_type": "execute_result"
    }
   ],
   "source": [
    "nutrition_facts['food_group'].value_counts() / len(nutrition_facts)"
   ]
  },
  {
   "cell_type": "code",
   "execution_count": 15,
   "metadata": {},
   "outputs": [
    {
     "name": "stdout",
     "output_type": "stream",
     "text": [
      "<class 'pandas.core.frame.DataFrame'>\n",
      "Index: 7187 entries, 0 to 13869\n",
      "Data columns (total 6 columns):\n",
      " #   Column        Non-Null Count  Dtype  \n",
      "---  ------        --------------  -----  \n",
      " 0   food_group    7187 non-null   object \n",
      " 1   protein       7187 non-null   float64\n",
      " 2   carbohydrate  7187 non-null   float64\n",
      " 3   cholesterol   7187 non-null   float64\n",
      " 4   water         7187 non-null   float64\n",
      " 5   sodium        7187 non-null   float64\n",
      "dtypes: float64(5), object(1)\n",
      "memory usage: 393.0+ KB\n"
     ]
    }
   ],
   "source": [
    "nutrition_facts.info()"
   ]
  },
  {
   "cell_type": "code",
   "execution_count": 16,
   "metadata": {},
   "outputs": [],
   "source": [
    "# split data\n",
    "nf_train, nf_test = train_test_split(nutrition_facts,\n",
    "                                     test_size=.15,\n",
    "                                     random_state=123,\n",
    "                                     stratify=nutrition_facts['food_group'])\n",
    "\n",
    "# get X, y\n",
    "target_col = \"food_group\"\n",
    "cols_drop = [\"food_group\"]\n",
    "X_train_nf = nf_train.drop(cols_drop, axis=1)\n",
    "X_test_nf = nf_test.drop(cols_drop, axis=1)\n",
    "y_train_nf = nf_train[target_col]\n",
    "y_test_nf = nf_test[target_col]\n",
    "\n",
    "# scale data\n",
    "scale = StandardScaler()\n",
    "scale.fit(X_train_nf)\n",
    "X_train_scaled_nf = pd.DataFrame(data=scale.transform(X_train_nf),\n",
    "                                 columns=X_train_nf.columns,\n",
    "                                 index=X_train_nf.index)\n",
    "X_test_scaled_nf = pd.DataFrame(data=scale.transform(X_test_nf),\n",
    "                                columns=X_test_nf.columns,\n",
    "                                index=X_test_nf.index)"
   ]
  },
  {
   "cell_type": "markdown",
   "metadata": {},
   "source": [
    "### Baseline: Nutrition Facts"
   ]
  },
  {
   "cell_type": "code",
   "execution_count": 17,
   "metadata": {},
   "outputs": [
    {
     "name": "stdout",
     "output_type": "stream",
     "text": [
      "Baseline Accuracy Score: 0.44%\n"
     ]
    }
   ],
   "source": [
    "# calculat a baseline\n",
    "act_pred_error_nf = pd.DataFrame({\"actual\": y_train_nf})\n",
    "act_pred_error_nf[\"baseline_prediction\"] = y_train_nf.value_counts().index[0]\n",
    "\n",
    "baseline_acc_nf = accuracy_score(act_pred_error_nf[\"actual\"], act_pred_error_nf[\"baseline_prediction\"])\n",
    "\n",
    "# print baseline accuracy\n",
    "print(f\"Baseline Accuracy Score: {round(baseline_acc_nf, 2)}%\")"
   ]
  },
  {
   "cell_type": "code",
   "execution_count": null,
   "metadata": {},
   "outputs": [],
   "source": []
  }
 ],
 "metadata": {
  "kernelspec": {
   "display_name": "ml",
   "language": "python",
   "name": "python3"
  },
  "language_info": {
   "codemirror_mode": {
    "name": "ipython",
    "version": 3
   },
   "file_extension": ".py",
   "mimetype": "text/x-python",
   "name": "python",
   "nbconvert_exporter": "python",
   "pygments_lexer": "ipython3",
   "version": "3.11.7"
  }
 },
 "nbformat": 4,
 "nbformat_minor": 2
}
