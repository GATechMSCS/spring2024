{
 "cells": [
  {
   "cell_type": "code",
   "execution_count": 51,
   "metadata": {},
   "outputs": [],
   "source": [
    "import seaborn as sns\n",
    "import matplotlib.pyplot as plt\n",
    "from bettermdptools.utils.plots import Plots\n",
    "import pandas as pd\n",
    "import numpy as np"
   ]
  },
  {
   "cell_type": "markdown",
   "metadata": {},
   "source": [
    "$$\n",
    "\\textbf{Frozen Lake 4x4}\\\\~\\\\\n",
    "\\textbf{Q Learning}\\\\\n",
    "\\textbf{Gamma}\n",
    "$$"
   ]
  },
  {
   "cell_type": "code",
   "execution_count": 52,
   "metadata": {},
   "outputs": [],
   "source": [
    "ql_fl_S_gamma9 = pd.read_csv(\"csv/fl_S/qlearning/ql_fl_S_gamma9.csv\")\n",
    "ql_fl_S_gamma99 = pd.read_csv(\"csv/fl_S/qlearning/ql_fl_S_gamma99.csv\")\n",
    "ql_fl_S_gamma999 = pd.read_csv(\"csv/fl_S/qlearning/ql_fl_S_gamma999.csv\")\n",
    "\n",
    "ql_fl_S_gamma_best = 0.9"
   ]
  },
  {
   "cell_type": "markdown",
   "metadata": {},
   "source": [
    "$$\n",
    "\\textbf{Q Learning}\\\\\n",
    "\\textbf{Epsilon Decay Ratio}\n",
    "$$"
   ]
  },
  {
   "cell_type": "code",
   "execution_count": 53,
   "metadata": {},
   "outputs": [],
   "source": [
    "ql_fl_S_edr8 = pd.read_csv(\"csv/fl_S/qlearning/ql_fl_S_edr8.csv\")\n",
    "ql_fl_S_edr99 = pd.read_csv(\"csv/fl_S/qlearning/ql_fl_S_edr99.csv\")\n",
    "ql_fl_S_edr999 = pd.read_csv(\"csv/fl_S/qlearning/ql_fl_S_edr999.csv\")\n",
    "\n",
    "ql_fl_S_edr_best = 0.8"
   ]
  },
  {
   "cell_type": "markdown",
   "metadata": {},
   "source": [
    "$$\n",
    "\\textbf{Q Learning}\\\\\n",
    "\\textbf{Init Alpha}\n",
    "$$"
   ]
  },
  {
   "cell_type": "code",
   "execution_count": 54,
   "metadata": {},
   "outputs": [],
   "source": [
    "ql_fl_S_alpha3 = pd.read_csv(\"csv/fl_S/qlearning/ql_fl_S_alpha3.csv\")\n",
    "ql_fl_S_alpha5 = pd.read_csv(\"csv/fl_S/qlearning/ql_fl_S_alpha5.csv\")\n",
    "ql_fl_S_alpha7 = pd.read_csv(\"csv/fl_S/qlearning/ql_fl_S_alpha7.csv\")\n",
    "\n",
    "ql_fl_S_alpha_best = 0.7"
   ]
  },
  {
   "cell_type": "code",
   "execution_count": 55,
   "metadata": {},
   "outputs": [],
   "source": [
    "fl_S_ql_final = pd.read_csv(\"csv/fl_S/qlearning/results_ql_final.csv\")"
   ]
  },
  {
   "cell_type": "markdown",
   "metadata": {},
   "source": [
    "$$\n",
    "\\textbf{Policy Iteration}\\\\\n",
    "\\textbf{Gamma}\n",
    "$$"
   ]
  },
  {
   "cell_type": "code",
   "execution_count": 56,
   "metadata": {},
   "outputs": [],
   "source": [
    "fl_S_pi_gam9 = pd.read_csv(\"csv/fl_S/pi/fl_S_pi_gam9.csv\")\n",
    "fl_S_pi_gam99 = pd.read_csv(\"csv/fl_S/pi/fl_S_pi_gam99.csv\")\n",
    "fl_S_pi_gam999 = pd.read_csv(\"csv/fl_S/pi/fl_S_pi_gam999.csv\")\n",
    "\n",
    "fl_S_pi_gam_best = 0.9"
   ]
  },
  {
   "cell_type": "markdown",
   "metadata": {},
   "source": [
    "$$\n",
    "\\textbf{Policy Iteration}\\\\\n",
    "\\textbf{Theta}\n",
    "$$"
   ]
  },
  {
   "cell_type": "code",
   "execution_count": 57,
   "metadata": {},
   "outputs": [],
   "source": [
    "fl_S_pi_theta5 = pd.read_csv(\"csv/fl_S/pi/fl_S_pi_theta5.csv\")\n",
    "fl_S_pi_theta7 = pd.read_csv(\"csv/fl_S/pi/fl_S_pi_theta7.csv\")\n",
    "fl_S_pi_theta9 = pd.read_csv(\"csv/fl_S/pi/fl_S_pi_theta9.csv\")\n",
    "\n",
    "fl_S_pi_theta_best = 1e-5"
   ]
  },
  {
   "cell_type": "code",
   "execution_count": 58,
   "metadata": {},
   "outputs": [],
   "source": [
    "fl_S_pi_final = pd.read_csv(\"csv/fl_S/pi/results_pi_final.csv\")"
   ]
  },
  {
   "cell_type": "markdown",
   "metadata": {},
   "source": [
    "$$\n",
    "\\textbf{Value Iteration}\\\\\n",
    "\\textbf{Gamma}\n",
    "$$"
   ]
  },
  {
   "cell_type": "code",
   "execution_count": 59,
   "metadata": {},
   "outputs": [],
   "source": [
    "fl_S_vi_gam9 = pd.read_csv(\"csv/fl_S/vi/fl_S_vi_gam9.csv\")\n",
    "fl_S_vi_gam99= pd.read_csv(\"csv/fl_S/vi/fl_S_vi_gam99.csv\")\n",
    "fl_S_vi_gam999 = pd.read_csv(\"csv/fl_S/vi/fl_S_vi_gam999.csv\")\n",
    "\n",
    "fl_S_vi_gam_best = 0.9"
   ]
  },
  {
   "cell_type": "markdown",
   "metadata": {},
   "source": [
    "$$\n",
    "\\textbf{Value Iteration}\\\\\n",
    "\\textbf{Theta}\n",
    "$$"
   ]
  },
  {
   "cell_type": "code",
   "execution_count": 60,
   "metadata": {},
   "outputs": [],
   "source": [
    "fl_S_vi_theta5 = pd.read_csv(\"csv/fl_S/vi/fl_S_vi_theta5.csv\")\n",
    "fl_S_vi_theta7 = pd.read_csv(\"csv/fl_S/vi/fl_S_vi_theta7.csv\")\n",
    "fl_S_vi_theta9 = pd.read_csv(\"csv/fl_S/vi/fl_S_vi_theta9.csv\")\n",
    "\n",
    "fl_S_vi_theta5_best = 1e-5"
   ]
  },
  {
   "cell_type": "code",
   "execution_count": 61,
   "metadata": {},
   "outputs": [],
   "source": [
    "fl_S_vi_final = pd.read_csv(\"csv/fl_S/vi/results_vi_final.csv\")"
   ]
  },
  {
   "cell_type": "code",
   "execution_count": null,
   "metadata": {},
   "outputs": [],
   "source": []
  }
 ],
 "metadata": {
  "kernelspec": {
   "display_name": "mlmdp",
   "language": "python",
   "name": "python3"
  },
  "language_info": {
   "codemirror_mode": {
    "name": "ipython",
    "version": 3
   },
   "file_extension": ".py",
   "mimetype": "text/x-python",
   "name": "python",
   "nbconvert_exporter": "python",
   "pygments_lexer": "ipython3",
   "version": "3.12.2"
  }
 },
 "nbformat": 4,
 "nbformat_minor": 2
}
