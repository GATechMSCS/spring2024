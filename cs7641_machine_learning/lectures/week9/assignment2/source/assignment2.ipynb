{
 "cells": [
  {
   "cell_type": "markdown",
   "metadata": {},
   "source": [
    "### IMPORTS"
   ]
  },
  {
   "cell_type": "code",
   "execution_count": 1,
   "metadata": {},
   "outputs": [],
   "source": [
    "# load, preprocess, scale, baseline\n",
    "from wrangle import final_dataset\n",
    "\n",
    "# manipulate data\n",
    "import numpy as np\n",
    "\n",
    "# visualize data\n",
    "import matplotlib.pyplot as plt\n",
    "import seaborn as sn\n",
    "\n",
    "# model preparation\n",
    "from sklearn.model_selection import (learning_curve,\n",
    "                                     LearningCurveDisplay, \n",
    "                                     validation_curve,\n",
    "                                     ValidationCurveDisplay)\n",
    "\n",
    "# neural network weights\n",
    "from models import good_weights\n",
    "\n",
    "# optmization problem\n",
    "from models import good_problem\n",
    "\n",
    "np.random.seed(123)"
   ]
  },
  {
   "cell_type": "markdown",
   "metadata": {},
   "source": [
    "### Load, Clean, Preprocess, Scale, Baseline: Cardiovascular Disease"
   ]
  },
  {
   "cell_type": "code",
   "execution_count": 2,
   "metadata": {},
   "outputs": [
    {
     "name": "stdout",
     "output_type": "stream",
     "text": [
      "CVD Loading and Cleaning...\n",
      "CVD Loaded and Cleaned...\n",
      "\n",
      "CVD Splitting...\n",
      "CVD Split...\n",
      "\n",
      "CVD Scaling...\n",
      "CVD Scaled...\n",
      "\n",
      "Baseline Accuracy Score: 0.51%\n",
      "\n"
     ]
    }
   ],
   "source": [
    "X_train_scaled_cd, X_test_scaled_cd, y_train_cd, y_test_cd = final_dataset(dataset='cvd')"
   ]
  },
  {
   "cell_type": "markdown",
   "metadata": {},
   "source": [
    "### Modeling: Cardiovascular Disease"
   ]
  },
  {
   "cell_type": "code",
   "execution_count": 3,
   "metadata": {},
   "outputs": [
    {
     "name": "stdout",
     "output_type": "stream",
     "text": [
      "Running All Algorithms\n",
      "Running Random Hill Climbing\n",
      "Running Simulated Annealing\n",
      "Running Genetic Algorithm\n",
      "Running Gradient Descent\n",
      "Successfully Run All Algorithms\n",
      "\n",
      "Working on: Random Hill Climbing\n",
      "Fitting: Random Hill Climbing\n",
      "\n",
      "Predicting (TRAINING): Random Hill Climbing\n",
      "\n",
      "Calculating Recall (TRAINING): Random Hill Climbing\n",
      "\n",
      "Appending Results (TRAINING): Random Hill Climbing\n",
      "\n",
      "Recall Score (TRAINING): 0.692687514695509%\n",
      "\n",
      "Predicting (TESTING): Random Hill Climbing\n",
      "\n",
      "Calculting Recall (TESTING): Random Hill Climbing\n",
      "\n",
      "Appending Results (TESTING): Random Hill Climbing\n",
      "\n",
      "Recall Score (TESTING): 0.6897470039946738%\n",
      "\n",
      "\n",
      "Working on: Simulated Annealing\n",
      "Fitting: Simulated Annealing\n",
      "\n",
      "Predicting (TRAINING): Simulated Annealing\n",
      "\n",
      "Calculating Recall (TRAINING): Simulated Annealing\n",
      "\n",
      "Appending Results (TRAINING): Simulated Annealing\n",
      "\n",
      "Recall Score (TRAINING): 0.035269221725840585%\n",
      "\n",
      "Predicting (TESTING): Simulated Annealing\n",
      "\n",
      "Calculting Recall (TESTING): Simulated Annealing\n",
      "\n",
      "Appending Results (TESTING): Simulated Annealing\n",
      "\n",
      "Recall Score (TESTING): 0.03994673768308921%\n",
      "\n",
      "\n",
      "Working on: Genetic Algorithm\n",
      "Fitting: Genetic Algorithm\n",
      "\n",
      "Predicting (TRAINING): Genetic Algorithm\n",
      "\n",
      "Calculating Recall (TRAINING): Genetic Algorithm\n",
      "\n",
      "Appending Results (TRAINING): Genetic Algorithm\n",
      "\n",
      "Recall Score (TRAINING): 0.6868093110745356%\n",
      "\n",
      "Predicting (TESTING): Genetic Algorithm\n",
      "\n",
      "Calculting Recall (TESTING): Genetic Algorithm\n",
      "\n",
      "Appending Results (TESTING): Genetic Algorithm\n",
      "\n",
      "Recall Score (TESTING): 0.6830892143808256%\n",
      "\n",
      "\n",
      "Working on: Gradient Descent\n",
      "Fitting: Gradient Descent\n",
      "\n",
      "Predicting (TRAINING): Gradient Descent\n",
      "\n",
      "Calculating Recall (TRAINING): Gradient Descent\n",
      "\n",
      "Appending Results (TRAINING): Gradient Descent\n",
      "\n",
      "Recall Score (TRAINING): 0.0423230660710087%\n",
      "\n",
      "Predicting (TESTING): Gradient Descent\n",
      "\n",
      "Calculting Recall (TESTING): Gradient Descent\n",
      "\n",
      "Appending Results (TESTING): Gradient Descent\n",
      "\n",
      "Recall Score (TESTING): 0.043941411451398134%\n",
      "\n"
     ]
    }
   ],
   "source": [
    "nn = good_weights(X_train_scaled_cd, y_train_cd,\n",
    "                 X_test_scaled_cd, y_test_cd)"
   ]
  },
  {
   "cell_type": "code",
   "execution_count": 4,
   "metadata": {},
   "outputs": [
    {
     "data": {
      "text/plain": [
       "{'nn': NeuralNetwork(clip_max=1, curve=True, hidden_nodes=[4], max_iters=300,\n",
       "               random_state=123, restarts=200),\n",
       " 'y_train_pred': array([[1],\n",
       "        [1],\n",
       "        [1],\n",
       "        ...,\n",
       "        [0],\n",
       "        [1],\n",
       "        [1]]),\n",
       " 'recall_train': 0.692687514695509,\n",
       " 'y_test_pred': array([[0],\n",
       "        [0],\n",
       "        [0],\n",
       "        ...,\n",
       "        [0],\n",
       "        [1],\n",
       "        [1]]),\n",
       " 'recall_test': 0.6897470039946738}"
      ]
     },
     "execution_count": 4,
     "metadata": {},
     "output_type": "execute_result"
    }
   ],
   "source": [
    "nn['Random Hill Climbing']"
   ]
  },
  {
   "cell_type": "markdown",
   "metadata": {},
   "source": [
    "### Optimization Problem: Cardiovascular Disease"
   ]
  },
  {
   "cell_type": "code",
   "execution_count": 5,
   "metadata": {},
   "outputs": [
    {
     "name": "stdout",
     "output_type": "stream",
     "text": [
      "Running All Algorithms\n",
      "Running Random Hill Climbing\n",
      "Running Simulated Annealing\n",
      "Running Genetic Algorithm\n",
      "Running MIMIC\n",
      "Successfully Run All Algorithms\n"
     ]
    }
   ],
   "source": [
    "opt_prob = good_problem()"
   ]
  },
  {
   "cell_type": "code",
   "execution_count": 6,
   "metadata": {},
   "outputs": [
    {
     "data": {
      "text/plain": [
       "({'best_state_FP': array([1, 1, 0, 0]),\n",
       "  'best_state_FF': array([0, 1, 0, 1]),\n",
       "  'best_state_KS': array([1, 1, 0, 0])},\n",
       " {'best_fitness_FP': 6.0, 'best_fitness_FF': 3.0, 'best_fitness_KS': 7.5},\n",
       " {'fitness_curve_FP': array([[ 6.,  2.],\n",
       "         [ 6.,  3.],\n",
       "         [ 6.,  4.],\n",
       "         [ 6.,  5.],\n",
       "         [ 6.,  6.],\n",
       "         [ 6.,  7.],\n",
       "         [ 6.,  8.],\n",
       "         [ 6.,  9.],\n",
       "         [ 6., 10.],\n",
       "         [ 6., 11.],\n",
       "         [ 6., 12.]]),\n",
       "  'fitness_curve_FF': array([[ 2.,  1.],\n",
       "         [ 2.,  2.],\n",
       "         [ 2.,  3.],\n",
       "         [ 2.,  4.],\n",
       "         [ 3.,  6.],\n",
       "         [ 3.,  7.],\n",
       "         [ 3.,  8.],\n",
       "         [ 3.,  9.],\n",
       "         [ 3., 10.],\n",
       "         [ 3., 11.],\n",
       "         [ 3., 12.],\n",
       "         [ 3., 13.],\n",
       "         [ 3., 14.],\n",
       "         [ 3., 15.],\n",
       "         [ 3., 16.]]),\n",
       "  'fitness_curve_KS': array([[ 7.5,  2. ],\n",
       "         [ 7.5,  3. ],\n",
       "         [ 7.5,  4. ],\n",
       "         [ 7.5,  5. ],\n",
       "         [ 7.5,  6. ],\n",
       "         [ 7.5,  7. ],\n",
       "         [ 7.5,  8. ],\n",
       "         [ 7.5,  9. ],\n",
       "         [ 7.5, 10. ],\n",
       "         [ 7.5, 11. ],\n",
       "         [ 7.5, 12. ]])})"
      ]
     },
     "execution_count": 6,
     "metadata": {},
     "output_type": "execute_result"
    }
   ],
   "source": [
    "opt_prob['Random Hill Climbing']"
   ]
  },
  {
   "cell_type": "markdown",
   "metadata": {},
   "source": [
    "### Plotting: Cardiovascular Disease"
   ]
  },
  {
   "cell_type": "code",
   "execution_count": 7,
   "metadata": {},
   "outputs": [],
   "source": [
    "# Create/display fitness curve plot for selected algorithm.\n",
    "# plt.plot(nn.fitness_curve)\n",
    "# plt.ylabel('Relative Fitness Found')\n",
    "# plt.show()"
   ]
  }
 ],
 "metadata": {
  "kernelspec": {
   "display_name": "ml",
   "language": "python",
   "name": "python3"
  },
  "language_info": {
   "codemirror_mode": {
    "name": "ipython",
    "version": 3
   },
   "file_extension": ".py",
   "mimetype": "text/x-python",
   "name": "python",
   "nbconvert_exporter": "python",
   "pygments_lexer": "ipython3",
   "version": "3.11.7"
  }
 },
 "nbformat": 4,
 "nbformat_minor": 2
}
