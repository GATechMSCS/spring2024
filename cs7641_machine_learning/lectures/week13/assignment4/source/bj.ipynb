{
 "cells": [
  {
   "cell_type": "code",
   "execution_count": 72,
   "metadata": {},
   "outputs": [],
   "source": [
    "import pandas as pd\n",
    "import numpy as np\n",
    "import seaborn as sns\n",
    "import matplotlib.pyplot as plt\n",
    "from bettermdptools.utils.plots import Plots\n",
    "from bj_plots import (bj_policy_map, modified_plot_policy)"
   ]
  },
  {
   "cell_type": "markdown",
   "metadata": {},
   "source": [
    "$$\n",
    "\\textbf{Blackjack}\\\\~\\\\\n",
    "\\textbf{Q Learning}\\\\\n",
    "\\textbf{Gamma}\n",
    "$$"
   ]
  },
  {
   "cell_type": "code",
   "execution_count": 73,
   "metadata": {},
   "outputs": [],
   "source": [
    "ql_bj_gamma9 = pd.read_csv(\"csv/bj/qlearning/ql_bj_gamma9.csv\")\n",
    "ql_bj_gamma99 = pd.read_csv(\"csv/bj/qlearning/ql_bj_gamma99.csv\")\n",
    "ql_bj_gamma999 = pd.read_csv(\"csv/bj/qlearning/ql_bj_gamma999.csv\")"
   ]
  },
  {
   "cell_type": "markdown",
   "metadata": {},
   "source": [
    "$$\n",
    "\\textbf{Q Learning}\\\\\n",
    "\\textbf{Epsilon Decay Ratio}\n",
    "$$"
   ]
  },
  {
   "cell_type": "code",
   "execution_count": 74,
   "metadata": {},
   "outputs": [],
   "source": [
    "ql_bj_edr8 = pd.read_csv(\"csv/bj/qlearning/ql_bj_edr9.csv\")\n",
    "ql_bj_edr99 = pd.read_csv(\"csv/bj/qlearning/ql_bj_edr99.csv\")\n",
    "ql_bj_edr999 = pd.read_csv(\"csv/bj/qlearning/ql_bj_edr999.csv\")"
   ]
  },
  {
   "cell_type": "markdown",
   "metadata": {},
   "source": [
    "$$\n",
    "\\textbf{Q Learning}\\\\\n",
    "\\textbf{Init Alpha}\n",
    "$$"
   ]
  },
  {
   "cell_type": "code",
   "execution_count": 75,
   "metadata": {},
   "outputs": [],
   "source": [
    "ql_bj_alpha3 = pd.read_csv(\"csv/bj/qlearning/ql_bj_alpha3.csv\")\n",
    "ql_bj_alpha5 = pd.read_csv(\"csv/bj/qlearning/ql_bj_alpha5.csv\")\n",
    "ql_bj_alpha7 = pd.read_csv(\"csv/bj/qlearning/ql_bj_alpha7.csv\")\n",
    "bj_ql_final = pd.read_csv(\"csv/bj/qlearning/results_ql_final.csv\")"
   ]
  },
  {
   "cell_type": "markdown",
   "metadata": {},
   "source": [
    "$$\n",
    "\\textbf{Policy Iteration}\\\\\n",
    "\\textbf{Gamma}\n",
    "$$"
   ]
  },
  {
   "cell_type": "code",
   "execution_count": 77,
   "metadata": {},
   "outputs": [],
   "source": [
    "bj_pi_gam9 = pd.read_csv(\"csv/bj/pi/bj_pi_gam9.csv\")\n",
    "bj_pi_gam99 = pd.read_csv(\"csv/bj/pi/bj_pi_gam99.csv\")\n",
    "bj_pi_gam999 = pd.read_csv(\"csv/bj/pi/bj_pi_gam999.csv\")"
   ]
  },
  {
   "cell_type": "markdown",
   "metadata": {},
   "source": [
    "$$\n",
    "\\textbf{Policy Iteration}\\\\\n",
    "\\textbf{Theta}\n",
    "$$"
   ]
  },
  {
   "cell_type": "code",
   "execution_count": 78,
   "metadata": {},
   "outputs": [],
   "source": [
    "bj_pi_theta5 = pd.read_csv(\"csv/bj/pi/bj_pi_theta5.csv\")\n",
    "bj_pi_theta7 = pd.read_csv(\"csv/bj/pi/bj_pi_theta7.csv\")\n",
    "bj_pi_theta9 = pd.read_csv(\"csv/bj/pi/bj_pi_theta9.csv\")"
   ]
  },
  {
   "cell_type": "markdown",
   "metadata": {},
   "source": [
    "$$\n",
    "\\textbf{Value Iteration}\\\\\n",
    "\\textbf{Gamma}\n",
    "$$"
   ]
  },
  {
   "cell_type": "code",
   "execution_count": 80,
   "metadata": {},
   "outputs": [],
   "source": [
    "bj_vi_gam9 = pd.read_csv(\"csv/bj/vi/bj_vi_gam9.csv\")\n",
    "bj_vi_gam99= pd.read_csv(\"csv/bj/vi/bj_vi_gam99.csv\")\n",
    "bj_vi_gam999 = pd.read_csv(\"csv/bj/vi/bj_vi_gam999.csv\")"
   ]
  },
  {
   "cell_type": "markdown",
   "metadata": {},
   "source": [
    "$$\n",
    "\\textbf{Value Iteration}\\\\\n",
    "\\textbf{Theta}\n",
    "$$"
   ]
  },
  {
   "cell_type": "code",
   "execution_count": 81,
   "metadata": {},
   "outputs": [],
   "source": [
    "bj_vi_theta5 = pd.read_csv(\"csv/bj/vi/bj_vi_theta5.csv\")\n",
    "bj_vi_theta7 = pd.read_csv(\"csv/bj/vi/bj_vi_theta7.csv\")\n",
    "bj_vi_theta9 = pd.read_csv(\"csv/bj/vi/bj_vi_theta9.csv\")"
   ]
  },
  {
   "cell_type": "markdown",
   "metadata": {},
   "source": [
    "$$\n",
    "\\textbf{Q Learning}\\\\\n",
    "\\textbf{Final}\n",
    "$$"
   ]
  },
  {
   "cell_type": "code",
   "execution_count": 76,
   "metadata": {},
   "outputs": [],
   "source": [
    "bj_ql_final = pd.read_csv(\"csv/bj/qlearning/results_ql_final.csv\")\n",
    "bj_ql_final_V = bj_ql_final['V'][:256]\n",
    "bj_ql_final_pi = bj_ql_final['pi'][:256]\n",
    "bj_ql_final_cs = bj_ql_final['cumulative_sum']\n",
    "bj_ql_final_er = bj_ql_final['episode_rewards']\n",
    "bj_ql_final_aer = bj_ql_final['average_episode_rewards'][0]\n",
    "\n",
    "bj_ql_meanv = pd.read_csv(\"csv/bj/qlearning/MeanV.csv\")\n",
    "bj_ql_mean_delta_v = pd.read_csv(\"csv/bj/qlearning/results_mean_delta_v.csv\")\n",
    "bj_ql_v_track = pd.read_csv(\"csv/bj/qlearning/results_v_track.csv\")"
   ]
  },
  {
   "cell_type": "markdown",
   "metadata": {},
   "source": [
    "$$\n",
    "\\textbf{Policy Iteration}\\\\\n",
    "\\textbf{Final}\n",
    "$$"
   ]
  },
  {
   "cell_type": "code",
   "execution_count": 79,
   "metadata": {},
   "outputs": [],
   "source": [
    "bj_pi_final = pd.read_csv(\"csv/bj/pi/results_pi_final.csv\")\n",
    "bj_pi_final_V = bj_pi_final['V'][:256]\n",
    "bj_pi_final_pi = bj_pi_final['pi'][:256]\n",
    "bj_pi_final_cs = bj_pi_final['cumulative_sum']\n",
    "bj_pi_final_er = bj_pi_final['episode_rewards']\n",
    "bj_pi_final_aer = bj_pi_final['average_episode_rewards'][0]\n",
    "\n",
    "bj_pi_meanv = pd.read_csv(\"csv/bj/pi/MeanV.csv\")\n",
    "bj_pi_mean_delta_v = pd.read_csv(\"csv/bj/pi/results_mean_delta_v.csv\")\n",
    "bj_pi_v_track = pd.read_csv(\"csv/bj/pi/results_v_track.csv\")"
   ]
  },
  {
   "cell_type": "markdown",
   "metadata": {},
   "source": [
    "$$\n",
    "\\textbf{Value Iteration}\\\\\n",
    "\\textbf{Final}\n",
    "$$"
   ]
  },
  {
   "cell_type": "code",
   "execution_count": 82,
   "metadata": {},
   "outputs": [],
   "source": [
    "bj_vi_final = pd.read_csv(\"csv/bj/vi/results_vi_final.csv\")\n",
    "bj_vi_final_V = bj_vi_final['V'][:256]\n",
    "bj_vi_final_pi = bj_vi_final['pi'][:256]\n",
    "bj_vi_final_cs = bj_vi_final['cumulative_sum']\n",
    "bj_vi_final_er = bj_vi_final['episode_rewards']\n",
    "bj_vi_final_aer = bj_vi_final['average_episode_rewards'][0]\n",
    "\n",
    "bj_vi_meanv = pd.read_csv(\"csv/bj/vi/MeanV.csv\")\n",
    "bj_vi_mean_delta_v = pd.read_csv(\"csv/bj/vi/results_mean_delta_v.csv\")\n",
    "bj_vi_v_track = pd.read_csv(\"csv/bj/vi/results_v_track.csv\")"
   ]
  }
 ],
 "metadata": {
  "kernelspec": {
   "display_name": "mlmdp",
   "language": "python",
   "name": "python3"
  },
  "language_info": {
   "codemirror_mode": {
    "name": "ipython",
    "version": 3
   },
   "file_extension": ".py",
   "mimetype": "text/x-python",
   "name": "python",
   "nbconvert_exporter": "python",
   "pygments_lexer": "ipython3",
   "version": "3.12.2"
  }
 },
 "nbformat": 4,
 "nbformat_minor": 2
}
