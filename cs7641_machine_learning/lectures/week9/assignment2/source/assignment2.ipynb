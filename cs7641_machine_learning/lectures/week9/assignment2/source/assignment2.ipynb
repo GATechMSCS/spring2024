{
 "cells": [
  {
   "cell_type": "markdown",
   "metadata": {},
   "source": [
    "### IMPORTS"
   ]
  },
  {
   "cell_type": "code",
   "execution_count": 1,
   "metadata": {},
   "outputs": [],
   "source": [
    "# load, preprocess, scale, baseline\n",
    "from wrangle import final_dataset\n",
    "\n",
    "# manipulate data\n",
    "import numpy as np\n",
    "\n",
    "# visualize data\n",
    "import matplotlib.pyplot as plt\n",
    "import seaborn as sn\n",
    "\n",
    "# model preparation\n",
    "from sklearn.model_selection import (learning_curve,\n",
    "                                     LearningCurveDisplay, \n",
    "                                     validation_curve,\n",
    "                                     ValidationCurveDisplay)\n",
    "\n",
    "# neural network weights\n",
    "from models import good_weights\n",
    "\n",
    "# optmization problem\n",
    "from models import good_problem\n",
    "\n",
    "np.random.seed(123)"
   ]
  },
  {
   "cell_type": "markdown",
   "metadata": {},
   "source": [
    "### Load, Clean, Preprocess, Scale, Baseline: Cardiovascular Disease"
   ]
  },
  {
   "cell_type": "code",
   "execution_count": 2,
   "metadata": {},
   "outputs": [
    {
     "name": "stdout",
     "output_type": "stream",
     "text": [
      "CVD Loading and Cleaning...\n",
      "CVD Loaded and Cleaned...\n",
      "\n",
      "CVD Splitting...\n",
      "CVD Split...\n",
      "\n",
      "CVD Scaling...\n",
      "CVD Scaled...\n",
      "\n",
      "Baseline Accuracy Score: 0.51%\n",
      "\n"
     ]
    }
   ],
   "source": [
    "X_train_scaled_cd, X_test_scaled_cd, y_train_cd, y_test_cd = final_dataset(dataset='cvd')"
   ]
  },
  {
   "cell_type": "markdown",
   "metadata": {},
   "source": [
    "### Modeling: Cardiovascular Disease"
   ]
  },
  {
   "cell_type": "code",
   "execution_count": 3,
   "metadata": {},
   "outputs": [
    {
     "name": "stdout",
     "output_type": "stream",
     "text": [
      "Running All Algorithms\n",
      "Running Random Hill Climbing\n",
      "Running Simulated Annealing\n",
      "Running Genetic Algorithm\n",
      "Running Gradient Descent\n",
      "Successfully Run All Algorithms\n",
      "\n",
      "Working on: Random Hill Climbing\n",
      "Fitting: Random Hill Climbing\n"
     ]
    }
   ],
   "source": [
    "nn = good_weights(X_train_scaled_cd, y_train_cd,\n",
    "                 X_test_scaled_cd, y_test_cd)"
   ]
  },
  {
   "cell_type": "code",
   "execution_count": null,
   "metadata": {},
   "outputs": [],
   "source": [
    "nn['Random Hill Climbing']"
   ]
  },
  {
   "cell_type": "markdown",
   "metadata": {},
   "source": [
    "### Optimization Problem: Cardiovascular Disease"
   ]
  },
  {
   "cell_type": "code",
   "execution_count": null,
   "metadata": {},
   "outputs": [],
   "source": [
    "opt_prob = good_problem()"
   ]
  },
  {
   "cell_type": "code",
   "execution_count": null,
   "metadata": {},
   "outputs": [],
   "source": [
    "opt_prob['Random Hill Climbing']"
   ]
  },
  {
   "cell_type": "markdown",
   "metadata": {},
   "source": [
    "### Plotting: Cardiovascular Disease"
   ]
  },
  {
   "cell_type": "code",
   "execution_count": null,
   "metadata": {},
   "outputs": [],
   "source": [
    "# Create/display fitness curve plot for selected algorithm.\n",
    "# plt.plot(nn.fitness_curve)\n",
    "# plt.ylabel('Relative Fitness Found')\n",
    "# plt.show()"
   ]
  }
 ],
 "metadata": {
  "kernelspec": {
   "display_name": "ml",
   "language": "python",
   "name": "python3"
  },
  "language_info": {
   "codemirror_mode": {
    "name": "ipython",
    "version": 3
   },
   "file_extension": ".py",
   "mimetype": "text/x-python",
   "name": "python",
   "nbconvert_exporter": "python",
   "pygments_lexer": "ipython3",
   "version": "3.11.7"
  }
 },
 "nbformat": 4,
 "nbformat_minor": 2
}
