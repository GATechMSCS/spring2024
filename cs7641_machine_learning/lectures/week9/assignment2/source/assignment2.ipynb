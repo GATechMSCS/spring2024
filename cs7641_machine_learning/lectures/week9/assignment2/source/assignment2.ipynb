{
 "cells": [
  {
   "cell_type": "markdown",
   "metadata": {},
   "source": [
    "### IMPORTS"
   ]
  },
  {
   "cell_type": "code",
   "execution_count": 1,
   "metadata": {},
   "outputs": [],
   "source": [
    "# load, preprocess, scale, baseline\n",
    "from wrangle import final_dataset\n",
    "\n",
    "# manipulate data\n",
    "import numpy as np\n",
    "\n",
    "# visualize data\n",
    "import matplotlib.pyplot as plt\n",
    "import seaborn as sn\n",
    "\n",
    "# model preparation\n",
    "from sklearn.model_selection import (learning_curve,\n",
    "                                     LearningCurveDisplay, \n",
    "                                     validation_curve,\n",
    "                                     ValidationCurveDisplay)\n",
    "\n",
    "# neural network weights\n",
    "from models import good_weights\n",
    "\n",
    "# optmization problem\n",
    "from models import good_problem\n",
    "\n",
    "np.random.seed(123)"
   ]
  },
  {
   "cell_type": "markdown",
   "metadata": {},
   "source": [
    "### Load, Clean, Preprocess, Scale, Baseline: Cardiovascular Disease"
   ]
  },
  {
   "cell_type": "code",
   "execution_count": 2,
   "metadata": {},
   "outputs": [
    {
     "name": "stdout",
     "output_type": "stream",
     "text": [
      "CVD Loading and Cleaning...\n",
      "CVD Loaded and Cleaned...\n",
      "\n",
      "CVD Splitting...\n",
      "CVD Split...\n",
      "\n",
      "CVD Scaling...\n",
      "CVD Scaled...\n",
      "\n",
      "Baseline Accuracy Score: 0.51%\n",
      "\n"
     ]
    }
   ],
   "source": [
    "X_train_scaled_cd, X_test_scaled_cd, y_train_cd, y_test_cd = final_dataset(dataset='cvd')"
   ]
  },
  {
   "cell_type": "markdown",
   "metadata": {},
   "source": [
    "### Modeling: Cardiovascular Disease"
   ]
  },
  {
   "cell_type": "code",
   "execution_count": 3,
   "metadata": {},
   "outputs": [
    {
     "name": "stdout",
     "output_type": "stream",
     "text": [
      "Running All Algorithms\n",
      "Running Random Hill Climbing\n",
      "Running Simulated Annealing\n",
      "Running Genetic Algorithm\n",
      "Successfully Run All Algorithms\n",
      "\n",
      "Working on: Random Hill Climbing\n",
      "Fitting: Random Hill Climbing\n",
      "\n",
      "Predicting (Training): Random Hill Climbing\n",
      "\n",
      "Calculating Recall (Training): Random Hill Climbing\n",
      "\n",
      "Appending Results (Training): Random Hill Climbing\n",
      "\n",
      "The train recall score: 0.692687514695509%\n",
      "\n",
      "Predicting (Testing): Random Hill Climbing\n",
      "\n",
      "Calculting Recall (Testing): Random Hill Climbing\n",
      "\n",
      "Appending Results (Testing): Random Hill Climbing\n",
      "\n",
      "The test recall score: 0.6897470039946738%\n",
      "\n",
      "Working on: Simulated Annealing\n",
      "Fitting: Simulated Annealing\n",
      "\n",
      "Predicting (Training): Simulated Annealing\n",
      "\n",
      "Calculating Recall (Training): Simulated Annealing\n",
      "\n",
      "Appending Results (Training): Simulated Annealing\n",
      "\n",
      "The train recall score: 0.035269221725840585%\n",
      "\n",
      "Predicting (Testing): Simulated Annealing\n",
      "\n",
      "Calculting Recall (Testing): Simulated Annealing\n",
      "\n",
      "Appending Results (Testing): Simulated Annealing\n",
      "\n",
      "The test recall score: 0.03994673768308921%\n",
      "\n",
      "Working on: Genetic Algorithm\n",
      "Fitting: Genetic Algorithm\n",
      "\n",
      "Predicting (Training): Genetic Algorithm\n",
      "\n",
      "Calculating Recall (Training): Genetic Algorithm\n",
      "\n",
      "Appending Results (Training): Genetic Algorithm\n",
      "\n",
      "The train recall score: 0.6868093110745356%\n",
      "\n",
      "Predicting (Testing): Genetic Algorithm\n",
      "\n",
      "Calculting Recall (Testing): Genetic Algorithm\n",
      "\n",
      "Appending Results (Testing): Genetic Algorithm\n",
      "\n",
      "The test recall score: 0.6830892143808256%\n"
     ]
    }
   ],
   "source": [
    "nn = good_weights(X_train_scaled_cd, y_train_cd,\n",
    "                 X_test_scaled_cd, y_test_cd)"
   ]
  },
  {
   "cell_type": "markdown",
   "metadata": {},
   "source": [
    "### Plotting: Cardiovascular Disease"
   ]
  },
  {
   "cell_type": "code",
   "execution_count": 4,
   "metadata": {},
   "outputs": [],
   "source": [
    "# Create/display fitness curve plot for selected algorithm.\n",
    "# plt.plot(nn.fitness_curve)\n",
    "# plt.ylabel('Relative Fitness Found')\n",
    "# plt.show()"
   ]
  },
  {
   "cell_type": "markdown",
   "metadata": {},
   "source": [
    "### Optimization Problem: Cardiovascular Disease"
   ]
  },
  {
   "cell_type": "code",
   "execution_count": 5,
   "metadata": {},
   "outputs": [],
   "source": [
    "# op = good_problem()"
   ]
  }
 ],
 "metadata": {
  "kernelspec": {
   "display_name": "ml",
   "language": "python",
   "name": "python3"
  },
  "language_info": {
   "codemirror_mode": {
    "name": "ipython",
    "version": 3
   },
   "file_extension": ".py",
   "mimetype": "text/x-python",
   "name": "python",
   "nbconvert_exporter": "python",
   "pygments_lexer": "ipython3",
   "version": "3.11.7"
  }
 },
 "nbformat": 4,
 "nbformat_minor": 2
}
