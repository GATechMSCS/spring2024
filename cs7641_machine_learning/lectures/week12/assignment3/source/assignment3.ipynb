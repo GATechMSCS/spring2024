{
 "cells": [
  {
   "cell_type": "markdown",
   "metadata": {},
   "source": [
    "### IMPORTS"
   ]
  },
  {
   "cell_type": "code",
   "execution_count": 1,
   "metadata": {},
   "outputs": [],
   "source": [
    "# load, preprocess, scale, baseline\n",
    "from wrangle import final_dataset\n",
    "\n",
    "# manipulate data\n",
    "import pandas as pd\n",
    "import numpy as np\n",
    "\n",
    "# visualize data\n",
    "import matplotlib.pyplot as plt\n",
    "from cluster_plots import (ncomponents_optimal, scatter_component_means,\n",
    "                           nclusters_optimal, scatter_cluster_centers)\n",
    "from dimensionality_reduction_plots import optimal_ncomponents, opt_component_plots\n",
    "from nn_plot import (learn_curve_display,\n",
    "                    val_curve_display)\n",
    "import seaborn as sns\n",
    "\n",
    "# put it all together\n",
    "from steps import step2\n",
    "from models import put_it_all_together\n",
    "\n",
    "np.random.seed(123)"
   ]
  },
  {
   "cell_type": "markdown",
   "metadata": {},
   "source": [
    "$$\n",
    "\\textbf{Cardiovascular Disease}\\\\~\\\\\n",
    "\\textbf{Load, Clean, Preprocess, Scale, Baseline: Cardiovascular Disease}\n",
    "$$"
   ]
  },
  {
   "cell_type": "code",
   "execution_count": 2,
   "metadata": {},
   "outputs": [
    {
     "name": "stdout",
     "output_type": "stream",
     "text": [
      "CVD Loading and Cleaning...\n",
      "CVD Loaded and Cleaned...\n",
      "\n",
      "CVD Splitting...\n",
      "CVD Split...\n",
      "\n",
      "CVD Scaling...\n",
      "CVD Scaled...\n",
      "\n",
      "Baseline Accuracy Score: 0.51%\n",
      "\n",
      "CPU times: user 96.4 ms, sys: 12.1 ms, total: 108 ms\n",
      "Wall time: 108 ms\n"
     ]
    }
   ],
   "source": [
    "%%time\n",
    "X_train_scaled_cd, X_test_scaled_cd, y_train_cd, y_test_cd = final_dataset(dataset='cvd')"
   ]
  },
  {
   "cell_type": "markdown",
   "metadata": {},
   "source": [
    "### Step 1\n",
    "$$\n",
    "\\textbf{Cardiovascular Disease}\\\\~\\\\\n",
    "\\textbf{KMeans Find and View Optimal Clusters}\n",
    "$$"
   ]
  },
  {
   "cell_type": "code",
   "execution_count": 3,
   "metadata": {},
   "outputs": [],
   "source": [
    "# nclusters_optimal(X_train=X_train_scaled_cd, y_train=y_train_cd, dset='cvd', model='km', step3=False)\n",
    "# scatter_cluster_centers(X_train=X_train_scaled_cd, k=2, dset='cvd', xlabel='Height', ylabel='Weight', model='km', step3=False)"
   ]
  },
  {
   "cell_type": "markdown",
   "metadata": {},
   "source": [
    "$$\n",
    "\\textbf{Cardiovascular Disease}\\\\~\\\\\n",
    "\\textbf{Gaussian Mixture Find and View Optimal Components}\n",
    "$$"
   ]
  },
  {
   "cell_type": "code",
   "execution_count": 4,
   "metadata": {},
   "outputs": [],
   "source": [
    "# ncomponents_optimal(X_train=X_train_scaled_cd, y_train=y_train_cd, dset='cvd', model='gm', step3=False)\n",
    "# scatter_component_means(X_train=X_train_scaled_cd, components=12, dset='cvd', xlabel='Height', ylabel='Weight', model='gm', step3=False)"
   ]
  },
  {
   "cell_type": "markdown",
   "metadata": {},
   "source": [
    "### Step 2\n",
    "$$\n",
    "\\textbf{Cardiovascular Disease}\\\\~\\\\\n",
    "\\textbf{PCA, ICA, SRP, HLLE Find and View Optimal Components}\n",
    "$$"
   ]
  },
  {
   "cell_type": "code",
   "execution_count": 5,
   "metadata": {},
   "outputs": [],
   "source": [
    "# optimal_ncomponents(X_train_scaled_cd, 'cvd')\n",
    "# opt_component_plots(X_train_scaled_cd,\n",
    "#                     pca_comp=3,\n",
    "#                     ica_comp=4, \n",
    "#                     srp_comp=4, \n",
    "#                     hlle_comp=4, \n",
    "#                     hlle_neigh=15,\n",
    "#                     dset='cvd')"
   ]
  },
  {
   "cell_type": "code",
   "execution_count": 6,
   "metadata": {},
   "outputs": [],
   "source": [
    "# dset = 'cvd'\n",
    "# results_s2_cd = {dset: {'step2': {'pca': None,\n",
    "#                                     'ica': None,\n",
    "#                                     'sparseRP': None,\n",
    "#                                     'manifold': None},}}\n",
    "\n",
    "# results_s3_cd = step2(X_train=X_train_scaled_cd,\n",
    "#                     y_train=y_train_cd,\n",
    "#                     X_test=X_test_scaled_cd,\n",
    "#                     y_test=y_test_cd,\n",
    "#                     dset=dset,\n",
    "#                     results=results_s2_cd,\n",
    "#                     run_step1=False)"
   ]
  },
  {
   "cell_type": "code",
   "execution_count": 7,
   "metadata": {},
   "outputs": [],
   "source": [
    "# pca_step3_cd = results_s3_cd['cvd']['step2']['pca'][1]\n",
    "# ica_step3_cd = results_s3_cd['cvd']['step2']['ica'][1]\n",
    "# srp_step3_cd = results_s3_cd['cvd']['step2']['sparseRP'][1]\n",
    "# hlle_step3_cd = results_s3_cd['cvd']['step2']['manifold'][1]"
   ]
  },
  {
   "cell_type": "markdown",
   "metadata": {},
   "source": [
    "### Step 3\n",
    "$$\n",
    "\\textbf{Cardiovascular Disease}\\\\~\\\\\n",
    "\\textbf{KMeans Find and View Optimal Clusters with DR}\\\\~\\\\\n",
    "$$"
   ]
  },
  {
   "cell_type": "code",
   "execution_count": 8,
   "metadata": {},
   "outputs": [],
   "source": [
    "# # pca\n",
    "# nclusters_optimal(X_train=pca_step3_cd, y_train=y_train_cd, dset='cvd', step3=True, model='pca')\n",
    "# scatter_cluster_centers(X_train=pca_step3_cd, k=2, dset='cvd', step3=True, xlabel='Height', ylabel='Weight', model='pca')\n",
    "\n",
    "# # ica\n",
    "# nclusters_optimal(X_train=ica_step3_cd, y_train=y_train_cd, dset='cvd', step3=True, model='ica')\n",
    "# scatter_cluster_centers(X_train=ica_step3_cd, k=4, dset='cvd', step3=True, xlabel='Height', ylabel='Weight', model='ica')\n",
    "\n",
    "# # srp\n",
    "# nclusters_optimal(X_train=srp_step3_cd, y_train=y_train_cd, dset='cvd', step3=True, model='srp')\n",
    "# scatter_cluster_centers(X_train=srp_step3_cd, k=2, dset='cvd', step3=True, xlabel='Height', ylabel='Weight', model='srp')\n",
    "\n",
    "# # hlle\n",
    "# nclusters_optimal(X_train=hlle_step3_cd, y_train=y_train_cd, dset='cvd', step3=True, model='hlle')\n",
    "# scatter_cluster_centers(X_train=hlle_step3_cd, k=4, dset='cvd', step3=True, xlabel='Height', ylabel='Weight', model='hlle')"
   ]
  },
  {
   "cell_type": "markdown",
   "metadata": {},
   "source": [
    "$$\n",
    "\\textbf{Cardiovascular Disease}\\\\~\\\\\n",
    "\\textbf{Gaussian Mixture Find and View Optimal Components}\n",
    "$$"
   ]
  },
  {
   "cell_type": "code",
   "execution_count": 9,
   "metadata": {},
   "outputs": [],
   "source": [
    "# # pca\n",
    "# ncomponents_optimal(pca_step3_cd, y_train_cd, 'cvd', step3=True, model='pca')\n",
    "# scatter_component_means(pca_step3_cd, 12, 'cvd', 'Height', 'Weight', step3=True, model='pca')\n",
    "\n",
    "# # ica\n",
    "# ncomponents_optimal(ica_step3_cd, y_train_cd, 'cvd', step3=True, model='ica')\n",
    "# scatter_component_means(ica_step3_cd, 12, 'cvd', 'Height', 'Weight', step3=True, model='ica')\n",
    "\n",
    "# # srp\n",
    "# ncomponents_optimal(srp_step3_cd, y_train_cd, 'cvd', step3=True, model='srp')\n",
    "# scatter_component_means(srp_step3_cd, 12, 'cvd', 'Height', 'Weight', step3=True, model='srp')\n",
    "\n",
    "# # hlle\n",
    "# ncomponents_optimal(hlle_step3_cd, y_train_cd, 'cvd', step3=True, model='hlle')\n",
    "# scatter_component_means(hlle_step3_cd, 12, 'cvd', 'Height', 'Weight', step3=True, model='hlle')"
   ]
  },
  {
   "cell_type": "markdown",
   "metadata": {},
   "source": [
    "$$\n",
    "\\textbf{Cardiovascular Disease}\\\\~\\\\\n",
    "\\textbf{Perform All Steps, Run All Models}\n",
    "$$"
   ]
  },
  {
   "cell_type": "code",
   "execution_count": 10,
   "metadata": {},
   "outputs": [
    {
     "name": "stdout",
     "output_type": "stream",
     "text": [
      "\n",
      "Running All Steps\n",
      "{'cvd': {'step1': {'gm': None, 'kmeans': None}, 'step2': {'pca': None, 'ica': None, 'sparseRP': None, 'manifold': None}, 'step3': {'pca': {'gm': None, 'kmeans': None}, 'ica': {'gm': None, 'kmean': None}, 'sparseRP': {'gm': None, 'kmeans': None}, 'manifold': {'gm': None, 'kmeans': None}}, 'step4': {'pca': None, 'ica': None, 'sparseRP': None, 'manifold': None}, 'step5': {'gm': None, 'kmeans': None}}}\n",
      "{'cvd': {'step1': {'gm': None, 'kmeans': None}, 'step2': {'pca': None, 'ica': None, 'sparseRP': None, 'manifold': None}, 'step3': {'pca': {'gm': None, 'kmeans': None}, 'ica': {'gm': None, 'kmean': None}, 'sparseRP': {'gm': None, 'kmeans': None}, 'manifold': {'gm': None, 'kmeans': None}}, 'step4': {'pca': None, 'ica': None, 'sparseRP': None, 'manifold': None}, 'step5': {'gm': None, 'kmeans': None}}}\n",
      "Step: 1\n",
      "Fitting and Predicting Expectation Maximization\n",
      "Fitting and Predicting Gaussian Mixture\n"
     ]
    },
    {
     "name": "stdout",
     "output_type": "stream",
     "text": [
      "Done with Gaussian Mixture\n",
      "Done with Expectation Maximization\n",
      "\n",
      "Fitting and Predicting Clustering\n",
      "Fitting and Predicting KMeans\n",
      "Done with KMeans\n",
      "Done with Clustering\n",
      "Step: 1 Complete\n",
      "\n",
      "Step: 2\n",
      "Fitting PCA\n",
      "Fitting General PCA\n",
      "Done with General PCA\n",
      "Done with PCA\n",
      "\n",
      "Fitting ICA\n",
      "Fitting and Transforming FastICA\n",
      "Done with FastICA\n",
      "Done with ICA\n",
      "\n",
      "Fitting and Transforming Randomized Projections\n",
      "Fitting and Transforing with Sparse Random Projection\n",
      "Done with Sparse Random Projection\n",
      "Done with Randomized Projections\n",
      "\n",
      "Fitting and Transforming Manifold Learning\n",
      "Fitting and Transforming with Locally Linear Embedding: Heissan Mapping\n"
     ]
    }
   ],
   "source": [
    "%%time\n",
    "# Run CVD Model\n",
    "results_cv = put_it_all_together(X_train=X_train_scaled_cd,\n",
    "                                y_train=y_train_cd,\n",
    "                                X_test=X_test_scaled_cd,\n",
    "                                y_test=y_test_cd,\n",
    "                                dset='cvd')"
   ]
  },
  {
   "cell_type": "code",
   "execution_count": null,
   "metadata": {},
   "outputs": [
    {
     "ename": "NameError",
     "evalue": "name 'results_cv' is not defined",
     "output_type": "error",
     "traceback": [
      "\u001b[0;31m---------------------------------------------------------------------------\u001b[0m",
      "\u001b[0;31mNameError\u001b[0m                                 Traceback (most recent call last)",
      "Cell \u001b[0;32mIn[11], line 1\u001b[0m\n\u001b[0;32m----> 1\u001b[0m step1_cv \u001b[38;5;241m=\u001b[39m \u001b[43mresults_cv\u001b[49m[\u001b[38;5;124m'\u001b[39m\u001b[38;5;124mcvd\u001b[39m\u001b[38;5;124m'\u001b[39m][\u001b[38;5;124m'\u001b[39m\u001b[38;5;124mstep1\u001b[39m\u001b[38;5;124m'\u001b[39m]\n\u001b[1;32m      2\u001b[0m step2_cv \u001b[38;5;241m=\u001b[39m results_cv[\u001b[38;5;124m'\u001b[39m\u001b[38;5;124mcvd\u001b[39m\u001b[38;5;124m'\u001b[39m][\u001b[38;5;124m'\u001b[39m\u001b[38;5;124mstep2\u001b[39m\u001b[38;5;124m'\u001b[39m]\n\u001b[1;32m      3\u001b[0m step3_cv \u001b[38;5;241m=\u001b[39m results_cv[\u001b[38;5;124m'\u001b[39m\u001b[38;5;124mcvd\u001b[39m\u001b[38;5;124m'\u001b[39m][\u001b[38;5;124m'\u001b[39m\u001b[38;5;124mstep3\u001b[39m\u001b[38;5;124m'\u001b[39m]\n",
      "\u001b[0;31mNameError\u001b[0m: name 'results_cv' is not defined"
     ]
    }
   ],
   "source": [
    "\n",
    "step1_cv = results_cv['cvd']['step1']\n",
    "step2_cv = results_cv['cvd']['step2']\n",
    "step3_cv = results_cv['cvd']['step3']\n",
    "step4_cv = results_cv['cvd']['step4']\n",
    "step5_cv = results_cv['cvd']['step5']\n",
    "\n",
    "pca_best_cvd = step4_cv['pca']\n",
    "ica_best_cvd = step4_cv['ica']\n",
    "srp_best_cvd = step4_cv['sparseRP']\n",
    "hlle_best_cvd = step4_cv['manifold']\n",
    "\n",
    "pca_train_cvd = results_cv['cvd']['step2']['pca'][1]\n",
    "ica_train_cvd = results_cv['cvd']['step2']['ica'][1]\n",
    "sparseRP_train_cvd = results_cv['cvd']['step2']['sparseRP'][1]\n",
    "manifold_train_cvd = results_cv['cvd']['step2']['manifold'][1]\n",
    "\n",
    "cd_params = {'param1_name': 'beta_1',\n",
    "                'param1_range': [0.25, 0.50, 0.75, 0.90],\n",
    "                'param2_name': 'beta_2',\n",
    "                'param2_range': [0.22, 0.44, 0.66, 0.88],\n",
    "                'sizes': [0.7, 0.75, 0.80, 0.90]}"
   ]
  },
  {
   "cell_type": "markdown",
   "metadata": {},
   "source": [
    "### Step 4\n",
    "$$\n",
    "\\textbf{Cardiovascular Disease}\\\\~\\\\\n",
    "\\textbf{Learning and Validation Curves}\n",
    "$$"
   ]
  },
  {
   "cell_type": "code",
   "execution_count": null,
   "metadata": {},
   "outputs": [],
   "source": [
    "# learning curves\n",
    "# pca\n",
    "fit_times_pca, score_times_pca = learn_curve_display(pca_train, y_train_cd, 'cvd',\n",
    "                                                    cd_params['sizes'], 'pca')\n",
    "\n",
    "# ica\n",
    "fit_times_ica, score_times_ica = learn_curve_display(ica_train, y_train_cd, 'cvd',\n",
    "                                                    cd_params['sizes'], 'ica')\n",
    "\n",
    "# srp\n",
    "fit_times_srp, score_times_srp = learn_curve_display(sparseRP_train, y_train_cd, 'cvd',\n",
    "                                                    cd_params['sizes'], 'srp')\n",
    "\n",
    "# hlle\n",
    "fit_times_hlle, score_times_hlle = learn_curve_display(manifold_train, y_train_cd, 'cvd',\n",
    "                                                    cd_params['sizes'], 'hlle')"
   ]
  },
  {
   "cell_type": "code",
   "execution_count": null,
   "metadata": {},
   "outputs": [],
   "source": [
    "## validation curves\n",
    "# pca\n",
    "val_curve_display(pca_train, y_train_cd, 'cvd', \n",
    "                    cd_params['param1_name'], cd_params['param1_range'],\n",
    "                    model_name='pca',error=False)\n",
    "val_curve_display(pca_train, y_train_cd, 'cvd', \n",
    "                    cd_params['param2_name'], cd_params['param2_range'],\n",
    "                    model_name='pca',error=False)\n",
    "val_curve_display(pca_train, y_train_cd, 'cvd', \n",
    "                    None, None, model_name='pca', error=True)\n",
    "\n",
    "# ica\n",
    "val_curve_display(ica_train, y_train_cd, 'cvd',\n",
    "                    cd_params['param1_name'], cd_params['param1_range'],\n",
    "                    model_name='ica',error=False)\n",
    "val_curve_display(ica_train, y_train_cd, 'cvd', \n",
    "                    cd_params['param2_name'], cd_params['param2_range'],\n",
    "                    model_name='ica', error=False)\n",
    "val_curve_display(ica_train, y_train_cd, 'cvd',\n",
    "                    None, None, model_name='ica', error=True)\n",
    "\n",
    "# srp\n",
    "val_curve_display(sparseRP_train, y_train_cd, 'cvd', \n",
    "                    cd_params['param1_name'], cd_params['param1_range'],\n",
    "                    model_name='srp', error=False)\n",
    "val_curve_display(sparseRP_train, y_train_cd, 'cvd', \n",
    "                    cd_params['param2_name'], cd_params['param2_range'],\n",
    "                    model_name='srp', error=False)\n",
    "val_curve_display(sparseRP_train, y_train_cd, 'cvd',\n",
    "                    None, None, model_name='srp', error=True)\n",
    "\n",
    "# hlle\n",
    "val_curve_display(manifold_train, y_train_cd, 'cvd', \n",
    "                    cd_params['param1_name'], cd_params['param1_range'],\n",
    "                    model_name='hlle', error=False)\n",
    "val_curve_display(manifold_train, y_train_cd, 'cvd', \n",
    "                    cd_params['param2_name'], cd_params['param2_range'],\n",
    "                    model_name='hlle', error=False)\n",
    "val_curve_display(manifold_train, y_train_cd, 'cvd',\n",
    "                    None, None, model_name='hlle', error=True)\n"
   ]
  },
  {
   "cell_type": "code",
   "execution_count": null,
   "metadata": {},
   "outputs": [],
   "source": [
    "# fit times\n",
    "# pca\n",
    "fit_times_pca, score_times_pca\n",
    "\n",
    "# ica\n",
    "fit_times_ica, score_times_ica\n",
    "\n",
    "# srp\n",
    "fit_times_srp, score_times_srp\n",
    "\n",
    "# hlle\n",
    "fit_times_hlle, score_times_hlle"
   ]
  },
  {
   "cell_type": "markdown",
   "metadata": {},
   "source": [
    "### Step 5\n",
    "$$\n",
    "\\textbf{Cardiovascular Disease}\\\\~\\\\\n",
    "\\textbf{Learning and Validation Curves}\n",
    "$$"
   ]
  },
  {
   "cell_type": "code",
   "execution_count": null,
   "metadata": {},
   "outputs": [],
   "source": [
    "gm__best_cvd = step5_cv['gm']\n",
    "cl_best_cvd = step5_cv['kmeans']\n",
    "\n",
    "X_train_gm = step1_cv['gm'][1]\n",
    "X_train_cl = step1_cv['kmeans'][1]\n",
    "\n",
    "cd_params = {'param1_name': 'beta_1',\n",
    "                'param1_range': [0.25, 0.50, 0.75, 0.90],\n",
    "                'param2_name': 'beta_2',\n",
    "                'param2_range': [0.22, 0.44, 0.66, 0.88],\n",
    "                'sizes': [0.7, 0.75, 0.80, 0.90]}"
   ]
  },
  {
   "cell_type": "code",
   "execution_count": null,
   "metadata": {},
   "outputs": [],
   "source": [
    "# learning curves\n",
    "# gm\n",
    "fit_times_gm, score_times_gm = learn_curve_display(X_train_gm, y_train_cd, 'cvd', cd_params['sizes'], 'gm')\n",
    "\n",
    "# cl\n",
    "fit_times_cl, score_times_cl = learn_curve_display(X_train_cl, y_train_cd, 'cvd', cd_params['sizes'], 'km')"
   ]
  },
  {
   "cell_type": "code",
   "execution_count": null,
   "metadata": {},
   "outputs": [],
   "source": [
    "# validation curves\n",
    "# gm\n",
    "val_curve_display(X_train_gm, y_train_cd, 'cvd', \n",
    "                    cd_params['param1_name'], cd_params['param1_range'],\n",
    "                    model_name='gm', error=False)\n",
    "val_curve_display(X_train_gm, y_train_cd, 'cvd', \n",
    "                    cd_params['param2_name'], cd_params['param2_range'],\n",
    "                    model_name='gm', error=False)\n",
    "val_curve_display(X_train_gm, y_train_cd, 'cvd', \n",
    "                    None, None, model_name='gm', error=True)\n",
    "\n",
    "# cl\n",
    "val_curve_display(X_train_cl, y_train_cd, 'cvd',\n",
    "                    cd_params['param1_name'], cd_params['param1_range'],\n",
    "                    model_name='km', error=False)\n",
    "val_curve_display(X_train_cl, y_train_cd, 'cvd', \n",
    "                    cd_params['param2_name'], cd_params['param2_range'],\n",
    "                    model_name='km', error=False)\n",
    "val_curve_display(X_train_cl, y_train_cd, 'cvd',\n",
    "                    None, None, model_name='km', error=True)"
   ]
  },
  {
   "cell_type": "code",
   "execution_count": null,
   "metadata": {},
   "outputs": [],
   "source": [
    "fit_times_gm, score_times_gm\n",
    "\n",
    "fit_times_cl, score_times_cl"
   ]
  },
  {
   "cell_type": "markdown",
   "metadata": {},
   "source": [
    "$$\n",
    "\\textbf{Nutrition Facts}\\\\~\\\\\n",
    "\\textbf{Load, Clean, Preprocess, Scale, Baseline: Nutrition Facts}\n",
    "$$"
   ]
  },
  {
   "cell_type": "code",
   "execution_count": null,
   "metadata": {},
   "outputs": [],
   "source": [
    "%%time\n",
    "X_train_scaled_nf, X_test_scaled_nf, y_train_nf, y_test_nf = final_dataset(dataset='nf')"
   ]
  },
  {
   "cell_type": "markdown",
   "metadata": {},
   "source": [
    "### Step 1\n",
    "$$\n",
    "\\textbf{Nutrition Facts}\\\\~\\\\\n",
    "\\textbf{KMeans Find and View Optimal Clusters}\n",
    "$$"
   ]
  },
  {
   "cell_type": "code",
   "execution_count": null,
   "metadata": {},
   "outputs": [],
   "source": [
    "# nclusters_optimal(X_train=X_train_scaled_nf, y_train=y_train_nf, dset='nf', model='km', step3=False)\n",
    "# scatter_cluster_centers(X_train=X_train_scaled_nf, k=8, dset='nf', xlabel='Protein', ylabel='Carbohydrate', model='km', step3=False)"
   ]
  },
  {
   "cell_type": "markdown",
   "metadata": {},
   "source": [
    "$$\n",
    "\\textbf{Nutrition Facts}\\\\~\\\\\n",
    "\\textbf{Gaussian Mixture Find and View Optimal Components}\n",
    "$$"
   ]
  },
  {
   "cell_type": "code",
   "execution_count": null,
   "metadata": {},
   "outputs": [],
   "source": [
    "# ncomponents_optimal(X_train=X_train_scaled_nf, y_train=y_train_nf, dset='nf', model='gm', step3=False)\n",
    "# scatter_component_means(X_train=X_train_scaled_nf, components=8, dset='nf', xlabel='Protein', ylabel='Carbohydrates', model='gm', step3=False)"
   ]
  },
  {
   "cell_type": "markdown",
   "metadata": {},
   "source": [
    "### Step 2\n",
    "$$\n",
    "\\textbf{Nutrition Facts}\\\\~\\\\\n",
    "\\textbf{PCA, ICA, SRP, HLLE Find and View Optimal Components}\n",
    "$$"
   ]
  },
  {
   "cell_type": "code",
   "execution_count": null,
   "metadata": {},
   "outputs": [],
   "source": [
    "# optimal_ncomponents(X_train_scaled_nf, dset='nf')\n",
    "# opt_component_plots(X_train_scaled_nf,\n",
    "#                     pca_comp=3, \n",
    "#                     ica_comp=4, \n",
    "#                     srp_comp=4, \n",
    "#                     hlle_comp=4, \n",
    "#                     hlle_neigh=15, \n",
    "#                     dset='nf')"
   ]
  },
  {
   "cell_type": "code",
   "execution_count": null,
   "metadata": {},
   "outputs": [],
   "source": [
    "# dset = 'nf'\n",
    "# results_s2_nf = {dset: {'step2': {'pca': None,\n",
    "#                     'ica': None,\n",
    "#                     'sparseRP': None,\n",
    "#                     'manifold': None},}}\n",
    "\n",
    "# results_s3_nf = step2(X_train=X_train_scaled_nf,\n",
    "#                       y_train=y_train_nf,\n",
    "#                       X_test=X_test_scaled_nf,\n",
    "#                       y_test=y_test_nf,\n",
    "#                       dset=dset,\n",
    "#                       results=results_s2_nf,\n",
    "#                       run_step1=False)"
   ]
  },
  {
   "cell_type": "code",
   "execution_count": null,
   "metadata": {},
   "outputs": [],
   "source": [
    "# pca_step3_nf = results_s3_nf['nf']['step2']['pca'][1]\n",
    "# ica_step3_nf = results_s3_nf['nf']['step2']['ica'][1]\n",
    "# srp_step3_nf = results_s3_nf['nf']['step2']['sparseRP'][1]\n",
    "# hlle_step3_nf = results_s3_nf['nf']['step2']['manifold'][1]"
   ]
  },
  {
   "cell_type": "markdown",
   "metadata": {},
   "source": [
    "### Step 3\n",
    "$$\n",
    "\\textbf{Nutrition Facts}\\\\~\\\\\n",
    "\\textbf{KMeans Find and View Optimal Clusters with DR}\n",
    "$$"
   ]
  },
  {
   "cell_type": "code",
   "execution_count": null,
   "metadata": {},
   "outputs": [],
   "source": [
    "# # pca\n",
    "# nclusters_optimal(X_train=pca_step3_nf, y_train=y_train_nf, dset='nf', step3=True, model='pca')\n",
    "# scatter_cluster_centers(X_train=pca_step3_nf, k=8, dset='nf', step3=True, xlabel='Protein', ylabel='Carbohydrate', model='pca')\n",
    "\n",
    "# # ica\n",
    "# nclusters_optimal(X_train=ica_step3_nf, y_train=y_train_nf, dset='nf', step3=True, model='ica')\n",
    "# scatter_cluster_centers(X_train=ica_step3_nf, k=8, dset='nf', step3=True, xlabel='Protein', ylabel='Carbohydrate', model='ica')\n",
    "\n",
    "# # srp\n",
    "# nclusters_optimal(X_train=srp_step3_nf, y_train=y_train_nf, dset='nf', step3=True, model='srp')\n",
    "# scatter_cluster_centers(X_train=srp_step3_nf, k=8, dset='nf', step3=True, xlabel='Protein', ylabel='Carbohydrate', model='srp')\n",
    "\n",
    "# # hlle\n",
    "# nclusters_optimal(X_train=hlle_step3_nf, y_train=y_train_nf, dset='nf', step3=True, model='hlle')\n",
    "# scatter_cluster_centers(X_train=hlle_step3_nf, k=8, dset='nf', step3=True, xlabel='Protein', ylabel='Carbohydrate', model='hlle')"
   ]
  },
  {
   "cell_type": "markdown",
   "metadata": {},
   "source": [
    "$$\n",
    "\\textbf{Nutrition Facts}\\\\~\\\\\n",
    "\\textbf{Gaussian Mixture Find and View Optimal Components}\n",
    "$$"
   ]
  },
  {
   "cell_type": "code",
   "execution_count": null,
   "metadata": {},
   "outputs": [],
   "source": [
    "# # pca\n",
    "# ncomponents_optimal(pca_step3_nf, y_train_nf, 'nf', step3=True, model='pca')\n",
    "# scatter_component_means(pca_step3_nf, 8, 'nf', 'Protein', 'Carbohydrates', step3=True, model='pca')\n",
    "\n",
    "# # ica\n",
    "# ncomponents_optimal(ica_step3_nf, y_train_nf, 'nf', step3=True, model='ica')\n",
    "# scatter_component_means(ica_step3_nf, 8, 'nf', 'Protein', 'Carbohydrates', step3=True, model='ica')\n",
    "\n",
    "# # srp\n",
    "# ncomponents_optimal(srp_step3_nf, y_train_nf, 'nf', step3=True, model='srp')\n",
    "# scatter_component_means(srp_step3_nf, 8, 'nf', 'Protein', 'Carbohydrates', step3=True, model='srp')\n",
    "\n",
    "# # hlle\n",
    "# ncomponents_optimal(hlle_step3_nf, y_train_nf, 'nf', step3=True, model='hlle')\n",
    "# scatter_component_means(hlle_step3_nf, 8, 'nf', 'Protein', 'Carbohydrates', step3=True, model='hlle')"
   ]
  },
  {
   "cell_type": "markdown",
   "metadata": {},
   "source": [
    "$$\n",
    "\\textbf{Nutrition Facts}\\\\~\\\\\n",
    "\\textbf{Perform All Steps, Run All Models}\n",
    "$$"
   ]
  },
  {
   "cell_type": "code",
   "execution_count": null,
   "metadata": {},
   "outputs": [],
   "source": [
    "%%time\n",
    "# Run NF Model\n",
    "results_nf = put_it_all_together(X_train=X_train_scaled_nf,\n",
    "                                y_train=y_train_nf,\n",
    "                                X_test=X_test_scaled_nf, \n",
    "                                y_test=y_test_nf,\n",
    "                                dset='nf')"
   ]
  },
  {
   "cell_type": "code",
   "execution_count": null,
   "metadata": {},
   "outputs": [],
   "source": [
    "\n",
    "step1_nf = results_nf['nf']['step1']\n",
    "step2_nf = results_nf['nf']['step2']\n",
    "step3_nf = results_nf['nf']['step3']"
   ]
  },
  {
   "cell_type": "code",
   "execution_count": null,
   "metadata": {},
   "outputs": [],
   "source": []
  }
 ],
 "metadata": {
  "kernelspec": {
   "display_name": "ml",
   "language": "python",
   "name": "python3"
  },
  "language_info": {
   "codemirror_mode": {
    "name": "ipython",
    "version": 3
   },
   "file_extension": ".py",
   "mimetype": "text/x-python",
   "name": "python",
   "nbconvert_exporter": "python",
   "pygments_lexer": "ipython3",
   "version": "3.12.2"
  }
 },
 "nbformat": 4,
 "nbformat_minor": 2
}
