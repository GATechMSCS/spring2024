{
 "cells": [
  {
   "cell_type": "markdown",
   "metadata": {},
   "source": [
    "### IMPORTS"
   ]
  },
  {
   "cell_type": "code",
   "execution_count": 8,
   "metadata": {},
   "outputs": [],
   "source": [
    "# manipulate data\n",
    "import numpy as np\n",
    "import pandas as pd\n",
    "\n",
    "# statistical tests\n",
    "import scipy as sp\n",
    "\n",
    "# visualize data\n",
    "import matplotlib.pyplot as plt\n",
    "import seaborn as sn\n",
    "\n",
    "# model preparation\n",
    "from sklearn.model_selection import (train_test_split, cross_val_score,\n",
    "                                     GridSearchCV, RandomizedSearchCV)\n",
    "\n",
    "# machine learning models\n",
    "from sklearn.neighbors import KNeighborsClassifier \n",
    "from sklearn.svm import SVC\n",
    "from sklearn.tree import DecisionTreeClassifier\n",
    "from sklearn.neural_network import MLPClassifier\n",
    "from sklearn.ensemble import GradientBoostingClassifier\n",
    "\n",
    "# model evaluation\n",
    "from sklearn.metrics import (classification_report, ConfusionMatrixDisplay,\n",
    "                            RocCurveDisplay, accuracy_score, f1_score,\n",
    "                            precision_score, recall_score)"
   ]
  },
  {
   "cell_type": "code",
   "execution_count": 9,
   "metadata": {},
   "outputs": [],
   "source": [
    "# TENSORFLOW/PYTORCH IMPORTS\n",
    "# import tensorflow as tf\n",
    "# import pytorch as py"
   ]
  },
  {
   "cell_type": "code",
   "execution_count": 12,
   "metadata": {},
   "outputs": [],
   "source": [
    "class_models = {'decision tree':{'model': DecisionTreeClassifier(max_depth=7,\n",
    "                                                                 random_state=rand)},\n",
    "                'knn':{'model': KNeighborsClassifier(n_neighbors=7)},\n",
    "                'gradient boosting':{'model': GradientBoostingClassifier(n_estimators=210)},\n",
    "                'support vector machine': {'model': SVC()},\n",
    "                'mlp':{'model':make_pipeline(StandardScaler(),\n",
    "                                             MLPClassifier(hidden_layer_sizes=(7,),\n",
    "                                                           max_iter=500,\n",
    "                                                           early_stopping=True,\n",
    "                                                           random_state=rand))}}"
   ]
  },
  {
   "cell_type": "code",
   "execution_count": 13,
   "metadata": {},
   "outputs": [],
   "source": [
    "for model_name in class_models.keys():\n",
    "    fitted_model = class_models[model_name]['model'].fit(X_train, y_train_class)\n",
    "    y_train_pred = fitted_model.predict(X_train.values)\n",
    "    y_test_prob = fitted_model.predict_proba(X_test.values)[:,1]\n",
    "    y_test_pred = np.where(y_test_prob > 0.5, 1, 0)\n",
    "    class_models[model_name]['fitted'] = fitted_model\n",
    "    class_models[model_name]['probs'] = y_test_prob\n",
    "    class_models[model_name]['preds'] = y_test_pred\n",
    "\n",
    "    # metrics\n",
    "    class_models[model_name]['Accuracy_train'] = accuracy_score(y_train_class, y_train_pred)\n",
    "    class_models[model_name]['Accuracy_test'] = accuracy_score(y_test_class, y_test_pred)\n",
    "    class_models[model_name]['Recall_train'] = recall_score(y_train_class, y_train_pred)\n",
    "    class_models[model_name]['Recall_test'] = recall_score(y_test_class, y_test_pred)\n",
    "    class_models[model_name]['precision_train'] = recall_score(y_train_class, y_train_pred)\n",
    "    class_models[model_name]['precision_test'] = recall_score(y_test_class, y_test_pred)\n",
    "    class_models[model_name]['F1_test'] = f1_score(y_test_class, y_test_pred)"
   ]
  },
  {
   "cell_type": "code",
   "execution_count": null,
   "metadata": {},
   "outputs": [],
   "source": []
  }
 ],
 "metadata": {
  "kernelspec": {
   "display_name": "ml",
   "language": "python",
   "name": "python3"
  },
  "language_info": {
   "codemirror_mode": {
    "name": "ipython",
    "version": 3
   },
   "file_extension": ".py",
   "mimetype": "text/x-python",
   "name": "python",
   "nbconvert_exporter": "python",
   "pygments_lexer": "ipython3",
   "version": "3.11.7"
  }
 },
 "nbformat": 4,
 "nbformat_minor": 2
}
