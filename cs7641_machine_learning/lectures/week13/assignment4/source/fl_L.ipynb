{
 "cells": [
  {
   "cell_type": "code",
   "execution_count": 1,
   "metadata": {},
   "outputs": [
    {
     "name": "stdout",
     "output_type": "stream",
     "text": [
      "\n",
      "\u001b[41mS\u001b[0mFFFFFHFFFFFFFFF\n",
      "FFFFFFFFFFFFFFFF\n",
      "FFFFFFHFFFFFFFFH\n",
      "FFFFFFFFFFFFFFFF\n",
      "FFFFFFFFFFFFFFFF\n",
      "FFFFHFFFFFFHFFFF\n",
      "FFFFFFFFFFFFFFFF\n",
      "FFFFFFFHHFFFHHFF\n",
      "FFFFFFHFFFFFFFHF\n",
      "FFFFFFFFFFFFFFFF\n",
      "FFFFFFFHFFFFFFHF\n",
      "FFFFFFFFFFFFHFFF\n",
      "FFFFFFFFFFFHFFFF\n",
      "FFFFFFFFFFFFFHFH\n",
      "HFFFFFFFFFFFFHFF\n",
      "FFHFFFHFFFFFFFFG\n",
      "\n"
     ]
    }
   ],
   "source": [
    "from create_env_gs import (make_env, run_ql_search, run_pi_search, run_vi_search)\n",
    "import pandas as pd\n",
    "import numpy as np\n",
    "import seaborn as sns\n",
    "import matplotlib.pyplot as plt\n",
    "from gymnasium.spaces import Tuple, Discrete\n",
    "\n",
    "seed = 123\n",
    "np.random.seed(seed)\n",
    "\n",
    "# make environments\n",
    "mdp_fl_L = 'FrozenLake8x8-v1'\n",
    "size_fl_L = 16\n",
    "is_slippery_fl_L = True\n",
    "render_mode_fl_L = 'ansi'\n",
    "prob_frozen_fl_L = 0.9\n",
    "ep_steps_fl_L = 400\n",
    "frozenlakeL = make_env(mdp=mdp_fl_L, \n",
    "                      size=size_fl_L, \n",
    "                      slip=is_slippery_fl_L,\n",
    "                      render=render_mode_fl_L,\n",
    "                      prob_frozen=prob_frozen_fl_L,\n",
    "                      seed=seed,\n",
    "                      ep_steps=ep_steps_fl_L)\n",
    "\n",
    "# FL 16x16\n",
    "# QL\n",
    "iters_ql_fl_L = 115000\n",
    "gamma_ql_fl_L = [0.90, 0.99, 0.999]\n",
    "epsilon_decay_ql_fl_L = [0.80, 0.90, 0.99]\n",
    "init_alpha_ql_fl_L = [0.30, 0.50, 0.70]\n",
    "\n",
    "# PI\n",
    "iters_pi_fl_L = 115000\n",
    "gamma_pi_fl_L = [0.90, 0.99, 0.999]\n",
    "theta_pi_fl_L = [1e-5, 1e-7, 1e-9]\n",
    "\n",
    "# VI\n",
    "iters_vi_fl_L = 115000\n",
    "gamma_vi_fl_L = [0.90, 0.99, 0.999]\n",
    "theta_vi_fl_L = [1e-5, 1e-7, 1e-9]"
   ]
  },
  {
   "cell_type": "markdown",
   "metadata": {},
   "source": [
    "$$\n",
    "\\textbf{Frozen Lake 16x16}\\\\~\\\\\n",
    "\\textbf{Q Learning}\\\\\n",
    "\\textbf{Gamma}\n",
    "$$"
   ]
  },
  {
   "cell_type": "code",
   "execution_count": 2,
   "metadata": {},
   "outputs": [
    {
     "name": "stdout",
     "output_type": "stream",
     "text": [
      "q_learning: gamma=0.9; edr=0.9; ialpha=0.5; episodes=115000\n"
     ]
    },
    {
     "name": "stderr",
     "output_type": "stream",
     "text": [
      "/home/leonardo_leads/miniconda3/envs/mlmdp/lib/python3.12/site-packages/gymnasium/utils/passive_env_checker.py:233: DeprecationWarning: `np.bool8` is a deprecated alias for `np.bool_`.  (Deprecated NumPy 1.24)\n",
      "  if not isinstance(terminated, (bool, np.bool8)):\n",
      "/home/leonardo_leads/miniconda3/envs/mlmdp/lib/python3.12/site-packages/bettermdptools/algorithms/rl.py:178: UserWarning: Episode was truncated.  Bootstrapping 0 reward.\n",
      "  warnings.warn(\"Episode was truncated.  Bootstrapping 0 reward.\")\n"
     ]
    }
   ],
   "source": [
    "ql_fl_L_gamma = run_ql_search(process=frozenlakeL,\n",
    "                        gamma=gamma_ql_fl_L,\n",
    "                        n_episodes=iters_ql_fl_L)\n",
    "ql_fl_L_gamma.keys()"
   ]
  },
  {
   "cell_type": "markdown",
   "metadata": {},
   "source": [
    "$$\n",
    "\\textbf{Q Learning}\\\\\n",
    "\\textbf{Epsilon Decay Ratio}\n",
    "$$"
   ]
  },
  {
   "cell_type": "code",
   "execution_count": null,
   "metadata": {},
   "outputs": [],
   "source": [
    "ql_fl_L_edr = run_ql_search(process=frozenlakeL,\n",
    "                        epsilon_decay_ratio=epsilon_decay_ql_fl_L,\n",
    "                        n_episodes=iters_ql_fl_L)\n",
    "ql_fl_L_edr.keys()"
   ]
  },
  {
   "cell_type": "markdown",
   "metadata": {},
   "source": [
    "$$\n",
    "\\textbf{Q Learning}\\\\\n",
    "\\textbf{Init Alpha}\n",
    "$$"
   ]
  },
  {
   "cell_type": "code",
   "execution_count": null,
   "metadata": {},
   "outputs": [],
   "source": [
    "ql_fl_L_alpha = run_ql_search(process=frozenlakeL,\n",
    "                        init_alpha=init_alpha_ql_fl_L,\n",
    "                        n_episodes=iters_ql_fl_L)\n",
    "ql_fl_L_alpha.keys()"
   ]
  },
  {
   "cell_type": "markdown",
   "metadata": {},
   "source": [
    "$$\n",
    "\\textbf{Policy Iteration}\\\\\n",
    "\\textbf{Gamma}\n",
    "$$"
   ]
  },
  {
   "cell_type": "code",
   "execution_count": null,
   "metadata": {},
   "outputs": [],
   "source": [
    "fl_L_pi_gam = run_pi_search(process=frozenlakeL,\n",
    "                  gamma=gamma_pi_fl_L,\n",
    "                  n_iters=iters_pi_fl_L)\n",
    "fl_L_pi_gam.keys()"
   ]
  },
  {
   "cell_type": "markdown",
   "metadata": {},
   "source": [
    "$$\n",
    "\\textbf{Policy Iteration}\\\\\n",
    "\\textbf{Theta}\n",
    "$$"
   ]
  },
  {
   "cell_type": "code",
   "execution_count": null,
   "metadata": {},
   "outputs": [],
   "source": [
    "fl_L_pi_theta = run_pi_search(process=frozenlakeL,\n",
    "                  theta=theta_pi_fl_L,\n",
    "                  n_iters=iters_pi_fl_L)\n",
    "fl_L_pi_theta.keys()"
   ]
  },
  {
   "cell_type": "markdown",
   "metadata": {},
   "source": [
    "$$\n",
    "\\textbf{Value Iteration}\\\\\n",
    "\\textbf{Gamma}\n",
    "$$"
   ]
  },
  {
   "cell_type": "code",
   "execution_count": null,
   "metadata": {},
   "outputs": [],
   "source": [
    "fl_L_vi_gam = run_vi_search(process=frozenlakeL,\n",
    "                  gamma=gamma_vi_fl_L,\n",
    "                  n_iters=iters_vi_fl_L)\n",
    "fl_L_vi_gam.keys()"
   ]
  },
  {
   "cell_type": "markdown",
   "metadata": {},
   "source": [
    "$$\n",
    "\\textbf{Value Iteration}\\\\\n",
    "\\textbf{Theta}\n",
    "$$"
   ]
  },
  {
   "cell_type": "code",
   "execution_count": null,
   "metadata": {},
   "outputs": [],
   "source": [
    "fl_L_vi_theta = run_vi_search(process=frozenlakeL,\n",
    "                  theta=theta_vi_fl_L,\n",
    "                  n_iters=iters_vi_fl_L)\n",
    "fl_L_vi_theta.keys()"
   ]
  }
 ],
 "metadata": {
  "kernelspec": {
   "display_name": "mlmdp",
   "language": "python",
   "name": "python3"
  },
  "language_info": {
   "codemirror_mode": {
    "name": "ipython",
    "version": 3
   },
   "file_extension": ".py",
   "mimetype": "text/x-python",
   "name": "python",
   "nbconvert_exporter": "python",
   "pygments_lexer": "ipython3",
   "version": "3.12.2"
  }
 },
 "nbformat": 4,
 "nbformat_minor": 2
}
