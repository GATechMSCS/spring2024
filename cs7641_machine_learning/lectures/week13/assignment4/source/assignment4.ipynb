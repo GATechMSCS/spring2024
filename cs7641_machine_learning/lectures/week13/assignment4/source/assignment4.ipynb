{
 "cells": [
  {
   "cell_type": "code",
   "execution_count": null,
   "metadata": {},
   "outputs": [],
   "source": [
    "from frozenlake import (make_env, run_q_gridsearch, run_pi_gs, run_vi_gs)\n",
    "# from blackjack import *\n",
    "import pandas as pd\n",
    "import numpy as np\n",
    "import seaborn as sns\n",
    "import matplotlib.pyplot as plt\n",
    "from gymnasium.envs.toy_text.frozen_lake import generate_random_map\n",
    "\n",
    "np.random.seed(123)"
   ]
  },
  {
   "cell_type": "markdown",
   "metadata": {},
   "source": [
    "$$\n",
    "\\textbf{Frozen Lake}\n",
    "$$"
   ]
  },
  {
   "cell_type": "code",
   "execution_count": null,
   "metadata": {},
   "outputs": [],
   "source": [
    "gamma = [0.95, 1.00, 1.1, 1.2]\n",
    "epsilon_decay = [0.55, 0.65, 0.75, 1.00]\n",
    "iters = [25000, 50000, 75000, 100000]\n",
    "size = generate_random_map(size=16)\n",
    "mdp = 'FrozenLake8x8-v1'"
   ]
  },
  {
   "cell_type": "code",
   "execution_count": null,
   "metadata": {},
   "outputs": [],
   "source": [
    "frozenlake = make_env(mdp=mdp, size=size)"
   ]
  },
  {
   "cell_type": "code",
   "execution_count": null,
   "metadata": {},
   "outputs": [],
   "source": [
    "q_learning_results = run_q_gridsearch(process=frozenlake,\n",
    "                                      gamma=gamma,\n",
    "                                      epsilon_decay=epsilon_decay,\n",
    "                                      iters=iters)"
   ]
  },
  {
   "cell_type": "code",
   "execution_count": null,
   "metadata": {},
   "outputs": [],
   "source": [
    "q_learning_results.keys()"
   ]
  },
  {
   "cell_type": "code",
   "execution_count": null,
   "metadata": {},
   "outputs": [],
   "source": [
    "#results_reward_one = {key: value for key, value in q_learning_results[(1.05, 1.0, 50000)].items() if value['average episode rewards'] == 1}"
   ]
  },
  {
   "cell_type": "code",
   "execution_count": null,
   "metadata": {},
   "outputs": [],
   "source": [
    "# for key, value in q_learning_results[(1.05, 1.0, 50000)].items():\n",
    "    # if key == 'average episode rewards':\n",
    "    #     print(key, value)"
   ]
  },
  {
   "cell_type": "code",
   "execution_count": null,
   "metadata": {},
   "outputs": [],
   "source": [
    "# q_learingFL = pd.DataFrame(data=q_learning_results[(1.05, 1.0, 50000)])\n",
    "# q_learning_results[(1.05, 1.0, 50000)]"
   ]
  },
  {
   "cell_type": "code",
   "execution_count": null,
   "metadata": {},
   "outputs": [],
   "source": [
    "pi_results = run_pi_gs(process=frozenlake,\n",
    "                               gamma=gamma, epsilon_decay=epsilon_decay,\n",
    "                               iters=iters)"
   ]
  },
  {
   "cell_type": "code",
   "execution_count": null,
   "metadata": {},
   "outputs": [],
   "source": [
    "vi_results = run_vi_gs(process=frozenlake,\n",
    "                               gamma=gamma, epsilon_decay=epsilon_decay, \n",
    "                               iters=iters)"
   ]
  },
  {
   "cell_type": "markdown",
   "metadata": {},
   "source": [
    "$$\n",
    "\\textbf{Blackjack}\n",
    "$$"
   ]
  },
  {
   "cell_type": "code",
   "execution_count": null,
   "metadata": {},
   "outputs": [],
   "source": []
  }
 ],
 "metadata": {
  "kernelspec": {
   "display_name": "mlmdp",
   "language": "python",
   "name": "python3"
  },
  "language_info": {
   "codemirror_mode": {
    "name": "ipython",
    "version": 3
   },
   "file_extension": ".py",
   "mimetype": "text/x-python",
   "name": "python",
   "nbconvert_exporter": "python",
   "pygments_lexer": "ipython3",
   "version": "3.12.2"
  }
 },
 "nbformat": 4,
 "nbformat_minor": 2
}
