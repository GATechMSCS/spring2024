{
 "cells": [
  {
   "cell_type": "code",
   "execution_count": 1,
   "metadata": {},
   "outputs": [],
   "source": [
    "import seaborn as sns\n",
    "import matplotlib.pyplot as plt\n",
    "from bettermdptools.utils.plots import Plots\n",
    "import pandas as pd\n",
    "import numpy as np"
   ]
  },
  {
   "cell_type": "markdown",
   "metadata": {},
   "source": [
    "$$\n",
    "\\textbf{Frozen Lake 4x4}\\\\~\\\\\n",
    "\\textbf{Q Learning}\\\\\n",
    "\\textbf{Gamma}\n",
    "$$"
   ]
  },
  {
   "cell_type": "code",
   "execution_count": 2,
   "metadata": {},
   "outputs": [],
   "source": [
    "ql_fl_S_gamma9 = pd.read_csv(\"csv/fl_S/qlearning/ql_fl_S_gamma9.csv\")\n",
    "ql_fl_S_gamma99 = pd.read_csv(\"csv/fl_S/qlearning/ql_fl_S_gamma99.csv\")\n",
    "ql_fl_S_gamma999 = pd.read_csv(\"csv/fl_S/qlearning/ql_fl_S_gamma999.csv\")\n"
   ]
  },
  {
   "cell_type": "markdown",
   "metadata": {},
   "source": [
    "$$\n",
    "\\textbf{Q Learning}\\\\\n",
    "\\textbf{Epsilon Decay Ratio}\n",
    "$$"
   ]
  },
  {
   "cell_type": "code",
   "execution_count": 3,
   "metadata": {},
   "outputs": [],
   "source": [
    "ql_fl_S_edr8 = pd.read_csv(\"csv/fl_S/qlearning/ql_fl_S_edr8.csv\")\n",
    "ql_fl_S_edr99 = pd.read_csv(\"csv/fl_S/qlearning/ql_fl_S_edr99.csv\")\n",
    "ql_fl_S_edr999 = pd.read_csv(\"csv/fl_S/qlearning/ql_fl_S_edr999.csv\")"
   ]
  },
  {
   "cell_type": "markdown",
   "metadata": {},
   "source": [
    "$$\n",
    "\\textbf{Q Learning}\\\\\n",
    "\\textbf{Init Alpha}\n",
    "$$"
   ]
  },
  {
   "cell_type": "code",
   "execution_count": 4,
   "metadata": {},
   "outputs": [],
   "source": [
    "ql_fl_S_alpha3 = pd.read_csv(\"csv/fl_S/qlearning/ql_fl_S_alpha3.csv\")\n",
    "ql_fl_S_alpha5 = pd.read_csv(\"csv/fl_S/qlearning/ql_fl_S_alpha5.csv\")\n",
    "ql_fl_S_alpha7 = pd.read_csv(\"csv/fl_S/qlearning/ql_fl_S_alpha7.csv\")"
   ]
  },
  {
   "cell_type": "markdown",
   "metadata": {},
   "source": [
    "$$\n",
    "\\textbf{Policy Iteration}\\\\\n",
    "\\textbf{Gamma}\n",
    "$$"
   ]
  },
  {
   "cell_type": "code",
   "execution_count": 5,
   "metadata": {},
   "outputs": [],
   "source": [
    "fl_S_pi_gam9 = pd.read_csv(\"csv/fl_S/pi/fl_S_pi_gam9.csv\")\n",
    "fl_S_pi_gam99 = pd.read_csv(\"csv/fl_S/pi/fl_S_pi_gam99.csv\")\n",
    "fl_S_pi_gam999 = pd.read_csv(\"csv/fl_S/pi/fl_S_pi_gam999.csv\")"
   ]
  },
  {
   "cell_type": "markdown",
   "metadata": {},
   "source": [
    "$$\n",
    "\\textbf{Policy Iteration}\\\\\n",
    "\\textbf{Theta}\n",
    "$$"
   ]
  },
  {
   "cell_type": "code",
   "execution_count": 6,
   "metadata": {},
   "outputs": [],
   "source": [
    "fl_S_pi_theta5 = pd.read_csv(\"csv/fl_S/pi/fl_S_pi_theta5.csv\")\n",
    "fl_S_pi_theta7 = pd.read_csv(\"csv/fl_S/pi/fl_S_pi_theta7.csv\")\n",
    "fl_S_pi_theta9 = pd.read_csv(\"csv/fl_S/pi/fl_S_pi_theta9.csv\")"
   ]
  },
  {
   "cell_type": "markdown",
   "metadata": {},
   "source": [
    "$$\n",
    "\\textbf{Value Iteration}\\\\\n",
    "\\textbf{Gamma}\n",
    "$$"
   ]
  },
  {
   "cell_type": "code",
   "execution_count": 7,
   "metadata": {},
   "outputs": [],
   "source": [
    "fl_S_vi_gam9 = pd.read_csv(\"csv/fl_S/vi/fl_S_vi_gam9.csv\")\n",
    "fl_S_vi_gam99= pd.read_csv(\"csv/fl_S/vi/fl_S_vi_gam99.csv\")\n",
    "fl_S_vi_gam999 = pd.read_csv(\"csv/fl_S/vi/fl_S_vi_gam999.csv\")"
   ]
  },
  {
   "cell_type": "markdown",
   "metadata": {},
   "source": [
    "$$\n",
    "\\textbf{Value Iteration}\\\\\n",
    "\\textbf{Theta}\n",
    "$$"
   ]
  },
  {
   "cell_type": "code",
   "execution_count": 8,
   "metadata": {},
   "outputs": [],
   "source": [
    "fl_S_vi_theta5 = pd.read_csv(\"csv/fl_S/vi/fl_S_vi_theta5.csv\")\n",
    "fl_S_vi_theta7 = pd.read_csv(\"csv/fl_S/vi/fl_S_vi_theta7.csv\")\n",
    "fl_S_vi_theta9 = pd.read_csv(\"csv/fl_S/vi/fl_S_vi_theta9.csv\")"
   ]
  },
  {
   "cell_type": "code",
   "execution_count": null,
   "metadata": {},
   "outputs": [],
   "source": []
  }
 ],
 "metadata": {
  "kernelspec": {
   "display_name": "mlmdp",
   "language": "python",
   "name": "python3"
  },
  "language_info": {
   "codemirror_mode": {
    "name": "ipython",
    "version": 3
   },
   "file_extension": ".py",
   "mimetype": "text/x-python",
   "name": "python",
   "nbconvert_exporter": "python",
   "pygments_lexer": "ipython3",
   "version": "3.12.2"
  }
 },
 "nbformat": 4,
 "nbformat_minor": 2
}
