{
 "cells": [
  {
   "cell_type": "code",
   "execution_count": 1,
   "metadata": {},
   "outputs": [],
   "source": [
    "from frozenlake import run_gridsearch\n",
    "# from blackjack import *"
   ]
  },
  {
   "cell_type": "markdown",
   "metadata": {},
   "source": [
    "$$\n",
    "\\textbf{Frozen Lake}\n",
    "$$"
   ]
  },
  {
   "cell_type": "code",
   "execution_count": 5,
   "metadata": {},
   "outputs": [
    {
     "name": "stdout",
     "output_type": "stream",
     "text": [
      "running q_learning with gamma: 0.95 epsilon decay: 0.55  iterations: 25000\n"
     ]
    },
    {
     "name": "stderr",
     "output_type": "stream",
     "text": [
      "  0%|          | 0/25000 [00:00<?, ?it/s]/home/leonardo_leads/miniconda3/envs/mlmdp/lib/python3.12/site-packages/gymnasium/utils/passive_env_checker.py:233: DeprecationWarning: `np.bool8` is a deprecated alias for `np.bool_`.  (Deprecated NumPy 1.24)\n",
      "  if not isinstance(terminated, (bool, np.bool8)):\n",
      " 19%|█▊        | 4654/25000 [00:00<00:04, 4595.72it/s]/home/leonardo_leads/miniconda3/envs/mlmdp/lib/python3.12/site-packages/bettermdptools/algorithms/rl.py:179: UserWarning: Episode was truncated.  Bootstrapping 0 reward.\n",
      "  warnings.warn(\"Episode was truncated.  Bootstrapping 0 reward.\")\n",
      "                                                       \r"
     ]
    },
    {
     "name": "stdout",
     "output_type": "stream",
     "text": [
      "runtime = 11.52 seconds\n",
      "Avg. episode reward:  0.03\n",
      "###################\n",
      "running q_learning with gamma: 0.95 epsilon decay: 0.55  iterations: 50000\n"
     ]
    },
    {
     "name": "stderr",
     "output_type": "stream",
     "text": [
      "                                                       \r"
     ]
    },
    {
     "name": "stdout",
     "output_type": "stream",
     "text": [
      "runtime = 24.65 seconds\n",
      "Avg. episode reward:  0.06\n",
      "###################\n",
      "running q_learning with gamma: 0.95 epsilon decay: 0.65  iterations: 25000\n"
     ]
    },
    {
     "name": "stderr",
     "output_type": "stream",
     "text": [
      "                                                       \r"
     ]
    },
    {
     "name": "stdout",
     "output_type": "stream",
     "text": [
      "runtime = 12.88 seconds\n",
      "Avg. episode reward:  0.0\n",
      "###################\n",
      "running q_learning with gamma: 0.95 epsilon decay: 0.65  iterations: 50000\n"
     ]
    },
    {
     "name": "stderr",
     "output_type": "stream",
     "text": [
      "                                                       \r"
     ]
    },
    {
     "name": "stdout",
     "output_type": "stream",
     "text": [
      "runtime = 24.89 seconds\n",
      "Avg. episode reward:  0.0\n",
      "###################\n",
      "running q_learning with gamma: 0.95 epsilon decay: 0.75  iterations: 25000\n"
     ]
    },
    {
     "name": "stderr",
     "output_type": "stream",
     "text": [
      "                                                       \r"
     ]
    },
    {
     "name": "stdout",
     "output_type": "stream",
     "text": [
      "runtime = 12.57 seconds\n",
      "Avg. episode reward:  0.02\n",
      "###################\n",
      "running q_learning with gamma: 0.95 epsilon decay: 0.75  iterations: 50000\n"
     ]
    },
    {
     "name": "stderr",
     "output_type": "stream",
     "text": [
      "                                                       \r"
     ]
    },
    {
     "name": "stdout",
     "output_type": "stream",
     "text": [
      "runtime = 26.51 seconds\n",
      "Avg. episode reward:  0.06\n",
      "###################\n",
      "running q_learning with gamma: 1.0 epsilon decay: 0.55  iterations: 25000\n"
     ]
    },
    {
     "name": "stderr",
     "output_type": "stream",
     "text": [
      "                                                       \r"
     ]
    },
    {
     "name": "stdout",
     "output_type": "stream",
     "text": [
      "runtime = 20.13 seconds\n",
      "Avg. episode reward:  0.0\n",
      "###################\n",
      "running q_learning with gamma: 1.0 epsilon decay: 0.55  iterations: 50000\n"
     ]
    },
    {
     "name": "stderr",
     "output_type": "stream",
     "text": [
      "                                                       \r"
     ]
    },
    {
     "name": "stdout",
     "output_type": "stream",
     "text": [
      "runtime = 39.69 seconds\n",
      "Avg. episode reward:  0.0\n",
      "###################\n",
      "running q_learning with gamma: 1.0 epsilon decay: 0.65  iterations: 25000\n"
     ]
    },
    {
     "name": "stderr",
     "output_type": "stream",
     "text": [
      "                                                       \r"
     ]
    },
    {
     "name": "stdout",
     "output_type": "stream",
     "text": [
      "runtime = 19.26 seconds\n",
      "Avg. episode reward:  0.0\n",
      "###################\n",
      "running q_learning with gamma: 1.0 epsilon decay: 0.65  iterations: 50000\n"
     ]
    },
    {
     "name": "stderr",
     "output_type": "stream",
     "text": [
      "                                                       \r"
     ]
    },
    {
     "name": "stdout",
     "output_type": "stream",
     "text": [
      "runtime = 37.70 seconds\n",
      "Avg. episode reward:  0.0\n",
      "###################\n",
      "running q_learning with gamma: 1.0 epsilon decay: 0.75  iterations: 25000\n"
     ]
    },
    {
     "name": "stderr",
     "output_type": "stream",
     "text": [
      "                                                       \r"
     ]
    },
    {
     "name": "stdout",
     "output_type": "stream",
     "text": [
      "runtime = 17.46 seconds\n",
      "Avg. episode reward:  0.0\n",
      "###################\n",
      "running q_learning with gamma: 1.0 epsilon decay: 0.75  iterations: 50000\n"
     ]
    },
    {
     "name": "stderr",
     "output_type": "stream",
     "text": [
      "                                                       \r"
     ]
    },
    {
     "name": "stdout",
     "output_type": "stream",
     "text": [
      "runtime = 35.77 seconds\n",
      "Avg. episode reward:  0.0\n",
      "###################\n",
      "running q_learning with gamma: 1.05 epsilon decay: 0.55  iterations: 25000\n"
     ]
    },
    {
     "name": "stderr",
     "output_type": "stream",
     "text": [
      "                                                       \r"
     ]
    },
    {
     "name": "stdout",
     "output_type": "stream",
     "text": [
      "runtime = 12.00 seconds\n",
      "Avg. episode reward:  0.0\n",
      "###################\n",
      "running q_learning with gamma: 1.05 epsilon decay: 0.55  iterations: 50000\n"
     ]
    },
    {
     "name": "stderr",
     "output_type": "stream",
     "text": [
      "                                                       \r"
     ]
    },
    {
     "name": "stdout",
     "output_type": "stream",
     "text": [
      "runtime = 22.76 seconds\n",
      "Avg. episode reward:  0.0\n",
      "###################\n",
      "running q_learning with gamma: 1.05 epsilon decay: 0.65  iterations: 25000\n"
     ]
    },
    {
     "name": "stderr",
     "output_type": "stream",
     "text": [
      "                                                       \r"
     ]
    },
    {
     "name": "stdout",
     "output_type": "stream",
     "text": [
      "runtime = 11.13 seconds\n",
      "Avg. episode reward:  0.0\n",
      "###################\n",
      "running q_learning with gamma: 1.05 epsilon decay: 0.65  iterations: 50000\n"
     ]
    },
    {
     "name": "stderr",
     "output_type": "stream",
     "text": [
      "                                                       \r"
     ]
    },
    {
     "name": "stdout",
     "output_type": "stream",
     "text": [
      "runtime = 22.82 seconds\n",
      "Avg. episode reward:  0.0\n",
      "###################\n",
      "running q_learning with gamma: 1.05 epsilon decay: 0.75  iterations: 25000\n"
     ]
    },
    {
     "name": "stderr",
     "output_type": "stream",
     "text": [
      "                                                       \r"
     ]
    },
    {
     "name": "stdout",
     "output_type": "stream",
     "text": [
      "runtime = 11.57 seconds\n",
      "Avg. episode reward:  0.0\n",
      "###################\n",
      "running q_learning with gamma: 1.05 epsilon decay: 0.75  iterations: 50000\n"
     ]
    },
    {
     "name": "stderr",
     "output_type": "stream",
     "text": [
      "                                                       "
     ]
    },
    {
     "name": "stdout",
     "output_type": "stream",
     "text": [
      "runtime = 22.12 seconds\n",
      "Avg. episode reward:  0.0\n",
      "###################\n"
     ]
    },
    {
     "name": "stderr",
     "output_type": "stream",
     "text": [
      "\r"
     ]
    }
   ],
   "source": [
    "gamma = [0.95, 1.00, 1.05]\n",
    "epsilon_decay = [0.55, 0.65, 0.75, 1.00]\n",
    "iters = [25000, 50000]\n",
    "size = 8\n",
    "\n",
    "q_learning_results = run_gridsearch(gamma=gamma, epsilon_decay=epsilon_decay, iters=iters, size=size)"
   ]
  },
  {
   "cell_type": "code",
   "execution_count": null,
   "metadata": {},
   "outputs": [],
   "source": [
    "# q_learning_results"
   ]
  },
  {
   "cell_type": "markdown",
   "metadata": {},
   "source": [
    "$$\n",
    "\\textbf{Blackjack}\n",
    "$$"
   ]
  },
  {
   "cell_type": "code",
   "execution_count": null,
   "metadata": {},
   "outputs": [],
   "source": []
  }
 ],
 "metadata": {
  "kernelspec": {
   "display_name": "mlmdp",
   "language": "python",
   "name": "python3"
  },
  "language_info": {
   "codemirror_mode": {
    "name": "ipython",
    "version": 3
   },
   "file_extension": ".py",
   "mimetype": "text/x-python",
   "name": "python",
   "nbconvert_exporter": "python",
   "pygments_lexer": "ipython3",
   "version": "3.12.2"
  }
 },
 "nbformat": 4,
 "nbformat_minor": 2
}
