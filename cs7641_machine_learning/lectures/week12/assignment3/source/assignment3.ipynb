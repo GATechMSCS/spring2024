{
 "cells": [
  {
   "cell_type": "markdown",
   "metadata": {},
   "source": [
    "### IMPORTS"
   ]
  },
  {
   "cell_type": "code",
   "execution_count": 1,
   "metadata": {},
   "outputs": [],
   "source": [
    "# load, preprocess, scale, baseline\n",
    "from wrangle import final_dataset\n",
    "\n",
    "# manipulate data\n",
    "import pandas as pd\n",
    "import numpy as np\n",
    "\n",
    "# visualize data\n",
    "import matplotlib.pyplot as plt\n",
    "from cluster_plots import (ncomponents_optimal, scatter_component_means,\n",
    "                           nclusters_optimal, scatter_cluster_centers)\n",
    "from dimensionality_reduction_plots import optimal_ncomponents, opt_component_plots\n",
    "from nn_plot import (learn_curve_display,\n",
    "                    val_curve_display)\n",
    "import seaborn as sns\n",
    "\n",
    "# put it all together\n",
    "from steps import step2, step3\n",
    "from models import put_it_all_together\n",
    "\n",
    "np.random.seed(123)"
   ]
  },
  {
   "cell_type": "markdown",
   "metadata": {},
   "source": [
    "$$\n",
    "\\textbf{Cardiovascular Disease}\\\\~\\\\\n",
    "\\textbf{Load, Clean, Preprocess, Scale, Baseline: Cardiovascular Disease}\n",
    "$$"
   ]
  },
  {
   "cell_type": "code",
   "execution_count": 2,
   "metadata": {},
   "outputs": [
    {
     "name": "stdout",
     "output_type": "stream",
     "text": [
      "CVD Loading and Cleaning...\n",
      "CVD Loaded and Cleaned...\n",
      "\n",
      "CVD Splitting...\n",
      "CVD Split...\n",
      "\n",
      "CVD Scaling...\n",
      "CVD Scaled...\n",
      "\n",
      "Baseline Accuracy Score: 0.51%\n",
      "\n",
      "CPU times: user 248 ms, sys: 26.3 ms, total: 275 ms\n",
      "Wall time: 546 ms\n"
     ]
    }
   ],
   "source": [
    "%%time\n",
    "X_train_scaled_cd, X_test_scaled_cd, y_train_cd, y_test_cd = final_dataset(dataset='cvd')"
   ]
  },
  {
   "cell_type": "markdown",
   "metadata": {},
   "source": [
    "### Step 1\n",
    "$$\n",
    "\\textbf{Cardiovascular Disease}\\\\~\\\\\n",
    "\\textbf{KMeans Find and View Optimal Clusters}\n",
    "$$"
   ]
  },
  {
   "cell_type": "code",
   "execution_count": 3,
   "metadata": {},
   "outputs": [],
   "source": [
    "# nclusters_optimal(X_train=X_train_scaled_cd, y_train=y_train_cd, dset='cvd')\n",
    "# scatter_cluster_centers(X_train=X_train_scaled_cd, k=2, dset='cvd', xlabel='Height', ylabel='Weight')"
   ]
  },
  {
   "cell_type": "markdown",
   "metadata": {},
   "source": [
    "$$\n",
    "\\textbf{Cardiovascular Disease}\\\\~\\\\\n",
    "\\textbf{Gaussian Mixture Find and View Optimal Components}\n",
    "$$"
   ]
  },
  {
   "cell_type": "code",
   "execution_count": 4,
   "metadata": {},
   "outputs": [],
   "source": [
    "# ncomponents_optimal(X_train_scaled_cd, y_train_cd, 'cvd')\n",
    "# scatter_component_means(X_train_scaled_cd, 12, 'cvd', 'Height', 'Weight')"
   ]
  },
  {
   "cell_type": "markdown",
   "metadata": {},
   "source": [
    "### Step 2\n",
    "$$\n",
    "\\textbf{Cardiovascular Disease}\\\\~\\\\\n",
    "\\textbf{PCA, ICA, SRP, HLLE Find and View Optimal Components}\n",
    "$$"
   ]
  },
  {
   "cell_type": "code",
   "execution_count": 5,
   "metadata": {},
   "outputs": [
    {
     "name": "stdout",
     "output_type": "stream",
     "text": [
      "Fitting PCA\n",
      "Fitting General PCA\n",
      "Done with General PCA\n",
      "Done with PCA\n",
      "\n",
      "Fitting ICA\n",
      "Fitting and Transforming FastICA\n",
      "Done with FastICA\n",
      "Done with ICA\n",
      "\n",
      "Fitting and Transforming Randomized Projections\n",
      "Fitting and Transforing with Sparse Random Projection\n",
      "Done with Sparse Random Projection\n",
      "Done with Randomized Projections\n",
      "\n",
      "Fitting and Transforming Manifold Learning\n",
      "Fitting and Transforming with Locally Linear Embedding: Heissan Mapping\n"
     ]
    }
   ],
   "source": [
    "# optimal_ncomponents(X_train_scaled_cd, 'cvd')\n",
    "opt_component_plots(X_train_scaled_cd,\n",
    "                    pca_comp=3,\n",
    "                    ica_comp=4, \n",
    "                    srp_comp=4, \n",
    "                    hlle_comp=4, \n",
    "                    hlle_neigh=15,\n",
    "                    dset='cvd')"
   ]
  },
  {
   "cell_type": "markdown",
   "metadata": {},
   "source": [
    "### Step 3\n",
    "$$\n",
    "\\textbf{Cardiovascular Disease}\\\\~\\\\\n",
    "\\textbf{KMeans Find and View Optimal Clusters with DR}\\\\~\\\\\n",
    "$$"
   ]
  },
  {
   "cell_type": "code",
   "execution_count": null,
   "metadata": {},
   "outputs": [],
   "source": [
    "\n"
   ]
  },
  {
   "cell_type": "markdown",
   "metadata": {},
   "source": [
    "$$\n",
    "\\textbf{Cardiovascular Disease}\\\\~\\\\\n",
    "\\textbf{Gaussian Mixture Find and View Optimal Components}\n",
    "$$"
   ]
  },
  {
   "cell_type": "code",
   "execution_count": null,
   "metadata": {},
   "outputs": [],
   "source": []
  },
  {
   "cell_type": "markdown",
   "metadata": {},
   "source": [
    "$$\n",
    "\\textbf{Cardiovascular Disease}\\\\~\\\\\n",
    "\\textbf{Perform All Steps, Run All Models}\n",
    "$$"
   ]
  },
  {
   "cell_type": "code",
   "execution_count": null,
   "metadata": {},
   "outputs": [],
   "source": [
    "# %%time\n",
    "# # Run CVD Model\n",
    "# results_cv = put_it_all_together(X_train=X_train_scaled_cd,\n",
    "#                                 y_train=y_train_cd,\n",
    "#                                 X_test=X_test_scaled_cd,\n",
    "#                                 y_test=y_test_cd,\n",
    "#                                 dset='cvd')"
   ]
  },
  {
   "cell_type": "code",
   "execution_count": 48,
   "metadata": {},
   "outputs": [],
   "source": [
    "\n",
    "# step1_cv = results_cv['cvd']['step1']\n",
    "# step2_cv = results_cv['cvd']['step2']\n",
    "# step3_cv = results_cv['cvd']['step3']\n",
    "# step4_cv = results_cv['cvd']['step4']\n",
    "# step5_cv = results_cv['cvd']['step5']\n",
    "\n",
    "# pca_best_cvd = step4_cv['pca']\n",
    "# ica_best_cvd = step4_cv['ica']\n",
    "# srp_best_cvd = step4_cv['sparseRP']\n",
    "# hlle_best_cvd = step4_cv['manifold']\n",
    "\n",
    "# pca_train_cvd = results_cv['cvd']['step2']['pca'][1]\n",
    "# ica_train_cvd = results_cv['cvd']['step2']['ica'][1]\n",
    "# sparseRP_train_cvd = results_cv['cvd']['step2']['sparseRP'][1]\n",
    "# manifold_train_cvd = results_cv['cvd']['step2']['manifold'][1]\n",
    "\n",
    "# cd_params = {'param1_name': 'beta_1',\n",
    "#                 'param1_range': [0.25, 0.50, 0.75, 0.90],\n",
    "#                 'param2_name': 'beta_2',\n",
    "#                 'param2_range': [0.22, 0.44, 0.66, 0.88],\n",
    "#                 'sizes': [0.7, 0.75, 0.80, 0.90]}\n",
    "\n",
    "# x_pca_cvd = pca_train_cvd.iloc[:, 0:2]\n",
    "# x_ica_cvd = ica_train_cvd.iloc[:, 0:2]\n",
    "# x_srp_cvd = sparseRP_train_cvd.iloc[:, 0:2]\n",
    "# x_hlle_cvd = manifold_train_cvd.iloc[:, 0:2]"
   ]
  },
  {
   "cell_type": "markdown",
   "metadata": {},
   "source": [
    "### Step 4\n",
    "$$\n",
    "\\textbf{Cardiovascular Disease}\\\\~\\\\\n",
    "\\textbf{Learning and Validation Curves}\n",
    "$$"
   ]
  },
  {
   "cell_type": "code",
   "execution_count": null,
   "metadata": {},
   "outputs": [],
   "source": [
    "# ## learning curves\n",
    "# # pca\n",
    "# fit_times_pca, score_times_pca = learn_curve_display(pca_train, y_train_cd, 'cvd',\n",
    "#                                                     cd_params['sizes'], 'pca')\n",
    "\n",
    "# # ica\n",
    "# fit_times_ica, score_times_ica = learn_curve_display(ica_train, y_train_cd, 'cvd',\n",
    "#                                                     cd_params['sizes'], 'ica')\n",
    "\n",
    "# # srp\n",
    "# fit_times_srp, score_times_srp = learn_curve_display(sparseRP_train, y_train_cd, 'cvd',\n",
    "#                                                     cd_params['sizes'], 'srp')\n",
    "\n",
    "# # hlle\n",
    "# fit_times_hlle, score_times_hlle = learn_curve_display(manifold_train, y_train_cd, 'cvd',\n",
    "#                                                     cd_params['sizes'], 'hlle')"
   ]
  },
  {
   "cell_type": "code",
   "execution_count": null,
   "metadata": {},
   "outputs": [],
   "source": [
    "# ## validation curves\n",
    "# # pca\n",
    "# val_curve_display(X_train_scaled_cd, y_train_cd, 'cvd', \n",
    "#                     cd_params['param1_name'], cd_params['param1_range'],\n",
    "#                     model_name='pca',error=False)\n",
    "# val_curve_display(X_train_scaled_cd, y_train_cd, 'cvd', \n",
    "#                     cd_params['param2_name'], cd_params['param2_range'],\n",
    "#                     model_name='pca',error=False)\n",
    "# val_curve_display(X_train_scaled_cd, y_train_cd, 'cvd', \n",
    "#                     None, None, model_name='pca', error=True)\n",
    "\n",
    "# # ica\n",
    "# val_curve_display(X_train_scaled_cd, y_train_cd, 'cvd',\n",
    "#                     cd_params['param1_name'], cd_params['param1_range'],\n",
    "#                     model_name='ica',error=False)\n",
    "# val_curve_display(X_train_scaled_cd, y_train_cd, 'cvd', \n",
    "#                     cd_params['param2_name'], cd_params['param2_range'],\n",
    "#                     model_name='ica', error=False)\n",
    "# val_curve_display(X_train_scaled_cd, y_train_cd, 'cvd',\n",
    "#                     None, None, model_name='ica', error=True)\n",
    "\n",
    "# # srp\n",
    "# val_curve_display(X_train_scaled_cd, y_train_cd, 'cvd', \n",
    "#                     cd_params['param1_name'], cd_params['param1_range'],\n",
    "#                     model_name='srp', error=False)\n",
    "# val_curve_display(X_train_scaled_cd, y_train_cd, 'cvd', \n",
    "#                     cd_params['param2_name'], cd_params['param2_range'],\n",
    "#                     model_name='srp', error=False)\n",
    "# val_curve_display(X_train_scaled_cd, y_train_cd, 'cvd',\n",
    "#                     None, None, model_name='srp', error=True)\n",
    "\n",
    "# # hlle\n",
    "# val_curve_display(X_train_scaled_cd, y_train_cd, 'cvd', \n",
    "#                     cd_params['param1_name'], cd_params['param1_range'],\n",
    "#                     model_name='hlle', error=False)\n",
    "# val_curve_display(X_train_scaled_cd, y_train_cd, 'cvd', \n",
    "#                     cd_params['param2_name'], cd_params['param2_range'],\n",
    "#                     model_name='hlle', error=False)\n",
    "# val_curve_display(X_train_scaled_cd, y_train_cd, 'cvd',\n",
    "#                     None, None, model_name='hlle', error=True)\n"
   ]
  },
  {
   "cell_type": "code",
   "execution_count": 63,
   "metadata": {},
   "outputs": [
    {
     "data": {
      "text/plain": [
       "(array([[0.99279189, 0.45091844, 1.16929531, 1.1179595 ],\n",
       "        [1.09546185, 0.73394585, 1.767488  , 1.46814799],\n",
       "        [1.88248777, 1.12859964, 1.93125844, 1.35569763],\n",
       "        [1.92586231, 1.93234634, 1.92384958, 1.15773344]]),\n",
       " array([[0.01084948, 0.01101899, 0.01175785, 0.010149  ],\n",
       "        [0.01082826, 0.01078272, 0.00654244, 0.00530791],\n",
       "        [0.01033282, 0.01164246, 0.00609827, 0.00461245],\n",
       "        [0.01057339, 0.01038527, 0.00578284, 0.00544524]]))"
      ]
     },
     "execution_count": 63,
     "metadata": {},
     "output_type": "execute_result"
    }
   ],
   "source": [
    "# # fit times\n",
    "# # pca\n",
    "# fit_times_pca, score_times_pca\n",
    "\n",
    "# # ica\n",
    "# fit_times_ica, score_times_ica\n",
    "\n",
    "# # srp\n",
    "# fit_times_srp, score_times_srp\n",
    "\n",
    "# # hlle\n",
    "# fit_times_hlle, score_times_hlle"
   ]
  },
  {
   "cell_type": "markdown",
   "metadata": {},
   "source": [
    "### Step 5\n",
    "$$\n",
    "\\textbf{Cardiovascular Disease}\\\\~\\\\\n",
    "\\textbf{Learning and Validation Curves}\n",
    "$$"
   ]
  },
  {
   "cell_type": "code",
   "execution_count": 52,
   "metadata": {},
   "outputs": [],
   "source": [
    "# gm__best_cvd = step5_cv['gm']\n",
    "# cl_best_cvd = step5_cv['kmeans']\n",
    "\n",
    "# X_train_gm = step1_cv['gm'][1]\n",
    "# X_train_cl = step1_cv['kmeans'][1]\n",
    "\n",
    "# cd_params = {'param1_name': 'beta_1',\n",
    "#                 'param1_range': [0.25, 0.50, 0.75, 0.90],\n",
    "#                 'param2_name': 'beta_2',\n",
    "#                 'param2_range': [0.22, 0.44, 0.66, 0.88],\n",
    "#                 'sizes': [0.7, 0.75, 0.80, 0.90]}"
   ]
  },
  {
   "cell_type": "code",
   "execution_count": null,
   "metadata": {},
   "outputs": [],
   "source": [
    "# # learning curves\n",
    "# gm\n",
    "# fit_times_gm, score_times_gm = learn_curve_display(X_train_gm, y_train_cd, 'cvd', cd_params['sizes'], 'gm')\n",
    "\n",
    "# cl\n",
    "# fit_times_cl, score_times_cl = learn_curve_display(X_train_cl, y_train_cd, 'cvd', cd_params['sizes'], 'km')"
   ]
  },
  {
   "cell_type": "code",
   "execution_count": null,
   "metadata": {},
   "outputs": [],
   "source": [
    "# # validation curves\n",
    "# # gm\n",
    "# val_curve_display(X_train_gm, y_train_cd, 'cvd', \n",
    "#                     cd_params['param1_name'], cd_params['param1_range'],\n",
    "#                     model_name='gm', error=False)\n",
    "# val_curve_display(X_train_gm, y_train_cd, 'cvd', \n",
    "#                     cd_params['param2_name'], cd_params['param2_range'],\n",
    "#                     model_name='gm', error=False)\n",
    "# val_curve_display(X_train_gm, y_train_cd, 'cvd', \n",
    "#                     None, None, model_name='gm', error=True)\n",
    "\n",
    "# # cl\n",
    "# val_curve_display(X_train_cl, y_train_cd, 'cvd',\n",
    "#                     cd_params['param1_name'], cd_params['param1_range'],\n",
    "#                     model_name='km', error=False)\n",
    "# val_curve_display(X_train_cl, y_train_cd, 'cvd', \n",
    "#                     cd_params['param2_name'], cd_params['param2_range'],\n",
    "#                     model_name='km', error=False)\n",
    "# val_curve_display(X_train_cl, y_train_cd, 'cvd',\n",
    "#                     None, None, model_name='km', error=True)"
   ]
  },
  {
   "cell_type": "code",
   "execution_count": 64,
   "metadata": {},
   "outputs": [
    {
     "data": {
      "text/plain": [
       "(array([[0.93194413, 1.3964355 , 1.48192883, 1.19972396],\n",
       "        [1.09315753, 1.11645222, 1.70269585, 1.34612632],\n",
       "        [1.10801911, 0.80493569, 1.47939348, 0.77539015],\n",
       "        [1.70526123, 2.05124879, 1.57843089, 1.01127219]]),\n",
       " array([[0.01119161, 0.01094532, 0.01124763, 0.01091003],\n",
       "        [0.01207471, 0.01151919, 0.00619459, 0.0054791 ],\n",
       "        [0.01100445, 0.01106215, 0.00988054, 0.00644493],\n",
       "        [0.01128411, 0.01150751, 0.00570965, 0.00392413]]))"
      ]
     },
     "execution_count": 64,
     "metadata": {},
     "output_type": "execute_result"
    }
   ],
   "source": [
    "# fit_times_gm, score_times_gm\n",
    "\n",
    "# fit_times_cl, score_times_cl"
   ]
  },
  {
   "cell_type": "markdown",
   "metadata": {},
   "source": [
    "$$\n",
    "\\textbf{Nutrition Facts}\\\\~\\\\\n",
    "\\textbf{Load, Clean, Preprocess, Scale, Baseline: Nutrition Facts}\n",
    "$$"
   ]
  },
  {
   "cell_type": "code",
   "execution_count": 55,
   "metadata": {},
   "outputs": [
    {
     "name": "stdout",
     "output_type": "stream",
     "text": [
      "NF Loading and Cleaning...\n",
      "NF Loaded and Cleaned...\n",
      "\n",
      "NF Splitting...\n",
      "NF Split...\n",
      "\n",
      "NF Scaling...\n",
      "NF Scaled...\n",
      "\n",
      "Baseline Accuracy Score: 0.44%\n",
      "\n",
      "CPU times: user 15.7 s, sys: 9.63 ms, total: 15.7 s\n",
      "Wall time: 15.8 s\n"
     ]
    }
   ],
   "source": [
    "%%time\n",
    "X_train_scaled_nf, X_test_scaled_nf, y_train_nf, y_test_nf = final_dataset(dataset='nf')"
   ]
  },
  {
   "cell_type": "markdown",
   "metadata": {},
   "source": [
    "### Step 1\n",
    "$$\n",
    "\\textbf{Nutrition Facts}\\\\~\\\\\n",
    "\\textbf{KMeans Find and View Optimal Clusters}\n",
    "$$"
   ]
  },
  {
   "cell_type": "code",
   "execution_count": 56,
   "metadata": {},
   "outputs": [],
   "source": [
    "nclusters_optimal(X_train=X_train_scaled_nf, y_train=y_train_nf, dset='nf')\n",
    "# scatter_cluster_centers(X_train=X_train_scaled_nf, k=4, dset='nf', xlabel='Protein', ylabel='Carbohydrate')"
   ]
  },
  {
   "cell_type": "markdown",
   "metadata": {},
   "source": [
    "$$\n",
    "\\textbf{Nutrition Facts}\\\\~\\\\\n",
    "\\textbf{Gaussian Mixture Find and View Optimal Components}\n",
    "$$"
   ]
  },
  {
   "cell_type": "code",
   "execution_count": 57,
   "metadata": {},
   "outputs": [],
   "source": [
    "ncomponents_optimal(X_train_scaled_nf, y_train_nf, 'nf')\n",
    "# scatter_component_means(X_train_scaled_nf, 5, 'nf', 'Protein', 'Carbohydrates')"
   ]
  },
  {
   "cell_type": "markdown",
   "metadata": {},
   "source": [
    "### Step 2\n",
    "$$\n",
    "\\textbf{Nutrition Facts}\\\\~\\\\\n",
    "\\textbf{PCA, ICA, SRP, HLLE Find and View Optimal Components}\n",
    "$$"
   ]
  },
  {
   "cell_type": "code",
   "execution_count": null,
   "metadata": {},
   "outputs": [],
   "source": [
    "optimal_ncomponents(X_train_scaled_nf, y_train_nf, X_test_scaled_nf, y_test_nf, 'nf')\n",
    "#opt_component_plots(X_train_scaled_nf, 4, 4, 4, 5, 21, 'nf')"
   ]
  },
  {
   "cell_type": "markdown",
   "metadata": {},
   "source": [
    "### Step 3\n",
    "$$\n",
    "\\textbf{Nutrition Facts}\\\\~\\\\\n",
    "\\textbf{KMeans Find and View Optimal Clusters with DR}\n",
    "$$"
   ]
  },
  {
   "cell_type": "code",
   "execution_count": null,
   "metadata": {},
   "outputs": [],
   "source": []
  },
  {
   "cell_type": "markdown",
   "metadata": {},
   "source": [
    "$$\n",
    "\\textbf{Nutrition Facts}\\\\~\\\\\n",
    "\\textbf{Gaussian Mixture Find and View Optimal Components}\n",
    "$$"
   ]
  },
  {
   "cell_type": "code",
   "execution_count": null,
   "metadata": {},
   "outputs": [],
   "source": []
  },
  {
   "cell_type": "markdown",
   "metadata": {},
   "source": [
    "$$\n",
    "\\textbf{Nutrition Facts}\\\\~\\\\\n",
    "\\textbf{Perform All Steps, Run All Models}\n",
    "$$"
   ]
  },
  {
   "cell_type": "code",
   "execution_count": 59,
   "metadata": {},
   "outputs": [
    {
     "name": "stdout",
     "output_type": "stream",
     "text": [
      "\n",
      "Running All Steps\n",
      "Step: 1\n",
      "Fitting and Predicting Expectation Maximization\n",
      "Fitting and Predicting Gaussian Mixture\n",
      "Done with Gaussian Mixture\n",
      "Done with Expectation Maximization\n",
      "\n",
      "Fitting and Predicting Clustering\n",
      "Fitting and Predicting KMeans\n",
      "Done with KMeans\n",
      "Done with Clustering\n",
      "Step: 1 Complete\n",
      "\n",
      "Step: 2\n",
      "Fitting PCA\n",
      "Fitting General PCA\n",
      "Done with General PCA\n",
      "Done with PCA\n",
      "\n",
      "Fitting ICA\n",
      "Fitting and Transforming FastICA\n",
      "Done with FastICA\n",
      "Done with ICA\n",
      "\n",
      "Fitting and Transforming Randomized Projections\n",
      "Fitting and Transforing with Sparse Random Projection\n",
      "Done with Sparse Random Projection\n",
      "Done with Randomized Projections\n",
      "\n",
      "Fitting and Transforming Manifold Learning\n",
      "Fitting and Transforming with Locally Linear Embedding: Heissan Mapping\n",
      "Done with Locally Linear Embedding: Heissan Mapping\n",
      "Done with Manifold Learning\n",
      "Step: 2 Complete\n",
      "\n",
      "Step: 3\n",
      "Fitting and Predicting Expectation Maximization\n",
      "Fitting and Predicting Gaussian Mixture\n",
      "Done with Gaussian Mixture\n",
      "Done with Expectation Maximization\n",
      "\n",
      "Fitting and Predicting Clustering\n",
      "Fitting and Predicting KMeans\n",
      "Done with KMeans\n",
      "Done with Clustering\n",
      "Fitting and Predicting Expectation Maximization\n",
      "Fitting and Predicting Gaussian Mixture\n",
      "Done with Gaussian Mixture\n",
      "Done with Expectation Maximization\n",
      "\n",
      "Fitting and Predicting Clustering\n",
      "Fitting and Predicting KMeans\n",
      "Done with KMeans\n",
      "Done with Clustering\n",
      "Fitting and Predicting Expectation Maximization\n",
      "Fitting and Predicting Gaussian Mixture\n",
      "Done with Gaussian Mixture\n",
      "Done with Expectation Maximization\n",
      "\n",
      "Fitting and Predicting Clustering\n",
      "Fitting and Predicting KMeans\n",
      "Done with KMeans\n",
      "Done with Clustering\n",
      "Fitting and Predicting Expectation Maximization\n",
      "Fitting and Predicting Gaussian Mixture\n",
      "Done with Gaussian Mixture\n",
      "Done with Expectation Maximization\n",
      "\n",
      "Fitting and Predicting Clustering\n",
      "Fitting and Predicting KMeans\n",
      "Done with KMeans\n",
      "Done with Clustering\n",
      "Step: 3 Complete\n",
      "\n",
      "Completed All Steps\n",
      "CPU times: user 1min 51s, sys: 18.3 s, total: 2min 9s\n",
      "Wall time: 19.2 s\n"
     ]
    }
   ],
   "source": [
    "# %%time\n",
    "# # Run NF Model\n",
    "# results_nf = put_it_all_together(X_train=X_train_scaled_nf,\n",
    "#                                 y_train=y_train_nf,\n",
    "#                                 X_test=X_test_scaled_nf, \n",
    "#                                 y_test=y_test_nf,\n",
    "#                                 dset='nf')"
   ]
  },
  {
   "cell_type": "code",
   "execution_count": 1,
   "metadata": {},
   "outputs": [
    {
     "ename": "NameError",
     "evalue": "name 'results_nf' is not defined",
     "output_type": "error",
     "traceback": [
      "\u001b[0;31m---------------------------------------------------------------------------\u001b[0m",
      "\u001b[0;31mNameError\u001b[0m                                 Traceback (most recent call last)",
      "Cell \u001b[0;32mIn[1], line 1\u001b[0m\n\u001b[0;32m----> 1\u001b[0m step1_nf \u001b[38;5;241m=\u001b[39m \u001b[43mresults_nf\u001b[49m[\u001b[38;5;124m'\u001b[39m\u001b[38;5;124mnf\u001b[39m\u001b[38;5;124m'\u001b[39m][\u001b[38;5;124m'\u001b[39m\u001b[38;5;124mstep1\u001b[39m\u001b[38;5;124m'\u001b[39m]\n\u001b[1;32m      2\u001b[0m step2_nf \u001b[38;5;241m=\u001b[39m results_nf[\u001b[38;5;124m'\u001b[39m\u001b[38;5;124mnf\u001b[39m\u001b[38;5;124m'\u001b[39m][\u001b[38;5;124m'\u001b[39m\u001b[38;5;124mstep2\u001b[39m\u001b[38;5;124m'\u001b[39m]\n\u001b[1;32m      3\u001b[0m step3_nf \u001b[38;5;241m=\u001b[39m results_nf[\u001b[38;5;124m'\u001b[39m\u001b[38;5;124mnf\u001b[39m\u001b[38;5;124m'\u001b[39m][\u001b[38;5;124m'\u001b[39m\u001b[38;5;124mstep3\u001b[39m\u001b[38;5;124m'\u001b[39m]\n",
      "\u001b[0;31mNameError\u001b[0m: name 'results_nf' is not defined"
     ]
    }
   ],
   "source": [
    "\n",
    "# step1_nf = results_nf['nf']['step1']\n",
    "# step2_nf = results_nf['nf']['step2']\n",
    "# step3_nf = results_nf['nf']['step3']\n",
    "\n",
    "# pca_train_nf = step2_nf['pca'][1]\n",
    "# ica_train_nf = step2_nf['ica'][1]\n",
    "# sparseRP_train_nf = step2_nf['sparseRP'][1]\n",
    "# manifold_train_nf = step2_nf['manifold'][1]\n",
    "\n",
    "# x_pca_nf = pca_train_nf.iloc[:, 0:2]\n",
    "# x_ica_nf = ica_train_nf.iloc[:, 0:2]\n",
    "# x_srp_nf = sparseRP_train_nf.iloc[:, 0:2]\n",
    "# x_hlle_nf = manifold_train_nf.iloc[:, 0:2]"
   ]
  },
  {
   "cell_type": "code",
   "execution_count": null,
   "metadata": {},
   "outputs": [],
   "source": []
  }
 ],
 "metadata": {
  "kernelspec": {
   "display_name": "ml",
   "language": "python",
   "name": "python3"
  },
  "language_info": {
   "codemirror_mode": {
    "name": "ipython",
    "version": 3
   },
   "file_extension": ".py",
   "mimetype": "text/x-python",
   "name": "python",
   "nbconvert_exporter": "python",
   "pygments_lexer": "ipython3",
   "version": "3.12.2"
  }
 },
 "nbformat": 4,
 "nbformat_minor": 2
}
