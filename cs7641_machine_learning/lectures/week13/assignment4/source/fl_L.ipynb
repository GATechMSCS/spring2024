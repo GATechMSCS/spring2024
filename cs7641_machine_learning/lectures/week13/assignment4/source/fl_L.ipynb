{
 "cells": [
  {
   "cell_type": "code",
   "execution_count": null,
   "metadata": {},
   "outputs": [],
   "source": [
    "import pandas as pd\n",
    "import numpy as np\n",
    "import seaborn as sns\n",
    "import matplotlib.pyplot as plt\n",
    "from bettermdptools.utils.plots import Plots\n",
    "from fl_plots import (fl_heatmap, fl_statevalues_iters, fl_policy_map)"
   ]
  },
  {
   "cell_type": "markdown",
   "metadata": {},
   "source": [
    "$$\n",
    "\\textbf{Frozen Lake 16x16}\\\\~\\\\\n",
    "\\textbf{Q Learning}\\\\\n",
    "\\textbf{Gamma}\n",
    "$$"
   ]
  },
  {
   "cell_type": "code",
   "execution_count": null,
   "metadata": {},
   "outputs": [],
   "source": [
    "ql_fl_L_gamma9 = pd.read_csv(\"csv/fl_L/qlearning/ql_fl_L_gamma9.csv\")\n",
    "ql_fl_L_gamma99 = pd.read_csv(\"csv/fl_L/qlearning/ql_fl_L_gamma99.csv\")\n",
    "ql_fl_L_gamma999 = pd.read_csv(\"csv/fl_L/qlearning/ql_fl_L_gamma999.csv\")"
   ]
  },
  {
   "cell_type": "markdown",
   "metadata": {},
   "source": [
    "$$\n",
    "\\textbf{Q Learning}\\\\\n",
    "\\textbf{Epsilon Decay Ratio}\n",
    "$$"
   ]
  },
  {
   "cell_type": "code",
   "execution_count": null,
   "metadata": {},
   "outputs": [],
   "source": [
    "ql_fl_L_edr8 = pd.read_csv(\"csv/fl_L/qlearning/ql_fl_L_edr8.csv\")\n",
    "ql_fl_L_edr99 = pd.read_csv(\"csv/fl_L/qlearning/ql_fl_L_edr99.csv\")\n",
    "ql_fl_L_edr999 = pd.read_csv(\"csv/fl_L/qlearning/ql_fl_L_edr999.csv\")"
   ]
  },
  {
   "cell_type": "markdown",
   "metadata": {},
   "source": [
    "$$\n",
    "\\textbf{Q Learning}\\\\\n",
    "\\textbf{Init Alpha}\n",
    "$$"
   ]
  },
  {
   "cell_type": "code",
   "execution_count": null,
   "metadata": {},
   "outputs": [],
   "source": [
    "ql_fl_L_alpha3 = pd.read_csv(\"csv/fl_L/qlearning/ql_fl_L_alpha3.csv\")\n",
    "ql_fl_L_alpha5 = pd.read_csv(\"csv/fl_L/qlearning/ql_fl_L_alpha5.csv\")\n",
    "ql_fl_L_alpha7 = pd.read_csv(\"csv/fl_L/qlearning/ql_fl_L_alpha7.csv\")"
   ]
  },
  {
   "cell_type": "markdown",
   "metadata": {},
   "source": [
    "$$\n",
    "\\textbf{Policy Iteration}\\\\\n",
    "\\textbf{Gamma}\n",
    "$$"
   ]
  },
  {
   "cell_type": "code",
   "execution_count": null,
   "metadata": {},
   "outputs": [],
   "source": [
    "fl_L_pi_gam9 = pd.read_csv(\"csv/fl_L/pi/fl_L_pi_gam9.csv\")\n",
    "fl_L_pi_gam99 = pd.read_csv(\"csv/fl_L/pi/fl_L_pi_gam99.csv\")\n",
    "fl_L_pi_gam999 = pd.read_csv(\"csv/fl_L/pi/fl_L_pi_gam999.csv\")"
   ]
  },
  {
   "cell_type": "markdown",
   "metadata": {},
   "source": [
    "$$\n",
    "\\textbf{Policy Iteration}\\\\\n",
    "\\textbf{Theta}\n",
    "$$"
   ]
  },
  {
   "cell_type": "code",
   "execution_count": null,
   "metadata": {},
   "outputs": [],
   "source": [
    "fl_L_pi_theta5 = pd.read_csv(\"csv/fl_L/pi/fl_L_pi_theta5.csv\")\n",
    "fl_L_pi_theta7 = pd.read_csv(\"csv/fl_L/pi/fl_L_pi_theta7.csv\")\n",
    "fl_L_pi_theta9 = pd.read_csv(\"csv/fl_L/pi/fl_L_pi_theta9.csv\")"
   ]
  },
  {
   "cell_type": "markdown",
   "metadata": {},
   "source": [
    "$$\n",
    "\\textbf{Value Iteration}\\\\\n",
    "\\textbf{Gamma}\n",
    "$$"
   ]
  },
  {
   "cell_type": "code",
   "execution_count": null,
   "metadata": {},
   "outputs": [],
   "source": [
    "fl_L_vi_gam9 = pd.read_csv(\"csv/fl_L/vi/fl_L_vi_gam9.csv\")\n",
    "fl_L_vi_gam99= pd.read_csv(\"csv/fl_L/vi/fl_L_vi_gam99.csv\")\n",
    "fl_L_vi_gam999 = pd.read_csv(\"csv/fl_L/vi/fl_L_vi_gam999.csv\")"
   ]
  },
  {
   "cell_type": "markdown",
   "metadata": {},
   "source": [
    "$$\n",
    "\\textbf{Value Iteration}\\\\\n",
    "\\textbf{Theta}\n",
    "$$"
   ]
  },
  {
   "cell_type": "code",
   "execution_count": null,
   "metadata": {},
   "outputs": [],
   "source": [
    "fl_L_vi_theta5 = pd.read_csv(\"csv/fl_L/vi/fl_L_vi_theta5.csv\")\n",
    "fl_L_vi_theta7 = pd.read_csv(\"csv/fl_L/vi/fl_L_vi_theta7.csv\")\n",
    "fl_L_vi_theta9 = pd.read_csv(\"csv/fl_L/vi/fl_L_vi_theta9.csv\")"
   ]
  },
  {
   "cell_type": "markdown",
   "metadata": {},
   "source": [
    "$$\n",
    "\\textbf{Q Learning}\\\\\n",
    "\\textbf{Final}\n",
    "$$"
   ]
  },
  {
   "cell_type": "code",
   "execution_count": null,
   "metadata": {},
   "outputs": [],
   "source": [
    "fl_L_ql_final = pd.read_csv(\"csv/fl_L/qlearning/results_ql_final.csv\")\n",
    "fl_L_ql_final_V = fl_L_ql_final['V'][:256]\n",
    "fl_L_ql_final_pi = fl_L_ql_final['pi'][:256]\n",
    "fl_L_ql_final_cs = fl_L_ql_final['cumulative_sum']\n",
    "fl_L_ql_final_er = fl_L_ql_final['episode_rewards']\n",
    "fl_L_ql_final_aer = fl_L_ql_final['average_episode_rewards'][0]\n",
    "\n",
    "fl_L_ql_meanv = pd.read_csv(\"csv/fl_L/qlearning/MeanV.csv\")\n",
    "fl_L_ql_mean_delta_v = pd.read_csv(\"csv/fl_L/qlearning/results_mean_delta_v.csv\")\n",
    "fl_L_ql_v_track = pd.read_csv(\"csv/fl_L/qlearning/results_v_track.csv\")"
   ]
  },
  {
   "cell_type": "code",
   "execution_count": null,
   "metadata": {},
   "outputs": [],
   "source": [
    "size = (16, 16)\n",
    "fl_heatmap(size=size, V=fl_L_ql_final_V)\n",
    "fl_policy_map(pi=np.array(fl_L_ql_final_pi), V=np.array(fl_L_ql_final_V), size=size)"
   ]
  },
  {
   "cell_type": "markdown",
   "metadata": {},
   "source": [
    "$$\n",
    "\\textbf{Policy Iteration}\\\\\n",
    "\\textbf{Final}\n",
    "$$"
   ]
  },
  {
   "cell_type": "code",
   "execution_count": null,
   "metadata": {},
   "outputs": [],
   "source": [
    "fl_L_pi_final = pd.read_csv(\"csv/fl_L/pi/results_pi_final.csv\")\n",
    "fl_L_pi_final_V = fl_L_pi_final['V'][:256]\n",
    "fl_L_pi_final_pi = fl_L_pi_final['pi'][:256]\n",
    "fl_L_pi_final_cs = fl_L_pi_final['cumulative_sum']\n",
    "fl_L_pi_final_er = fl_L_pi_final['episode_rewards']\n",
    "fl_L_pi_final_aer = fl_L_pi_final['average_episode_rewards'][0]\n",
    "\n",
    "fl_L_pi_meanv = pd.read_csv(\"csv/fl_L/pi/MeanV.csv\")\n",
    "fl_L_pi_mean_delta_v = pd.read_csv(\"csv/fl_L/pi/results_mean_delta_v.csv\")\n",
    "fl_L_pi_v_track = pd.read_csv(\"csv/fl_L/pi/results_v_track.csv\")"
   ]
  },
  {
   "cell_type": "code",
   "execution_count": null,
   "metadata": {},
   "outputs": [],
   "source": [
    "size=(16, 16)\n",
    "fl_heatmap(size=size, V=fl_L_pi_final_V)\n",
    "fl_policy_map(pi=np.array(fl_L_pi_final_pi), V=np.array(fl_L_pi_final_V), size=size)"
   ]
  },
  {
   "cell_type": "markdown",
   "metadata": {},
   "source": [
    "$$\n",
    "\\textbf{Value Iteration}\\\\\n",
    "\\textbf{Final}\n",
    "$$"
   ]
  },
  {
   "cell_type": "code",
   "execution_count": null,
   "metadata": {},
   "outputs": [],
   "source": [
    "fl_L_vi_final = pd.read_csv(\"csv/fl_L/vi/results_vi_final.csv\")\n",
    "fl_L_vi_final_V = fl_L_vi_final['V'][:256]\n",
    "fl_L_vi_final_pi = fl_L_vi_final['pi'][:256]\n",
    "fl_L_vi_final_cs = fl_L_vi_final['cumulative_sum']\n",
    "fl_L_vi_final_er = fl_L_vi_final['episode_rewards']\n",
    "fl_L_vi_final_aer = fl_L_vi_final['average_episode_rewards'][0]\n",
    "\n",
    "fl_L_vi_meanv = pd.read_csv(\"csv/fl_L/vi/MeanV.csv\")\n",
    "fl_L_vi_mean_delta_v = pd.read_csv(\"csv/fl_L/vi/results_mean_delta_v.csv\")\n",
    "fl_L_vi_v_track = pd.read_csv(\"csv/fl_L/vi/results_v_track.csv\")"
   ]
  },
  {
   "cell_type": "code",
   "execution_count": null,
   "metadata": {},
   "outputs": [],
   "source": [
    "size = (16, 16)\n",
    "fl_heatmap(size=size, V=fl_L_vi_final_V)\n",
    "fl_policy_map(pi=np.array(fl_L_vi_final_pi), V=np.array(fl_L_vi_final_V), size=size)"
   ]
  },
  {
   "cell_type": "code",
   "execution_count": null,
   "metadata": {},
   "outputs": [],
   "source": []
  }
 ],
 "metadata": {
  "kernelspec": {
   "display_name": "mlmdp",
   "language": "python",
   "name": "python3"
  },
  "language_info": {
   "codemirror_mode": {
    "name": "ipython",
    "version": 3
   },
   "file_extension": ".py",
   "mimetype": "text/x-python",
   "name": "python",
   "nbconvert_exporter": "python",
   "pygments_lexer": "ipython3",
   "version": "3.12.2"
  }
 },
 "nbformat": 4,
 "nbformat_minor": 2
}
