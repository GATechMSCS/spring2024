{
 "cells": [
  {
   "cell_type": "code",
   "execution_count": 9,
   "metadata": {},
   "outputs": [],
   "source": [
    "import pandas as pd\n",
    "import numpy as np\n",
    "import seaborn as sns\n",
    "import matplotlib.pyplot as plt\n",
    "from bettermdptools.utils.plots import Plots"
   ]
  },
  {
   "cell_type": "markdown",
   "metadata": {},
   "source": [
    "$$\n",
    "\\textbf{Blackjack}\\\\~\\\\\n",
    "\\textbf{Q Learning}\\\\\n",
    "\\textbf{Gamma}\n",
    "$$"
   ]
  },
  {
   "cell_type": "code",
   "execution_count": 10,
   "metadata": {},
   "outputs": [],
   "source": [
    "ql_bj_gamma9 = pd.read_csv(\"csv/bj/qlearning/ql_bj_gamma9.csv\")\n",
    "ql_bj_gamma99 = pd.read_csv(\"csv/bj/qlearning/ql_bj_gamma99.csv\")\n",
    "ql_bj_gamma999 = pd.read_csv(\"csv/bj/qlearning/ql_bj_gamma999.csv\")"
   ]
  },
  {
   "cell_type": "markdown",
   "metadata": {},
   "source": [
    "$$\n",
    "\\textbf{Q Learning}\\\\\n",
    "\\textbf{Epsilon Decay Ratio}\n",
    "$$"
   ]
  },
  {
   "cell_type": "code",
   "execution_count": 11,
   "metadata": {},
   "outputs": [],
   "source": [
    "ql_bj_edr8 = pd.read_csv(\"csv/bj/qlearning/ql_bj_edr9.csv\")\n",
    "ql_bj_edr99 = pd.read_csv(\"csv/bj/qlearning/ql_bj_edr99.csv\")\n",
    "ql_bj_edr999 = pd.read_csv(\"csv/bj/qlearning/ql_bj_edr999.csv\")"
   ]
  },
  {
   "cell_type": "markdown",
   "metadata": {},
   "source": [
    "$$\n",
    "\\textbf{Q Learning}\\\\\n",
    "\\textbf{Init Alpha}\n",
    "$$"
   ]
  },
  {
   "cell_type": "code",
   "execution_count": 12,
   "metadata": {},
   "outputs": [],
   "source": [
    "ql_bj_alpha3 = pd.read_csv(\"csv/bj/qlearning/ql_bj_alpha3.csv\")\n",
    "ql_bj_alpha5 = pd.read_csv(\"csv/bj/qlearning/ql_bj_alpha5.csv\")\n",
    "ql_bj_alpha7 = pd.read_csv(\"csv/bj/qlearning/ql_bj_alpha7.csv\")"
   ]
  },
  {
   "cell_type": "markdown",
   "metadata": {},
   "source": [
    "$$\n",
    "\\textbf{Policy Iteration}\\\\\n",
    "\\textbf{Gamma}\n",
    "$$"
   ]
  },
  {
   "cell_type": "code",
   "execution_count": 13,
   "metadata": {},
   "outputs": [],
   "source": [
    "bj_pi_gam9 = pd.read_csv(\"csv/bj/pi/bj_pi_gam9.csv\")\n",
    "bj_pi_gam99 = pd.read_csv(\"csv/bj/pi/bj_pi_gam99.csv\")\n",
    "bj_pi_gam999 = pd.read_csv(\"csv/bj/pi/bj_pi_gam999.csv\")"
   ]
  },
  {
   "cell_type": "markdown",
   "metadata": {},
   "source": [
    "$$\n",
    "\\textbf{Policy Iteration}\\\\\n",
    "\\textbf{Theta}\n",
    "$$"
   ]
  },
  {
   "cell_type": "code",
   "execution_count": 14,
   "metadata": {},
   "outputs": [],
   "source": [
    "bj_pi_theta5 = pd.read_csv(\"csv/bj/pi/bj_pi_theta5.csv\")\n",
    "bj_pi_theta7 = pd.read_csv(\"csv/bj/pi/bj_pi_theta7.csv\")\n",
    "bj_pi_theta9 = pd.read_csv(\"csv/bj/pi/bj_pi_theta9.csv\")"
   ]
  },
  {
   "cell_type": "markdown",
   "metadata": {},
   "source": [
    "$$\n",
    "\\textbf{Value Iteration}\\\\\n",
    "\\textbf{Gamma}\n",
    "$$"
   ]
  },
  {
   "cell_type": "code",
   "execution_count": 15,
   "metadata": {},
   "outputs": [],
   "source": [
    "bj_vi_gam9 = pd.read_csv(\"csv/bj/vi/bj_vi_gam9.csv\")\n",
    "bj_vi_gam99= pd.read_csv(\"csv/bj/vi/bj_vi_gam99.csv\")\n",
    "bj_vi_gam999 = pd.read_csv(\"csv/bj/vi/bj_vi_gam999.csv\")"
   ]
  },
  {
   "cell_type": "markdown",
   "metadata": {},
   "source": [
    "$$\n",
    "\\textbf{Value Iteration}\\\\\n",
    "\\textbf{Theta}\n",
    "$$"
   ]
  },
  {
   "cell_type": "code",
   "execution_count": 16,
   "metadata": {},
   "outputs": [],
   "source": [
    "bj_vi_theta5 = pd.read_csv(\"csv/bj/vi/bj_vi_theta5.csv\")\n",
    "bj_vi_theta7 = pd.read_csv(\"csv/bj/vi/bj_vi_theta7.csv\")\n",
    "bj_vi_theta9 = pd.read_csv(\"csv/bj/vi/bj_vi_theta9.csv\")"
   ]
  }
 ],
 "metadata": {
  "kernelspec": {
   "display_name": "mlmdp",
   "language": "python",
   "name": "python3"
  },
  "language_info": {
   "codemirror_mode": {
    "name": "ipython",
    "version": 3
   },
   "file_extension": ".py",
   "mimetype": "text/x-python",
   "name": "python",
   "nbconvert_exporter": "python",
   "pygments_lexer": "ipython3",
   "version": "3.12.2"
  }
 },
 "nbformat": 4,
 "nbformat_minor": 2
}
