{
 "cells": [
  {
   "cell_type": "markdown",
   "metadata": {},
   "source": [
    "### IMPORTS"
   ]
  },
  {
   "cell_type": "code",
   "execution_count": 8,
   "metadata": {},
   "outputs": [],
   "source": [
    "# manipulate data\n",
    "import numpy as np\n",
    "import pandas as pd\n",
    "\n",
    "# statistical tests\n",
    "import scipy as sp\n",
    "\n",
    "# visualize data\n",
    "import matplotlib.pyplot as plt\n",
    "import seaborn as sn\n",
    "\n",
    "# model preparation\n",
    "from sklearn.model_selection import (train_test_split, cross_val_score,\n",
    "                                     GridSearchCV, RandomizedSearchCV)\n",
    "\n",
    "# machine learning models\n",
    "from sklearn.neighbors import KNeighborsClassifier, KNeighborsRegressor\n",
    "from sklearn.svm import (SVC, NuSVC, LinearSVC,\n",
    "                         SVR, NuSVR, LinearSVR, OneClassSVM)\n",
    "from sklearn.tree import DecisionTreeClassifier, DecisionTreeRegressor\n",
    "from sklearn.neural_network import MLPClassifier, MLPRegressor\n",
    "\n",
    "# model evaluation\n",
    "from sklearn.metrics import (classification_report, ConfusionMatrixDisplay,\n",
    "                            RocCurveDisplay, accuracy_score, f1_score,\n",
    "                            precision_score, recall_score,\n",
    "                            mean_squared_error, r2_score, mean_absolute_error,\n",
    "                            explained_variance_score)"
   ]
  },
  {
   "cell_type": "code",
   "execution_count": 9,
   "metadata": {},
   "outputs": [],
   "source": [
    "# TENSORFLOW/PYTORCH IMPORTS\n",
    "# from tensorflow.keras.layers import (Dense, Dropout, Activation, Flatten,\n",
    "#                                      Conv2D, MaxPooling2D)\n",
    "# from tensorflow.keras.preprocessing.image import ImageDataGenerator\n",
    "# from tensorflow.keras.callbacks import TensorBoard, EarlyStopping\n",
    "# from tensorflow.keras.models import Sequential\n",
    "# import tensorflow as tf\n",
    "# import pytorch as py"
   ]
  },
  {
   "cell_type": "code",
   "execution_count": 10,
   "metadata": {},
   "outputs": [],
   "source": [
    "# reg_models = {\n",
    "#         #Generalized Linear Models (GLMs)\n",
    "#         'linear':{'model': linear_model.LinearRegression()}, \n",
    "#         'linear_poly':{'model': make_pipeline(PolynomialFeatures(degree=2),\n",
    "#                               linear_model.LinearRegression(fit_intercept=False)) },\n",
    "#         'linear_interact':{'model': make_pipeline(PolynomialFeatures(interaction_only=True),\n",
    "#                               linear_model.LinearRegression(fit_intercept=False)) },\n",
    "#         'ridge':{'model': linear_model.RidgeCV(alphas=[1e-3, 1e-2, 1e-1, 1]) }, \n",
    "#         #Trees  \n",
    "#         'decision_tree':{'model': tree.DecisionTreeRegressor(max_depth=7, random_state=rand)},\n",
    "#         #RuleFit\n",
    "#         'rulefit':{'model': RuleFit(max_rules=150, rfmode='regress', random_state=rand)}, \n",
    "#         #Nearest Neighbors\n",
    "#         'knn':{'model': neighbors.KNeighborsRegressor(n_neighbors=7)}, \n",
    "#         #Ensemble Methods\n",
    "#         'random_forest':{'model':ensemble.RandomForestRegressor(max_depth=7, random_state=rand)}, \n",
    "#         #Neural Networks\n",
    "#         'mlp':{'model':neural_network.MLPRegressor(hidden_layer_sizes=(21,), max_iter=500, \n",
    "#                                                    early_stopping=True, random_state=rand)}\n",
    "#     }"
   ]
  },
  {
   "cell_type": "code",
   "execution_count": 11,
   "metadata": {},
   "outputs": [],
   "source": [
    "# for model_name in reg_models.keys():\n",
    "#     if model_name != 'rulefit':\n",
    "#         fitted_model = reg_models[model_name]['model'].fit(X_train, y_train_reg)\n",
    "#     else:\n",
    "#         fitted_model = reg_models[model_name]['model'].fit(X_train.values, y_train_reg.values, X_test.columns)\n",
    "#     y_train_pred = fitted_model.predict(X_train.values)\n",
    "#     y_test_pred = fitted_model.predict(X_test.values)\n",
    "#     reg_models[model_name]['fitted'] = fitted_model\n",
    "#     reg_models[model_name]['preds'] = y_test_pred\n",
    "#     reg_models[model_name]['RMSE_train'] = math.sqrt(metrics.mean_squared_error(y_train_reg, y_train_pred))\n",
    "#     reg_models[model_name]['RMSE_test'] = math.sqrt(metrics.mean_squared_error(y_test_reg, y_test_pred))\n",
    "#     reg_models[model_name]['R2_test'] = metrics.r2_score(y_test_reg, y_test_pred)"
   ]
  },
  {
   "cell_type": "code",
   "execution_count": 12,
   "metadata": {},
   "outputs": [],
   "source": [
    "# class_models = {\n",
    "#         #Generalized Linear Models (GLMs)\n",
    "#         'logistic':{'model': linear_model.LogisticRegression()}, \n",
    "#         'ridge':{'model': linear_model.RidgeClassifierCV(cv=5, alphas=[1e-3, 1e-2, 1e-1, 1],\\\n",
    "#                                                          class_weight='balanced')},  \n",
    "#         #Tree\n",
    "#         'decision_tree':{'model': tree.DecisionTreeClassifier(max_depth=7, random_state=rand)},\n",
    "#         #Nearest Neighbors\n",
    "#         'knn':{'model': neighbors.KNeighborsClassifier(n_neighbors=7)}, \n",
    "#         #Naive Bayes\n",
    "#         'naive_bayes':{'model': naive_bayes.GaussianNB()},\n",
    "#         #Ensemble Methods\n",
    "#         'gradient_boosting':{'model':ensemble.GradientBoostingClassifier(n_estimators=210)},\n",
    "#         'random_forest':{'model':ensemble.RandomForestClassifier(max_depth=11,\\\n",
    "#                                                                  class_weight='balanced', random_state=rand)},\n",
    "#         #Neural Networks\n",
    "#         'mlp':{'model':make_pipeline(StandardScaler(),\\\n",
    "#                                      neural_network.MLPClassifier(hidden_layer_sizes=(7,), max_iter=500,\\\n",
    "#                                                    early_stopping=True, random_state=rand))}\n",
    "#     }"
   ]
  },
  {
   "cell_type": "code",
   "execution_count": 13,
   "metadata": {},
   "outputs": [],
   "source": [
    "# for model_name in class_models.keys():\n",
    "#     fitted_model = class_models[model_name]['model'].fit(X_train, y_train_class)\n",
    "#     y_train_pred = fitted_model.predict(X_train.values)\n",
    "#     if model_name == 'ridge':\n",
    "#         y_test_pred = fitted_model.predict(X_test.values) \n",
    "#     else:\n",
    "#         y_test_prob = fitted_model.predict_proba(X_test.values)[:,1]\n",
    "#         y_test_pred = np.where(y_test_prob > 0.5, 1, 0)\n",
    "#     class_models[model_name]['fitted'] = fitted_model\n",
    "#     class_models[model_name]['probs'] = y_test_prob\n",
    "#     class_models[model_name]['preds'] = y_test_pred\n",
    "#     class_models[model_name]['Accuracy_train'] = metrics.accuracy_score(y_train_class, y_train_pred)\n",
    "#     class_models[model_name]['Accuracy_test'] = metrics.accuracy_score(y_test_class, y_test_pred)\n",
    "#     class_models[model_name]['Recall_train'] = metrics.recall_score(y_train_class, y_train_pred)\n",
    "#     class_models[model_name]['Recall_test'] = metrics.recall_score(y_test_class, y_test_pred)\n",
    "#     if model_name != 'ridge':\n",
    "#         class_models[model_name]['ROC_AUC_test'] = metrics.roc_auc_score(y_test_class, y_test_prob)\n",
    "#     else:\n",
    "#         class_models[model_name]['ROC_AUC_test'] = 0\n",
    "#     class_models[model_name]['F1_test'] = metrics.f1_score(y_test_class, y_test_pred)\n",
    "#     class_models[model_name]['MCC_test'] = metrics.matthews_corrcoef(y_test_class, y_test_pred)"
   ]
  },
  {
   "cell_type": "code",
   "execution_count": null,
   "metadata": {},
   "outputs": [],
   "source": []
  }
 ],
 "metadata": {
  "kernelspec": {
   "display_name": "ml",
   "language": "python",
   "name": "python3"
  },
  "language_info": {
   "codemirror_mode": {
    "name": "ipython",
    "version": 3
   },
   "file_extension": ".py",
   "mimetype": "text/x-python",
   "name": "python",
   "nbconvert_exporter": "python",
   "pygments_lexer": "ipython3",
   "version": "3.11.7"
  }
 },
 "nbformat": 4,
 "nbformat_minor": 2
}
